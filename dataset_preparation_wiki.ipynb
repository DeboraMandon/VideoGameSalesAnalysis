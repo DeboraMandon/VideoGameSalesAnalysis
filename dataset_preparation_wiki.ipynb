{
 "cells": [
  {
   "attachments": {},
   "cell_type": "markdown",
   "metadata": {},
   "source": [
    "# Création dataset Wikipedia"
   ]
  },
  {
   "attachments": {},
   "cell_type": "markdown",
   "metadata": {},
   "source": [
    "## Importer les librairies et le DF"
   ]
  },
  {
   "cell_type": "code",
   "execution_count": 14,
   "metadata": {},
   "outputs": [],
   "source": [
    "import pandas as pd\n",
    "import re"
   ]
  },
  {
   "cell_type": "code",
   "execution_count": 2,
   "metadata": {},
   "outputs": [],
   "source": [
    "df_wiki=pd.read_csv('gaming_wikipedia.csv')\n"
   ]
  },
  {
   "cell_type": "markdown",
   "metadata": {},
   "source": [
    "### Obtenir l'info complète du DF"
   ]
  },
  {
   "cell_type": "code",
   "execution_count": 5,
   "metadata": {},
   "outputs": [],
   "source": [
    "pd.set_option('display.max_columns', None)\n",
    "pd.set_option('display.max_rows', None)\n",
    "pd.set_option('display.max_colwidth', None)"
   ]
  },
  {
   "attachments": {},
   "cell_type": "markdown",
   "metadata": {},
   "source": [
    "## Merger les 2 DF"
   ]
  },
  {
   "cell_type": "code",
   "execution_count": 24,
   "metadata": {},
   "outputs": [
    {
     "name": "stdout",
     "output_type": "stream",
     "text": [
      "<class 'pandas.core.frame.DataFrame'>\n",
      "Int64Index: 12109 entries, 0 to 12222\n",
      "Data columns (total 12 columns):\n",
      " #   Column            Non-Null Count  Dtype  \n",
      "---  ------            --------------  -----  \n",
      " 0   Rank              12109 non-null  int64  \n",
      " 1   Name              12109 non-null  object \n",
      " 2   Platform          12109 non-null  object \n",
      " 3   Year              11916 non-null  float64\n",
      " 4   Genre             12109 non-null  object \n",
      " 5   Publisher         12075 non-null  object \n",
      " 6   NA_Sales          12109 non-null  float64\n",
      " 7   EU_Sales          12109 non-null  float64\n",
      " 8   JP_Sales          12109 non-null  float64\n",
      " 9   Other_Sales       12109 non-null  float64\n",
      " 10  Global_Sales      12109 non-null  float64\n",
      " 11  description_wiki  12109 non-null  object \n",
      "dtypes: float64(6), int64(1), object(5)\n",
      "memory usage: 1.2+ MB\n"
     ]
    }
   ],
   "source": [
    "df_wiki=df_wiki.dropna(subset=['description_wiki'], )\n",
    "df_wiki.info()"
   ]
  },
  {
   "cell_type": "code",
   "execution_count": 25,
   "metadata": {},
   "outputs": [],
   "source": [
    "df_wiki2=pd.read_csv('gaming_wikipedia2.csv')"
   ]
  },
  {
   "cell_type": "code",
   "execution_count": 26,
   "metadata": {},
   "outputs": [
    {
     "name": "stdout",
     "output_type": "stream",
     "text": [
      "<class 'pandas.core.frame.DataFrame'>\n",
      "Int64Index: 4364 entries, 0 to 4374\n",
      "Data columns (total 12 columns):\n",
      " #   Column            Non-Null Count  Dtype  \n",
      "---  ------            --------------  -----  \n",
      " 0   Rank              4364 non-null   int64  \n",
      " 1   Name              4364 non-null   object \n",
      " 2   Platform          4364 non-null   object \n",
      " 3   Year              4286 non-null   float64\n",
      " 4   Genre             4364 non-null   object \n",
      " 5   Publisher         4340 non-null   object \n",
      " 6   NA_Sales          4364 non-null   float64\n",
      " 7   EU_Sales          4364 non-null   float64\n",
      " 8   JP_Sales          4364 non-null   float64\n",
      " 9   Other_Sales       4364 non-null   float64\n",
      " 10  Global_Sales      4364 non-null   float64\n",
      " 11  description_wiki  4364 non-null   object \n",
      "dtypes: float64(6), int64(1), object(5)\n",
      "memory usage: 443.2+ KB\n"
     ]
    }
   ],
   "source": [
    "df_wiki2=df_wiki2.dropna(subset=['description_wiki'])\n",
    "df_wiki2.info()"
   ]
  },
  {
   "cell_type": "code",
   "execution_count": 27,
   "metadata": {},
   "outputs": [
    {
     "data": {
      "text/html": [
       "<div>\n",
       "<style scoped>\n",
       "    .dataframe tbody tr th:only-of-type {\n",
       "        vertical-align: middle;\n",
       "    }\n",
       "\n",
       "    .dataframe tbody tr th {\n",
       "        vertical-align: top;\n",
       "    }\n",
       "\n",
       "    .dataframe thead th {\n",
       "        text-align: right;\n",
       "    }\n",
       "</style>\n",
       "<table border=\"1\" class=\"dataframe\">\n",
       "  <thead>\n",
       "    <tr style=\"text-align: right;\">\n",
       "      <th></th>\n",
       "      <th>Rank</th>\n",
       "      <th>Name</th>\n",
       "      <th>Platform</th>\n",
       "      <th>Year</th>\n",
       "      <th>Genre</th>\n",
       "      <th>Publisher</th>\n",
       "      <th>NA_Sales</th>\n",
       "      <th>EU_Sales</th>\n",
       "      <th>JP_Sales</th>\n",
       "      <th>Other_Sales</th>\n",
       "      <th>Global_Sales</th>\n",
       "      <th>description_wiki</th>\n",
       "    </tr>\n",
       "  </thead>\n",
       "  <tbody>\n",
       "    <tr>\n",
       "      <th>12221</th>\n",
       "      <td>12223</td>\n",
       "      <td>Insecticide</td>\n",
       "      <td>DS</td>\n",
       "      <td>2008.0</td>\n",
       "      <td>Action</td>\n",
       "      <td>Gamecock</td>\n",
       "      <td>0.06</td>\n",
       "      <td>0.00</td>\n",
       "      <td>0.0</td>\n",
       "      <td>0.0</td>\n",
       "      <td>0.07</td>\n",
       "      <td>no_data</td>\n",
       "    </tr>\n",
       "    <tr>\n",
       "      <th>12222</th>\n",
       "      <td>12224</td>\n",
       "      <td>C: The Contra Adventure</td>\n",
       "      <td>PS</td>\n",
       "      <td>1998.0</td>\n",
       "      <td>Shooter</td>\n",
       "      <td>Konami Digital Entertainment</td>\n",
       "      <td>0.04</td>\n",
       "      <td>0.02</td>\n",
       "      <td>0.0</td>\n",
       "      <td>0.0</td>\n",
       "      <td>0.07</td>\n",
       "      <td>no_data</td>\n",
       "    </tr>\n",
       "  </tbody>\n",
       "</table>\n",
       "</div>"
      ],
      "text/plain": [
       "        Rank                     Name Platform    Year    Genre  \\\n",
       "12221  12223              Insecticide       DS  2008.0   Action   \n",
       "12222  12224  C: The Contra Adventure       PS  1998.0  Shooter   \n",
       "\n",
       "                          Publisher  NA_Sales  EU_Sales  JP_Sales  \\\n",
       "12221                      Gamecock      0.06      0.00       0.0   \n",
       "12222  Konami Digital Entertainment      0.04      0.02       0.0   \n",
       "\n",
       "       Other_Sales  Global_Sales description_wiki  \n",
       "12221          0.0          0.07          no_data  \n",
       "12222          0.0          0.07          no_data  "
      ]
     },
     "execution_count": 27,
     "metadata": {},
     "output_type": "execute_result"
    }
   ],
   "source": [
    "df_wiki.tail(2)"
   ]
  },
  {
   "cell_type": "code",
   "execution_count": 28,
   "metadata": {},
   "outputs": [
    {
     "data": {
      "text/html": [
       "<div>\n",
       "<style scoped>\n",
       "    .dataframe tbody tr th:only-of-type {\n",
       "        vertical-align: middle;\n",
       "    }\n",
       "\n",
       "    .dataframe tbody tr th {\n",
       "        vertical-align: top;\n",
       "    }\n",
       "\n",
       "    .dataframe thead th {\n",
       "        text-align: right;\n",
       "    }\n",
       "</style>\n",
       "<table border=\"1\" class=\"dataframe\">\n",
       "  <thead>\n",
       "    <tr style=\"text-align: right;\">\n",
       "      <th></th>\n",
       "      <th>Rank</th>\n",
       "      <th>Name</th>\n",
       "      <th>Platform</th>\n",
       "      <th>Year</th>\n",
       "      <th>Genre</th>\n",
       "      <th>Publisher</th>\n",
       "      <th>NA_Sales</th>\n",
       "      <th>EU_Sales</th>\n",
       "      <th>JP_Sales</th>\n",
       "      <th>Other_Sales</th>\n",
       "      <th>Global_Sales</th>\n",
       "      <th>description_wiki</th>\n",
       "    </tr>\n",
       "  </thead>\n",
       "  <tbody>\n",
       "    <tr>\n",
       "      <th>0</th>\n",
       "      <td>12225</td>\n",
       "      <td>Interactive Storybook DS Series 1</td>\n",
       "      <td>DS</td>\n",
       "      <td>2007.0</td>\n",
       "      <td>Misc</td>\n",
       "      <td>Tommo</td>\n",
       "      <td>0.06</td>\n",
       "      <td>0.00</td>\n",
       "      <td>0.0</td>\n",
       "      <td>0.0</td>\n",
       "      <td>0.07</td>\n",
       "      <td>no_data</td>\n",
       "    </tr>\n",
       "    <tr>\n",
       "      <th>1</th>\n",
       "      <td>12226</td>\n",
       "      <td>Frogger Advance: The Great Quest</td>\n",
       "      <td>GBA</td>\n",
       "      <td>2002.0</td>\n",
       "      <td>Action</td>\n",
       "      <td>Konami Digital Entertainment</td>\n",
       "      <td>0.05</td>\n",
       "      <td>0.02</td>\n",
       "      <td>0.0</td>\n",
       "      <td>0.0</td>\n",
       "      <td>0.07</td>\n",
       "      <td>no_data</td>\n",
       "    </tr>\n",
       "  </tbody>\n",
       "</table>\n",
       "</div>"
      ],
      "text/plain": [
       "    Rank                               Name Platform    Year   Genre  \\\n",
       "0  12225  Interactive Storybook DS Series 1       DS  2007.0    Misc   \n",
       "1  12226   Frogger Advance: The Great Quest      GBA  2002.0  Action   \n",
       "\n",
       "                      Publisher  NA_Sales  EU_Sales  JP_Sales  Other_Sales  \\\n",
       "0                         Tommo      0.06      0.00       0.0          0.0   \n",
       "1  Konami Digital Entertainment      0.05      0.02       0.0          0.0   \n",
       "\n",
       "   Global_Sales description_wiki  \n",
       "0          0.07          no_data  \n",
       "1          0.07          no_data  "
      ]
     },
     "execution_count": 28,
     "metadata": {},
     "output_type": "execute_result"
    }
   ],
   "source": [
    "df_wiki2.head(2)"
   ]
  },
  {
   "cell_type": "code",
   "execution_count": 29,
   "metadata": {},
   "outputs": [
    {
     "name": "stdout",
     "output_type": "stream",
     "text": [
      "<class 'pandas.core.frame.DataFrame'>\n",
      "Int64Index: 16473 entries, 0 to 4374\n",
      "Data columns (total 12 columns):\n",
      " #   Column            Non-Null Count  Dtype  \n",
      "---  ------            --------------  -----  \n",
      " 0   Rank              16473 non-null  int64  \n",
      " 1   Name              16473 non-null  object \n",
      " 2   Platform          16473 non-null  object \n",
      " 3   Year              16202 non-null  float64\n",
      " 4   Genre             16473 non-null  object \n",
      " 5   Publisher         16415 non-null  object \n",
      " 6   NA_Sales          16473 non-null  float64\n",
      " 7   EU_Sales          16473 non-null  float64\n",
      " 8   JP_Sales          16473 non-null  float64\n",
      " 9   Other_Sales       16473 non-null  float64\n",
      " 10  Global_Sales      16473 non-null  float64\n",
      " 11  description_wiki  16473 non-null  object \n",
      "dtypes: float64(6), int64(1), object(5)\n",
      "memory usage: 1.6+ MB\n"
     ]
    }
   ],
   "source": [
    "df_wiki_new=pd.concat([df_wiki, df_wiki2])\n",
    "df_wiki_new.info()"
   ]
  },
  {
   "cell_type": "code",
   "execution_count": 30,
   "metadata": {},
   "outputs": [
    {
     "data": {
      "text/html": [
       "<div>\n",
       "<style scoped>\n",
       "    .dataframe tbody tr th:only-of-type {\n",
       "        vertical-align: middle;\n",
       "    }\n",
       "\n",
       "    .dataframe tbody tr th {\n",
       "        vertical-align: top;\n",
       "    }\n",
       "\n",
       "    .dataframe thead th {\n",
       "        text-align: right;\n",
       "    }\n",
       "</style>\n",
       "<table border=\"1\" class=\"dataframe\">\n",
       "  <thead>\n",
       "    <tr style=\"text-align: right;\">\n",
       "      <th></th>\n",
       "      <th>Rank</th>\n",
       "      <th>Name</th>\n",
       "      <th>Platform</th>\n",
       "      <th>Year</th>\n",
       "      <th>Genre</th>\n",
       "      <th>Publisher</th>\n",
       "      <th>NA_Sales</th>\n",
       "      <th>EU_Sales</th>\n",
       "      <th>JP_Sales</th>\n",
       "      <th>Other_Sales</th>\n",
       "      <th>Global_Sales</th>\n",
       "      <th>description_wiki</th>\n",
       "    </tr>\n",
       "  </thead>\n",
       "  <tbody>\n",
       "    <tr>\n",
       "      <th>0</th>\n",
       "      <td>1</td>\n",
       "      <td>Wii Sports</td>\n",
       "      <td>Wii</td>\n",
       "      <td>2006.0</td>\n",
       "      <td>Sports</td>\n",
       "      <td>Nintendo</td>\n",
       "      <td>41.49</td>\n",
       "      <td>29.02</td>\n",
       "      <td>3.77</td>\n",
       "      <td>8.46</td>\n",
       "      <td>82.74</td>\n",
       "      <td>Wii Sports\\nLogo officiel de Wii Sports.\\nDéveloppeur\\nNintendo EAD\\nÉditeur\\nNintendo\\nRéalisateur\\nKatsuya Eguchi (producteur)\\nKiyoshi Mizuki (producteur)\\nShigeru Miyamoto (producteur)\\nKeizo Ohta (réalisateur)\\nTakayuki Shimamura (réalisateur)\\nYoshikazu Yamashita (réalisateur)\\nCompositeur\\nKazumi Totaka\\nProducteur\\nShigeru Miyamoto, Katsuya Eguchi\\nDate de sortie\\nAN 19 novembre 2006\\nJPN 2 décembre 2006\\nAUS 7 décembre 2006\\nEUR 8 décembre 2006\\nKOR 26 avril 2008\\nCHN 12 juillet 2008\\nGenre\\nSport\\nMode de jeu\\nUn joueur\\nMultijoueur (de 2 à 4)\\nPlateforme\\nWii\\nLangue\\nMultilingue\\nÉvaluation\\nCERO : A ?\\nESRB : E ?\\nPEGI : 7+ ?\\nUSK : 0 ?\\nSite web\\nwiisports.nintendo.com\\nWii (série) et Wii Sports (d)\\n- Wii Sports Resort\\nmodifier - modifier le code - modifier Wikidata</td>\n",
       "    </tr>\n",
       "    <tr>\n",
       "      <th>1</th>\n",
       "      <td>2</td>\n",
       "      <td>Super Mario Bros.</td>\n",
       "      <td>NES</td>\n",
       "      <td>1985.0</td>\n",
       "      <td>Platform</td>\n",
       "      <td>Nintendo</td>\n",
       "      <td>29.08</td>\n",
       "      <td>3.58</td>\n",
       "      <td>6.81</td>\n",
       "      <td>0.77</td>\n",
       "      <td>40.24</td>\n",
       "      <td>Ne doit pas être confondu avec Mario Bros. ou Mario Bros. (Game and Watch).</td>\n",
       "    </tr>\n",
       "    <tr>\n",
       "      <th>2</th>\n",
       "      <td>3</td>\n",
       "      <td>Mario Kart Wii</td>\n",
       "      <td>Wii</td>\n",
       "      <td>2008.0</td>\n",
       "      <td>Racing</td>\n",
       "      <td>Nintendo</td>\n",
       "      <td>15.85</td>\n",
       "      <td>12.88</td>\n",
       "      <td>3.79</td>\n",
       "      <td>3.31</td>\n",
       "      <td>35.82</td>\n",
       "      <td>Mario Kart Wii\\nLogo officiel de Mario Kart Wii.\\nDéveloppeur\\nNintendo EAD\\nÉditeur\\nNintendo\\nRéalisateur\\nHideki Konno (producteur)\\nYasuyuki Oyagi (réalisateur)\\nProducteur\\nHideki Konno\\nDate de sortie\\nJAP : 10 avril 2008\\nEUR : 11 avril 2008\\nAUS : 24 avril 2008\\nAN : 27 avril 2008\\nKOR : 30 avril 2008\\nGenre\\nCourse\\nCombat motorisé\\nMode de jeu\\nLocal\\n1 à 4 joueurs\\nEn ligne (jusqu'au 20 mai 2014)\\n2 à 12 joueurs\\nPlateforme\\nWii\\nLangue\\nMultilingue\\nÉvaluation\\nCERO : A ?\\nESRB : E ?\\nOFLC (AU) : G ?\\nPEGI : 3+ ?\\nSite web\\nSite officiel\\nMario Kart\\nMario Kart DS Mario Kart 7\\nmodifier - modifier le code - modifier Wikidata</td>\n",
       "    </tr>\n",
       "  </tbody>\n",
       "</table>\n",
       "</div>"
      ],
      "text/plain": [
       "   Rank               Name Platform    Year     Genre Publisher  NA_Sales  \\\n",
       "0     1         Wii Sports      Wii  2006.0    Sports  Nintendo     41.49   \n",
       "1     2  Super Mario Bros.      NES  1985.0  Platform  Nintendo     29.08   \n",
       "2     3     Mario Kart Wii      Wii  2008.0    Racing  Nintendo     15.85   \n",
       "\n",
       "   EU_Sales  JP_Sales  Other_Sales  Global_Sales  \\\n",
       "0     29.02      3.77         8.46         82.74   \n",
       "1      3.58      6.81         0.77         40.24   \n",
       "2     12.88      3.79         3.31         35.82   \n",
       "\n",
       "                                                                                                                                                                                                                                                                                                                                                                                                                                                                                                                                                                                                                                                                                                                                                                                                           description_wiki  \n",
       "0  Wii Sports\\nLogo officiel de Wii Sports.\\nDéveloppeur\\nNintendo EAD\\nÉditeur\\nNintendo\\nRéalisateur\\nKatsuya Eguchi (producteur)\\nKiyoshi Mizuki (producteur)\\nShigeru Miyamoto (producteur)\\nKeizo Ohta (réalisateur)\\nTakayuki Shimamura (réalisateur)\\nYoshikazu Yamashita (réalisateur)\\nCompositeur\\nKazumi Totaka\\nProducteur\\nShigeru Miyamoto, Katsuya Eguchi\\nDate de sortie\\nAN 19 novembre 2006\\nJPN 2 décembre 2006\\nAUS 7 décembre 2006\\nEUR 8 décembre 2006\\nKOR 26 avril 2008\\nCHN 12 juillet 2008\\nGenre\\nSport\\nMode de jeu\\nUn joueur\\nMultijoueur (de 2 à 4)\\nPlateforme\\nWii\\nLangue\\nMultilingue\\nÉvaluation\\nCERO : A ?\\nESRB : E ?\\nPEGI : 7+ ?\\nUSK : 0 ?\\nSite web\\nwiisports.nintendo.com\\nWii (série) et Wii Sports (d)\\n- Wii Sports Resort\\nmodifier - modifier le code - modifier Wikidata  \n",
       "1                                                                                                                                                                                                                                                                                                                                                                                                                                                                                                                                                                                                                                                                                                                                               Ne doit pas être confondu avec Mario Bros. ou Mario Bros. (Game and Watch).  \n",
       "2                                                                                                                                                      Mario Kart Wii\\nLogo officiel de Mario Kart Wii.\\nDéveloppeur\\nNintendo EAD\\nÉditeur\\nNintendo\\nRéalisateur\\nHideki Konno (producteur)\\nYasuyuki Oyagi (réalisateur)\\nProducteur\\nHideki Konno\\nDate de sortie\\nJAP : 10 avril 2008\\nEUR : 11 avril 2008\\nAUS : 24 avril 2008\\nAN : 27 avril 2008\\nKOR : 30 avril 2008\\nGenre\\nCourse\\nCombat motorisé\\nMode de jeu\\nLocal\\n1 à 4 joueurs\\nEn ligne (jusqu'au 20 mai 2014)\\n2 à 12 joueurs\\nPlateforme\\nWii\\nLangue\\nMultilingue\\nÉvaluation\\nCERO : A ?\\nESRB : E ?\\nOFLC (AU) : G ?\\nPEGI : 3+ ?\\nSite web\\nSite officiel\\nMario Kart\\nMario Kart DS Mario Kart 7\\nmodifier - modifier le code - modifier Wikidata  "
      ]
     },
     "execution_count": 30,
     "metadata": {},
     "output_type": "execute_result"
    }
   ],
   "source": [
    "df_wiki_new.head(3)"
   ]
  },
  {
   "cell_type": "code",
   "execution_count": 110,
   "metadata": {},
   "outputs": [],
   "source": [
    "#df_wiki_new=df_wiki_new.drop(['Rank', 'Genre', 'Publisher', 'NA_Sales', 'EU_Sales', 'JP_Sales', 'Other_Sales', 'Global_Sales'], axis=1)"
   ]
  },
  {
   "attachments": {},
   "cell_type": "markdown",
   "metadata": {},
   "source": [
    "## Extraire les infos utiles de la colonne description"
   ]
  },
  {
   "cell_type": "code",
   "execution_count": 31,
   "metadata": {},
   "outputs": [
    {
     "name": "stdout",
     "output_type": "stream",
     "text": [
      "<class 'pandas.core.frame.DataFrame'>\n",
      "Int64Index: 16473 entries, 0 to 4374\n",
      "Data columns (total 16 columns):\n",
      " #   Column            Non-Null Count  Dtype  \n",
      "---  ------            --------------  -----  \n",
      " 0   Rank              16473 non-null  int64  \n",
      " 1   Name              16473 non-null  object \n",
      " 2   Platform          16473 non-null  object \n",
      " 3   Year              16202 non-null  float64\n",
      " 4   Genre             16473 non-null  object \n",
      " 5   Publisher         16415 non-null  object \n",
      " 6   NA_Sales          16473 non-null  float64\n",
      " 7   EU_Sales          16473 non-null  float64\n",
      " 8   JP_Sales          16473 non-null  float64\n",
      " 9   Other_Sales       16473 non-null  float64\n",
      " 10  Global_Sales      16473 non-null  float64\n",
      " 11  description_wiki  16473 non-null  object \n",
      " 12  developpeur_wiki  3086 non-null   object \n",
      " 13  langue_wiki       1432 non-null   object \n",
      " 14  PEGI_wiki         1082 non-null   object \n",
      " 15  game_mode_wiki    2829 non-null   object \n",
      "dtypes: float64(6), int64(1), object(9)\n",
      "memory usage: 2.1+ MB\n"
     ]
    }
   ],
   "source": [
    "df_wiki_new[\"developpeur_wiki\"] = df_wiki_new[\"description_wiki\"].str.extract(r\"Développeur\\s*\\n(.+?)(?=\\n)\", flags=re.IGNORECASE | re.DOTALL)\n",
    "#df_wiki_new[\"distributeur_wiki\"] = df_wiki_new[\"description_wiki\"].str.extract(\"Distributeur[s]?\\s?:\\s?(.*)\", flags=re.IGNORECASE)\n",
    "df_wiki_new[\"langue_wiki\"] = df_wiki_new[\"description_wiki\"].str.extract(r\"Langue\\s*\\n(.+?)(?=\\n)\", flags=re.IGNORECASE | re.DOTALL)\n",
    "df_wiki_new[\"PEGI_wiki\"] = df_wiki_new[\"description_wiki\"].str.extract(\"PEGI[s]?\\s?:\\s?(.*)\", flags=re.IGNORECASE)\n",
    "#df_wiki_new[\"game_series_wiki\"] = df_wiki_new[\"description_wiki\"].str.extract(\"Série[s]?\\s?:\\s?(.*)\", flags=re.IGNORECASE)\n",
    "df_wiki_new[\"game_mode_wiki\"] = df_wiki_new[\"description_wiki\"].str.extract(r\"Mode de jeu\\s*\\n(.+?)(?=\\nPlateforme)\", flags=re.IGNORECASE | re.DOTALL)\n",
    "\n",
    "df_wiki_new.info()"
   ]
  },
  {
   "attachments": {},
   "cell_type": "markdown",
   "metadata": {},
   "source": [
    "## Créer un fichier csv du nouveau DF"
   ]
  },
  {
   "cell_type": "code",
   "execution_count": 32,
   "metadata": {},
   "outputs": [],
   "source": [
    "df_wiki_new.to_csv('gaming_wiki_OK.csv')"
   ]
  }
 ],
 "metadata": {
  "kernelspec": {
   "display_name": "base",
   "language": "python",
   "name": "python3"
  },
  "language_info": {
   "codemirror_mode": {
    "name": "ipython",
    "version": 3
   },
   "file_extension": ".py",
   "mimetype": "text/x-python",
   "name": "python",
   "nbconvert_exporter": "python",
   "pygments_lexer": "ipython3",
   "version": "3.9.16"
  },
  "orig_nbformat": 4
 },
 "nbformat": 4,
 "nbformat_minor": 2
}
