{
 "cells": [
  {
   "attachments": {},
   "cell_type": "markdown",
   "metadata": {},
   "source": [
    "# PRE-PROCESSING et MACHINE LEARNING"
   ]
  },
  {
   "attachments": {},
   "cell_type": "markdown",
   "metadata": {},
   "source": [
    "## Importer les librairies"
   ]
  },
  {
   "cell_type": "code",
   "execution_count": 1,
   "metadata": {},
   "outputs": [],
   "source": [
    "import numpy as np\n",
    "import pandas as pd\n",
    "import matplotlib.pyplot as plt\n",
    "import seaborn as sns"
   ]
  },
  {
   "cell_type": "code",
   "execution_count": 4,
   "metadata": {},
   "outputs": [
    {
     "name": "stdout",
     "output_type": "stream",
     "text": [
      "<class 'pandas.core.frame.DataFrame'>\n",
      "Int64Index: 5246 entries, 0 to 16468\n",
      "Data columns (total 15 columns):\n",
      " #   Column                  Non-Null Count  Dtype  \n",
      "---  ------                  --------------  -----  \n",
      " 0   Name                    5246 non-null   object \n",
      " 1   Platform                5246 non-null   object \n",
      " 2   Year                    5246 non-null   int64  \n",
      " 3   Genre                   5246 non-null   object \n",
      " 4   Publisher               5246 non-null   object \n",
      " 5   NA_Sales                5246 non-null   float64\n",
      " 6   EU_Sales                5246 non-null   float64\n",
      " 7   JP_Sales                5246 non-null   float64\n",
      " 8   Other_Sales             5246 non-null   float64\n",
      " 9   Global_Sales            5246 non-null   float64\n",
      " 10  test_note_JVC           5246 non-null   float64\n",
      " 11  avis_count_JVC          5246 non-null   float64\n",
      " 12  avis_note_JVC           5246 non-null   float64\n",
      " 13  Classification_Age_JVC  5246 non-null   float64\n",
      " 14  Support_JVC             5246 non-null   object \n",
      "dtypes: float64(9), int64(1), object(5)\n",
      "memory usage: 655.8+ KB\n"
     ]
    }
   ],
   "source": [
    "df=pd.read_csv(\"data_clean.csv\", index_col=0)\n",
    "df.info()"
   ]
  }
 ],
 "metadata": {
  "kernelspec": {
   "display_name": "base",
   "language": "python",
   "name": "python3"
  },
  "language_info": {
   "codemirror_mode": {
    "name": "ipython",
    "version": 3
   },
   "file_extension": ".py",
   "mimetype": "text/x-python",
   "name": "python",
   "nbconvert_exporter": "python",
   "pygments_lexer": "ipython3",
   "version": "3.9.16"
  },
  "orig_nbformat": 4
 },
 "nbformat": 4,
 "nbformat_minor": 2
}
