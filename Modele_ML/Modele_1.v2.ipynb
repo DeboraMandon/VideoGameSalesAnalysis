{
 "cells": [
  {
   "attachments": {},
   "cell_type": "markdown",
   "metadata": {},
   "source": [
    "# PRE-PROCESSING et MACHINE LEARNING"
   ]
  },
  {
   "attachments": {},
   "cell_type": "markdown",
   "metadata": {},
   "source": [
    "## Importer les librairies"
   ]
  },
  {
   "cell_type": "code",
   "execution_count": 10,
   "metadata": {},
   "outputs": [
    {
     "data": {
      "text/html": [
       "<div>\n",
       "<style scoped>\n",
       "    .dataframe tbody tr th:only-of-type {\n",
       "        vertical-align: middle;\n",
       "    }\n",
       "\n",
       "    .dataframe tbody tr th {\n",
       "        vertical-align: top;\n",
       "    }\n",
       "\n",
       "    .dataframe thead th {\n",
       "        text-align: right;\n",
       "    }\n",
       "</style>\n",
       "<table border=\"1\" class=\"dataframe\">\n",
       "  <thead>\n",
       "    <tr style=\"text-align: right;\">\n",
       "      <th></th>\n",
       "      <th>Name</th>\n",
       "      <th>Platform</th>\n",
       "      <th>Year</th>\n",
       "      <th>Genre</th>\n",
       "      <th>Publisher</th>\n",
       "      <th>NA_Sales</th>\n",
       "      <th>EU_Sales</th>\n",
       "      <th>JP_Sales</th>\n",
       "      <th>Other_Sales</th>\n",
       "      <th>Global_Sales</th>\n",
       "      <th>...</th>\n",
       "      <th>Meta_VP</th>\n",
       "      <th>Meta_NUsers</th>\n",
       "      <th>Meta_VUsers</th>\n",
       "      <th>test_note_JVC</th>\n",
       "      <th>avis_count_JVC</th>\n",
       "      <th>avis_note_JVC</th>\n",
       "      <th>Classification_Age_JVC</th>\n",
       "      <th>Support_JVC</th>\n",
       "      <th>langue_parlée_JVC</th>\n",
       "      <th>texte_JVC</th>\n",
       "    </tr>\n",
       "  </thead>\n",
       "  <tbody>\n",
       "    <tr>\n",
       "      <th>1</th>\n",
       "      <td>Super Mario Bros.</td>\n",
       "      <td>NES</td>\n",
       "      <td>1985.0</td>\n",
       "      <td>Platform</td>\n",
       "      <td>Nintendo</td>\n",
       "      <td>29.08</td>\n",
       "      <td>3.58</td>\n",
       "      <td>6.81</td>\n",
       "      <td>0.77</td>\n",
       "      <td>40.24</td>\n",
       "      <td>...</td>\n",
       "      <td>14.0</td>\n",
       "      <td>8.4</td>\n",
       "      <td>119.0</td>\n",
       "      <td>19.0</td>\n",
       "      <td>3.0</td>\n",
       "      <td>19.0</td>\n",
       "      <td>3.0</td>\n",
       "      <td>Autre</td>\n",
       "      <td>français</td>\n",
       "      <td>français</td>\n",
       "    </tr>\n",
       "    <tr>\n",
       "      <th>5</th>\n",
       "      <td>Tetris</td>\n",
       "      <td>GB</td>\n",
       "      <td>1989.0</td>\n",
       "      <td>Puzzle</td>\n",
       "      <td>Nintendo</td>\n",
       "      <td>23.20</td>\n",
       "      <td>2.26</td>\n",
       "      <td>4.22</td>\n",
       "      <td>0.58</td>\n",
       "      <td>30.26</td>\n",
       "      <td>...</td>\n",
       "      <td>10.0</td>\n",
       "      <td>8.0</td>\n",
       "      <td>7.0</td>\n",
       "      <td>11.0</td>\n",
       "      <td>8.0</td>\n",
       "      <td>17.8</td>\n",
       "      <td>3.0</td>\n",
       "      <td>Autre</td>\n",
       "      <td>français</td>\n",
       "      <td>français</td>\n",
       "    </tr>\n",
       "    <tr>\n",
       "      <th>7</th>\n",
       "      <td>Wii Play</td>\n",
       "      <td>Wii</td>\n",
       "      <td>2006.0</td>\n",
       "      <td>Misc</td>\n",
       "      <td>Nintendo</td>\n",
       "      <td>14.03</td>\n",
       "      <td>9.20</td>\n",
       "      <td>2.93</td>\n",
       "      <td>2.85</td>\n",
       "      <td>29.02</td>\n",
       "      <td>...</td>\n",
       "      <td>41.0</td>\n",
       "      <td>6.6</td>\n",
       "      <td>190.0</td>\n",
       "      <td>12.0</td>\n",
       "      <td>223.0</td>\n",
       "      <td>12.1</td>\n",
       "      <td>3.0</td>\n",
       "      <td>DVD</td>\n",
       "      <td>français</td>\n",
       "      <td>français</td>\n",
       "    </tr>\n",
       "    <tr>\n",
       "      <th>10</th>\n",
       "      <td>Nintendogs</td>\n",
       "      <td>DS</td>\n",
       "      <td>2005.0</td>\n",
       "      <td>Simulation</td>\n",
       "      <td>Nintendo</td>\n",
       "      <td>9.07</td>\n",
       "      <td>11.00</td>\n",
       "      <td>1.93</td>\n",
       "      <td>2.75</td>\n",
       "      <td>24.76</td>\n",
       "      <td>...</td>\n",
       "      <td>54.0</td>\n",
       "      <td>7.6</td>\n",
       "      <td>125.0</td>\n",
       "      <td>15.0</td>\n",
       "      <td>159.0</td>\n",
       "      <td>16.4</td>\n",
       "      <td>3.0</td>\n",
       "      <td>Cartouche</td>\n",
       "      <td>français</td>\n",
       "      <td>français</td>\n",
       "    </tr>\n",
       "    <tr>\n",
       "      <th>13</th>\n",
       "      <td>Wii Fit</td>\n",
       "      <td>Wii</td>\n",
       "      <td>2007.0</td>\n",
       "      <td>Sports</td>\n",
       "      <td>Nintendo</td>\n",
       "      <td>8.94</td>\n",
       "      <td>8.03</td>\n",
       "      <td>3.60</td>\n",
       "      <td>2.15</td>\n",
       "      <td>22.72</td>\n",
       "      <td>...</td>\n",
       "      <td>63.0</td>\n",
       "      <td>7.7</td>\n",
       "      <td>164.0</td>\n",
       "      <td>15.0</td>\n",
       "      <td>227.0</td>\n",
       "      <td>16.2</td>\n",
       "      <td>3.0</td>\n",
       "      <td>DVD</td>\n",
       "      <td>français</td>\n",
       "      <td>français</td>\n",
       "    </tr>\n",
       "    <tr>\n",
       "      <th>...</th>\n",
       "      <td>...</td>\n",
       "      <td>...</td>\n",
       "      <td>...</td>\n",
       "      <td>...</td>\n",
       "      <td>...</td>\n",
       "      <td>...</td>\n",
       "      <td>...</td>\n",
       "      <td>...</td>\n",
       "      <td>...</td>\n",
       "      <td>...</td>\n",
       "      <td>...</td>\n",
       "      <td>...</td>\n",
       "      <td>...</td>\n",
       "      <td>...</td>\n",
       "      <td>...</td>\n",
       "      <td>...</td>\n",
       "      <td>...</td>\n",
       "      <td>...</td>\n",
       "      <td>...</td>\n",
       "      <td>...</td>\n",
       "      <td>...</td>\n",
       "    </tr>\n",
       "    <tr>\n",
       "      <th>16601</th>\n",
       "      <td>Resident Evil 4 HD</td>\n",
       "      <td>XOne</td>\n",
       "      <td>2016.0</td>\n",
       "      <td>Shooter</td>\n",
       "      <td>Capcom</td>\n",
       "      <td>0.01</td>\n",
       "      <td>0.00</td>\n",
       "      <td>0.00</td>\n",
       "      <td>0.00</td>\n",
       "      <td>0.01</td>\n",
       "      <td>...</td>\n",
       "      <td>14.0</td>\n",
       "      <td>8.3</td>\n",
       "      <td>172.0</td>\n",
       "      <td>17.0</td>\n",
       "      <td>174.0</td>\n",
       "      <td>17.0</td>\n",
       "      <td>18.0</td>\n",
       "      <td>Autre</td>\n",
       "      <td>anglais</td>\n",
       "      <td>français</td>\n",
       "    </tr>\n",
       "    <tr>\n",
       "      <th>16609</th>\n",
       "      <td>Damnation</td>\n",
       "      <td>PC</td>\n",
       "      <td>2009.0</td>\n",
       "      <td>Shooter</td>\n",
       "      <td>Codemasters</td>\n",
       "      <td>0.00</td>\n",
       "      <td>0.01</td>\n",
       "      <td>0.00</td>\n",
       "      <td>0.00</td>\n",
       "      <td>0.01</td>\n",
       "      <td>...</td>\n",
       "      <td>17.0</td>\n",
       "      <td>4.2</td>\n",
       "      <td>86.0</td>\n",
       "      <td>8.0</td>\n",
       "      <td>17.0</td>\n",
       "      <td>10.4</td>\n",
       "      <td>18.0</td>\n",
       "      <td>DVD</td>\n",
       "      <td>français</td>\n",
       "      <td>français</td>\n",
       "    </tr>\n",
       "    <tr>\n",
       "      <th>16611</th>\n",
       "      <td>PGA European Tour</td>\n",
       "      <td>N64</td>\n",
       "      <td>2000.0</td>\n",
       "      <td>Sports</td>\n",
       "      <td>Infogrames</td>\n",
       "      <td>0.01</td>\n",
       "      <td>0.00</td>\n",
       "      <td>0.00</td>\n",
       "      <td>0.00</td>\n",
       "      <td>0.01</td>\n",
       "      <td>...</td>\n",
       "      <td>12.0</td>\n",
       "      <td>7.7</td>\n",
       "      <td>6.0</td>\n",
       "      <td>11.0</td>\n",
       "      <td>0.0</td>\n",
       "      <td>15.0</td>\n",
       "      <td>3.0</td>\n",
       "      <td>Cartouche</td>\n",
       "      <td>français</td>\n",
       "      <td>français</td>\n",
       "    </tr>\n",
       "    <tr>\n",
       "      <th>16617</th>\n",
       "      <td>Breach</td>\n",
       "      <td>PC</td>\n",
       "      <td>2011.0</td>\n",
       "      <td>Shooter</td>\n",
       "      <td>Destineer</td>\n",
       "      <td>0.01</td>\n",
       "      <td>0.00</td>\n",
       "      <td>0.00</td>\n",
       "      <td>0.00</td>\n",
       "      <td>0.01</td>\n",
       "      <td>...</td>\n",
       "      <td>12.0</td>\n",
       "      <td>5.7</td>\n",
       "      <td>45.0</td>\n",
       "      <td>10.0</td>\n",
       "      <td>8.0</td>\n",
       "      <td>12.5</td>\n",
       "      <td>16.0</td>\n",
       "      <td>Autre</td>\n",
       "      <td>français</td>\n",
       "      <td>français</td>\n",
       "    </tr>\n",
       "    <tr>\n",
       "      <th>16618</th>\n",
       "      <td>Secret Files 2: Puritas Cordis</td>\n",
       "      <td>DS</td>\n",
       "      <td>2009.0</td>\n",
       "      <td>Adventure</td>\n",
       "      <td>Deep Silver</td>\n",
       "      <td>0.00</td>\n",
       "      <td>0.01</td>\n",
       "      <td>0.00</td>\n",
       "      <td>0.00</td>\n",
       "      <td>0.01</td>\n",
       "      <td>...</td>\n",
       "      <td>14.0</td>\n",
       "      <td>6.9</td>\n",
       "      <td>30.0</td>\n",
       "      <td>16.0</td>\n",
       "      <td>9.0</td>\n",
       "      <td>16.2</td>\n",
       "      <td>12.0</td>\n",
       "      <td>Cartouche</td>\n",
       "      <td>français</td>\n",
       "      <td>français</td>\n",
       "    </tr>\n",
       "  </tbody>\n",
       "</table>\n",
       "<p>5838 rows × 21 columns</p>\n",
       "</div>"
      ],
      "text/plain": [
       "                                 Name Platform    Year       Genre  \\\n",
       "1                   Super Mario Bros.      NES  1985.0    Platform   \n",
       "5                              Tetris       GB  1989.0      Puzzle   \n",
       "7                            Wii Play      Wii  2006.0        Misc   \n",
       "10                         Nintendogs       DS  2005.0  Simulation   \n",
       "13                            Wii Fit      Wii  2007.0      Sports   \n",
       "...                               ...      ...     ...         ...   \n",
       "16601              Resident Evil 4 HD     XOne  2016.0     Shooter   \n",
       "16609                       Damnation       PC  2009.0     Shooter   \n",
       "16611               PGA European Tour      N64  2000.0      Sports   \n",
       "16617                          Breach       PC  2011.0     Shooter   \n",
       "16618  Secret Files 2: Puritas Cordis       DS  2009.0   Adventure   \n",
       "\n",
       "         Publisher  NA_Sales  EU_Sales  JP_Sales  Other_Sales  Global_Sales  \\\n",
       "1         Nintendo     29.08      3.58      6.81         0.77         40.24   \n",
       "5         Nintendo     23.20      2.26      4.22         0.58         30.26   \n",
       "7         Nintendo     14.03      9.20      2.93         2.85         29.02   \n",
       "10        Nintendo      9.07     11.00      1.93         2.75         24.76   \n",
       "13        Nintendo      8.94      8.03      3.60         2.15         22.72   \n",
       "...            ...       ...       ...       ...          ...           ...   \n",
       "16601       Capcom      0.01      0.00      0.00         0.00          0.01   \n",
       "16609  Codemasters      0.00      0.01      0.00         0.00          0.01   \n",
       "16611   Infogrames      0.01      0.00      0.00         0.00          0.01   \n",
       "16617    Destineer      0.01      0.00      0.00         0.00          0.01   \n",
       "16618  Deep Silver      0.00      0.01      0.00         0.00          0.01   \n",
       "\n",
       "       ...  Meta_VP  Meta_NUsers  Meta_VUsers  test_note_JVC  avis_count_JVC  \\\n",
       "1      ...     14.0          8.4        119.0           19.0             3.0   \n",
       "5      ...     10.0          8.0          7.0           11.0             8.0   \n",
       "7      ...     41.0          6.6        190.0           12.0           223.0   \n",
       "10     ...     54.0          7.6        125.0           15.0           159.0   \n",
       "13     ...     63.0          7.7        164.0           15.0           227.0   \n",
       "...    ...      ...          ...          ...            ...             ...   \n",
       "16601  ...     14.0          8.3        172.0           17.0           174.0   \n",
       "16609  ...     17.0          4.2         86.0            8.0            17.0   \n",
       "16611  ...     12.0          7.7          6.0           11.0             0.0   \n",
       "16617  ...     12.0          5.7         45.0           10.0             8.0   \n",
       "16618  ...     14.0          6.9         30.0           16.0             9.0   \n",
       "\n",
       "       avis_note_JVC  Classification_Age_JVC  Support_JVC langue_parlée_JVC  \\\n",
       "1               19.0                     3.0        Autre          français   \n",
       "5               17.8                     3.0        Autre          français   \n",
       "7               12.1                     3.0          DVD          français   \n",
       "10              16.4                     3.0    Cartouche          français   \n",
       "13              16.2                     3.0          DVD          français   \n",
       "...              ...                     ...          ...               ...   \n",
       "16601           17.0                    18.0        Autre           anglais   \n",
       "16609           10.4                    18.0          DVD          français   \n",
       "16611           15.0                     3.0    Cartouche          français   \n",
       "16617           12.5                    16.0        Autre          français   \n",
       "16618           16.2                    12.0    Cartouche          français   \n",
       "\n",
       "      texte_JVC  \n",
       "1      français  \n",
       "5      français  \n",
       "7      français  \n",
       "10     français  \n",
       "13     français  \n",
       "...         ...  \n",
       "16601  français  \n",
       "16609  français  \n",
       "16611  français  \n",
       "16617  français  \n",
       "16618  français  \n",
       "\n",
       "[5838 rows x 21 columns]"
      ]
     },
     "execution_count": 10,
     "metadata": {},
     "output_type": "execute_result"
    }
   ],
   "source": [
    "import pandas as pd\n",
    "import matplotlib.pyplot as plt\n",
    "import seaborn as sns\n",
    "import numpy as np\n",
    "import re\n",
    "\n",
    "df=pd.read_csv(\"df_clean.csv\", index_col=0)\n",
    "df"
   ]
  },
  {
   "attachments": {},
   "cell_type": "markdown",
   "metadata": {},
   "source": [
    "# Création jeu d'entraînement et jeu de test"
   ]
  },
  {
   "cell_type": "code",
   "execution_count": 2,
   "metadata": {},
   "outputs": [],
   "source": [
    "from sklearn.model_selection import train_test_split\n",
    "\n",
    "y=df['Global_Sales']\n",
    "X=df.drop('Global_Sales', axis=1)\n",
    "\n",
    "X_train, X_test, y_train, y_test = train_test_split(X, y,  test_size=0.2, random_state=42)\n"
   ]
  },
  {
   "attachments": {},
   "cell_type": "markdown",
   "metadata": {},
   "source": [
    "# Modele Lasso"
   ]
  },
  {
   "cell_type": "code",
   "execution_count": 13,
   "metadata": {},
   "outputs": [
    {
     "name": "stdout",
     "output_type": "stream",
     "text": [
      "R2 score: 0.9380385333744345\n",
      "MSE: 0.13187132357351206\n",
      "MAE: 0.18985057435425012\n"
     ]
    }
   ],
   "source": [
    "from sklearn.linear_model import Lasso\n",
    "from sklearn.metrics import r2_score, mean_squared_error, mean_absolute_error\n",
    "\n",
    "# Créer une instance de la classe Lasso\n",
    "modele_lasso = Lasso(alpha=0.1, max_iter=10000, random_state=42, fit_intercept=True)\n",
    "\n",
    "# Entraîner le modèle sur l'ensemble d'entraînement\n",
    "modele_lasso.fit(X_train, y_train)\n",
    "\n",
    "# Évaluer la performance du modèle sur l'ensemble de test\n",
    "score = modele_lasso.score(X_test, y_test)\n",
    "\n",
    "# Faire des prédictions sur les données de test\n",
    "y_pred_lasso = modele_lasso.predict(X_test)\n",
    "\n",
    "# Évaluer les performances du modèle en utilisant les mesures de performance\n",
    "r2 = r2_score(y_test, y_pred_lasso)\n",
    "mse = mean_squared_error(y_test, y_pred_lasso)\n",
    "mae = mean_absolute_error(y_test, y_pred_lasso)\n",
    "\n",
    "print(\"R2 score:\", r2)\n",
    "print(\"MSE:\", mse)\n",
    "print(\"MAE:\", mae)"
   ]
  },
  {
   "attachments": {},
   "cell_type": "markdown",
   "metadata": {},
   "source": [
    "## Encodage OneHotEncoder"
   ]
  },
  {
   "cell_type": "code",
   "execution_count": 3,
   "metadata": {},
   "outputs": [
    {
     "name": "stderr",
     "output_type": "stream",
     "text": [
      "c:\\Users\\debor\\anaconda3\\lib\\site-packages\\sklearn\\preprocessing\\_encoders.py:868: FutureWarning: `sparse` was renamed to `sparse_output` in version 1.2 and will be removed in 1.4. `sparse_output` is ignored unless you leave `sparse` to its default value.\n",
      "  warnings.warn(\n"
     ]
    }
   ],
   "source": [
    "#from sklearn.preprocessing import OneHotEncoder\n",
    "\n",
    "#ohe = OneHotEncoder(sparse=False)\n",
    "\n",
    "#X_train_obj=X_train.select_dtypes(include='object')\n",
    "#X_test_obj=X_train.select_dtypes(include='object')\n",
    "\n",
    "#X_train_ohe = ohe.fit_transform(X_train_obj)\n",
    "#X_test_ohe = ohe.transform(X_test_obj)\n"
   ]
  },
  {
   "attachments": {},
   "cell_type": "markdown",
   "metadata": {},
   "source": [
    "# Normalisation"
   ]
  },
  {
   "cell_type": "code",
   "execution_count": 3,
   "metadata": {},
   "outputs": [],
   "source": [
    "from sklearn.preprocessing import StandardScaler\n",
    "\n",
    "# Normaliser les variables\n",
    "scaler = StandardScaler()\n",
    "X_train = scaler.fit_transform(X_train)\n",
    "X_test = scaler.transform(X_test)"
   ]
  },
  {
   "cell_type": "code",
   "execution_count": 5,
   "metadata": {},
   "outputs": [],
   "source": [
    "#y_train=np.array(y_train).reshape(-1,1)\n",
    "#y_test=np.array(y_test).reshape(-1,1)\n"
   ]
  },
  {
   "attachments": {},
   "cell_type": "markdown",
   "metadata": {},
   "source": [
    "# Test sur Modele Lasso"
   ]
  },
  {
   "cell_type": "code",
   "execution_count": 15,
   "metadata": {},
   "outputs": [
    {
     "name": "stdout",
     "output_type": "stream",
     "text": [
      "R2 score: 0.9928824869340679\n",
      "MSE: 0.015148057650542432\n",
      "MAE: 0.06576785191287388\n"
     ]
    }
   ],
   "source": [
    "from sklearn.linear_model import Lasso\n",
    "from sklearn.metrics import r2_score, mean_squared_error, mean_absolute_error\n",
    "\n",
    "# Créer une instance de la classe Lasso\n",
    "modele_lasso = Lasso(alpha=0.1, max_iter=10000, random_state=42, fit_intercept=True)\n",
    "\n",
    "# Entraîner le modèle sur l'ensemble d'entraînement\n",
    "modele_lasso.fit(X_train, y_train)\n",
    "\n",
    "# Évaluer la performance du modèle sur l'ensemble de test\n",
    "score = modele_lasso.score(X_test, y_test)\n",
    "\n",
    "# Faire des prédictions sur les données de test\n",
    "y_pred_lasso = modele_lasso.predict(X_test)\n",
    "\n",
    "# Évaluer les performances du modèle en utilisant les mesures de performance\n",
    "r2 = r2_score(y_test, y_pred_lasso)\n",
    "mse = mean_squared_error(y_test, y_pred_lasso)\n",
    "mae = mean_absolute_error(y_test, y_pred_lasso)\n",
    "\n",
    "print(\"R2 score:\", r2)\n",
    "print(\"MSE:\", mse)\n",
    "print(\"MAE:\", mae)"
   ]
  },
  {
   "attachments": {},
   "cell_type": "markdown",
   "metadata": {},
   "source": [
    "# Cross Validation"
   ]
  },
  {
   "cell_type": "code",
   "execution_count": 16,
   "metadata": {},
   "outputs": [
    {
     "name": "stdout",
     "output_type": "stream",
     "text": [
      "Scores de validation croisée:  [0.93803853 0.89776311 0.94757028 0.95318623 0.8673239 ]\n",
      "Score moyen de validation croisée: 0.92\n"
     ]
    }
   ],
   "source": [
    "from sklearn.model_selection import cross_val_score, KFold\n",
    "\n",
    "# Définir la stratégie de validation croisée\n",
    "cv = KFold(n_splits=5, shuffle=True, random_state=42)\n",
    "\n",
    "# Effectuer la validation croisée sur le modèle avec la métrique R²\n",
    "scores = cross_val_score(modele_lasso, X, y, cv=cv, scoring='r2')\n",
    "\n",
    "# Afficher les scores de validation croisée\n",
    "print(\"Scores de validation croisée: \", scores)\n",
    "\n",
    "# Afficher la moyenne des scores de validation croisée\n",
    "print(\"Score moyen de validation croisée: {:.2f}\".format(scores.mean()))"
   ]
  },
  {
   "attachments": {},
   "cell_type": "markdown",
   "metadata": {},
   "source": [
    "# TPOT : choix du meilleur modèle de ML"
   ]
  },
  {
   "cell_type": "code",
   "execution_count": 4,
   "metadata": {},
   "outputs": [
    {
     "data": {
      "application/vnd.jupyter.widget-view+json": {
       "model_id": "24c1eb9218c64791857542503f589bc2",
       "version_major": 2,
       "version_minor": 0
      },
      "text/plain": [
       "Optimization Progress:   0%|          | 0/300 [00:00<?, ?pipeline/s]"
      ]
     },
     "metadata": {},
     "output_type": "display_data"
    },
    {
     "name": "stdout",
     "output_type": "stream",
     "text": [
      "\n",
      "Generation 1 - Current best internal CV score: -0.00357004975207589\n",
      "\n",
      "Generation 2 - Current best internal CV score: -0.00357004975207589\n",
      "\n",
      "Generation 3 - Current best internal CV score: -0.00357004975207589\n",
      "\n",
      "Generation 4 - Current best internal CV score: -0.0035541133391354188\n",
      "\n",
      "Generation 5 - Current best internal CV score: -0.0033799570781853083\n",
      "\n",
      "Best pipeline: LinearSVR(VarianceThreshold(OneHotEncoder(DecisionTreeRegressor(input_matrix, max_depth=10, min_samples_leaf=20, min_samples_split=12), minimum_fraction=0.05, sparse=False, threshold=10), threshold=0.1), C=20.0, dual=True, epsilon=0.01, loss=squared_epsilon_insensitive, tol=0.001)\n"
     ]
    },
    {
     "name": "stderr",
     "output_type": "stream",
     "text": [
      "c:\\Users\\debor\\anaconda3\\lib\\site-packages\\sklearn\\metrics\\_scorer.py:794: FutureWarning: sklearn.metrics.SCORERS is deprecated and will be removed in v1.3. Please use sklearn.metrics.get_scorer_names to get a list of available scorers and sklearn.metrics.get_metric to get scorer.\n",
      "  warnings.warn(\n"
     ]
    },
    {
     "name": "stdout",
     "output_type": "stream",
     "text": [
      "-0.003284346122786532\n"
     ]
    }
   ],
   "source": [
    "# Pour la régression\n",
    "from tpot import TPOTRegressor\n",
    "# Paramétrage du TPOTRegressor\n",
    "tpot_regression = TPOTRegressor(generations=5, population_size=50, cv=5, scoring='neg_mean_absolute_error', verbosity=2, random_state=42, n_jobs=-1)\n",
    " \n",
    "# Application de TPOT à notre jeu de données train \n",
    "tpot_regression.fit(X_train, y_train)\n",
    "\n",
    "# Calcul du taux de bonnes prédictions\n",
    "print(tpot_regression.score(X_test, y_test))\n",
    "# Extraction du code généré par TPOT pour modifier le pipeline créé\n",
    "tpot_regression.export('tpot_vgsales_2_pipeline.py')"
   ]
  },
  {
   "attachments": {},
   "cell_type": "markdown",
   "metadata": {},
   "source": [
    "# Pipeline"
   ]
  },
  {
   "cell_type": "code",
   "execution_count": 22,
   "metadata": {},
   "outputs": [],
   "source": [
    "import pandas as pd\n",
    "import matplotlib.pyplot as plt\n",
    "import seaborn as sns\n",
    "import numpy as np\n",
    "import re\n",
    "\n",
    "df=pd.read_csv(\"df_encode.csv\")"
   ]
  },
  {
   "cell_type": "code",
   "execution_count": 23,
   "metadata": {},
   "outputs": [],
   "source": [
    "from sklearn.model_selection import train_test_split\n",
    "\n",
    "y=df['Global_Sales']\n",
    "X=df.drop('Global_Sales', axis=1)\n",
    "\n",
    "X_train, X_test, y_train, y_test = train_test_split(X, y,  test_size=0.2, random_state=42)\n"
   ]
  },
  {
   "cell_type": "code",
   "execution_count": 26,
   "metadata": {},
   "outputs": [
    {
     "name": "stdout",
     "output_type": "stream",
     "text": [
      "0.9999849745584344\n"
     ]
    }
   ],
   "source": [
    "from sklearn.pipeline import Pipeline\n",
    "from sklearn.preprocessing import StandardScaler, MinMaxScaler\n",
    "from sklearn.feature_selection import SelectFwe\n",
    "from sklearn.linear_model import LassoLarsCV\n",
    "from sklearn.feature_selection import f_regression\n",
    "\n",
    "# Création de la pipeline\n",
    "pipeline = Pipeline([\n",
    "  ('standard_scaler', StandardScaler()),\n",
    "  ('min_max_scaler', MinMaxScaler()),\n",
    "  ('feature_selection', SelectFwe(score_func=f_regression, alpha=0.009000000000000001)),\n",
    "  ('lasso_lars', LassoLarsCV())\n",
    "])\n",
    "\n",
    "# Entraînement du modèle avec les données d'entraînement\n",
    "pipeline.fit(X_train, y_train)\n",
    "\n",
    "# Évaluation des performances du modèle sur les données de test\n",
    "score = pipeline.score(X_test, y_test)\n",
    "print(score)"
   ]
  },
  {
   "cell_type": "code",
   "execution_count": 27,
   "metadata": {},
   "outputs": [
    {
     "name": "stdout",
     "output_type": "stream",
     "text": [
      "R2 score: 0.7869076299402453\n",
      "MSE: 0.4535201378142009\n",
      "MAE: 0.5754177659533568\n"
     ]
    },
    {
     "name": "stderr",
     "output_type": "stream",
     "text": [
      "c:\\Users\\debor\\anaconda3\\lib\\site-packages\\sklearn\\base.py:432: UserWarning: X has feature names, but Lasso was fitted without feature names\n",
      "  warnings.warn(\n"
     ]
    }
   ],
   "source": [
    "# Faire des prédictions sur les données de test\n",
    "y_pred_pipe = modele_lasso.predict(X_test)\n",
    "\n",
    "# Évaluer les performances du modèle en utilisant les mesures de performance\n",
    "r2 = r2_score(y_test, y_pred_pipe)\n",
    "mse = mean_squared_error(y_test, y_pred_pipe)\n",
    "mae = mean_absolute_error(y_test, y_pred_pipe)\n",
    "\n",
    "print(\"R2 score:\", r2)\n",
    "print(\"MSE:\", mse)\n",
    "print(\"MAE:\", mae)"
   ]
  },
  {
   "cell_type": "code",
   "execution_count": 5,
   "metadata": {},
   "outputs": [
    {
     "name": "stderr",
     "output_type": "stream",
     "text": [
      "c:\\Users\\debor\\anaconda3\\lib\\site-packages\\sklearn\\base.py:439: UserWarning: X does not have valid feature names, but DecisionTreeRegressor was fitted with feature names\n",
      "  warnings.warn(\n",
      "c:\\Users\\debor\\anaconda3\\lib\\site-packages\\sklearn\\svm\\_base.py:1244: ConvergenceWarning: Liblinear failed to converge, increase the number of iterations.\n",
      "  warnings.warn(\n",
      "c:\\Users\\debor\\anaconda3\\lib\\site-packages\\sklearn\\base.py:439: UserWarning: X does not have valid feature names, but DecisionTreeRegressor was fitted with feature names\n",
      "  warnings.warn(\n"
     ]
    }
   ],
   "source": [
    "import numpy as np\n",
    "import pandas as pd\n",
    "from sklearn.feature_selection import VarianceThreshold\n",
    "from sklearn.model_selection import train_test_split\n",
    "from sklearn.pipeline import make_pipeline, make_union\n",
    "from sklearn.svm import LinearSVR\n",
    "from sklearn.tree import DecisionTreeRegressor\n",
    "from tpot.builtins import OneHotEncoder, StackingEstimator\n",
    "from tpot.export_utils import set_param_recursive\n",
    "from sklearn.metrics import r2_score, mean_squared_error, mean_absolute_error\n",
    "\n",
    "df=pd.read_csv(\"df_encode.csv\")\n",
    "\n",
    "y=df['Global_Sales']\n",
    "X=df.drop('Global_Sales', axis=1)\n",
    "\n",
    "X_train, X_test, y_train, y_test = train_test_split(X, y,  test_size=0.2, random_state=42)\n",
    "\n",
    "# Average CV score on the training set was: -0.0033799570781853083\n",
    "pipeline = make_pipeline(\n",
    "    StackingEstimator(estimator=DecisionTreeRegressor(max_depth=10, min_samples_leaf=20, min_samples_split=12)),\n",
    "    OneHotEncoder(minimum_fraction=0.05, sparse=False, threshold=10),\n",
    "    VarianceThreshold(threshold=0.1),\n",
    "    LinearSVR(C=20.0, dual=True, epsilon=0.01, loss=\"squared_epsilon_insensitive\", tol=0.001)\n",
    ")\n",
    "# Fix random state for all the steps in exported pipeline\n",
    "set_param_recursive(pipeline.steps, 'random_state', 42)\n",
    "\n",
    "pipeline.fit(X_train, y_train)\n",
    "results = pipeline.predict(X_test)"
   ]
  },
  {
   "cell_type": "code",
   "execution_count": 6,
   "metadata": {},
   "outputs": [
    {
     "name": "stderr",
     "output_type": "stream",
     "text": [
      "c:\\Users\\debor\\anaconda3\\lib\\site-packages\\sklearn\\base.py:439: UserWarning: X does not have valid feature names, but DecisionTreeRegressor was fitted with feature names\n",
      "  warnings.warn(\n"
     ]
    },
    {
     "name": "stdout",
     "output_type": "stream",
     "text": [
      "0.9650330937046974\n"
     ]
    }
   ],
   "source": [
    "# Évaluation des performances du modèle sur les données de test\n",
    "score = pipeline.score(X_test, y_test)\n",
    "print(score)"
   ]
  },
  {
   "cell_type": "code",
   "execution_count": 9,
   "metadata": {},
   "outputs": [
    {
     "name": "stderr",
     "output_type": "stream",
     "text": [
      "c:\\Users\\debor\\anaconda3\\lib\\site-packages\\sklearn\\base.py:439: UserWarning: X does not have valid feature names, but DecisionTreeRegressor was fitted with feature names\n",
      "  warnings.warn(\n"
     ]
    },
    {
     "name": "stdout",
     "output_type": "stream",
     "text": [
      "R2 score: 0.9650330937046974\n",
      "MSE: 0.07441935230968143\n",
      "MAE: 0.11156996845150477\n"
     ]
    }
   ],
   "source": [
    "from sklearn.metrics import r2_score, mean_squared_error, mean_absolute_error\n",
    "# Faire des prédictions sur les données de test\n",
    "y_pred_pipe = pipeline.predict(X_test)\n",
    "\n",
    "# Évaluer les performances du modèle en utilisant les mesures de performance\n",
    "r2 = r2_score(y_test, results)\n",
    "mse = mean_squared_error(y_test, results)\n",
    "mae = mean_absolute_error(y_test, results)\n",
    "\n",
    "print(\"R2 score:\", r2)\n",
    "print(\"MSE:\", mse)\n",
    "print(\"MAE:\", mae)"
   ]
  },
  {
   "attachments": {},
   "cell_type": "markdown",
   "metadata": {},
   "source": [
    "Le R2 score, également appelé coefficient de détermination, mesure la proportion de la variance totale de la variable cible qui est expliquée par le modèle. Un score R2 de 0,965 indique que ce modèle explique 96,5% de la variance dans les données, ce qui est très élevé et suggère que ce modèle est capable de prédire la variable cible avec une grande précision.\n",
    "\n",
    "Le MSE (mean squared error) mesure la moyenne des carrés des différences entre les prévisions du modèle et les valeurs réelles de la variable cible. Un MSE de 0,074 indique que, en moyenne, les prévisions de ce modèle diffèrent des valeurs réelles de la variable cible de 0,27 (la racine carrée du MSE) ce qui est relativement faible et suggère que ce modèle est assez précis.\n",
    "\n",
    "Le MAE (mean absolute error) mesure la moyenne des différences absolues entre les prévisions du modèle et les valeurs réelles de la variable cible. Un MAE de 0,11 indique que, en moyenne, les prévisions de ce modèle diffèrent des valeurs réelles de la variable cible de 0,11, ce qui est également relativement faible et suggère que ce modèle est assez précis.\n",
    "\n",
    "En somme, les scores que vous avez fournis indiquent tous que notre modèle est capable de prédire la variable cible avec une grande précision et une faible erreur."
   ]
  },
  {
   "attachments": {},
   "cell_type": "markdown",
   "metadata": {},
   "source": [
    "### Choix des hyperparamètres les plus performants"
   ]
  }
 ],
 "metadata": {
  "kernelspec": {
   "display_name": "base",
   "language": "python",
   "name": "python3"
  },
  "language_info": {
   "codemirror_mode": {
    "name": "ipython",
    "version": 3
   },
   "file_extension": ".py",
   "mimetype": "text/x-python",
   "name": "python",
   "nbconvert_exporter": "python",
   "pygments_lexer": "ipython3",
   "version": "3.9.16"
  },
  "orig_nbformat": 4
 },
 "nbformat": 4,
 "nbformat_minor": 2
}
