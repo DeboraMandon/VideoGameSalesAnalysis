{
 "cells": [
  {
   "attachments": {},
   "cell_type": "markdown",
   "metadata": {},
   "source": [
    "A traiter avant le PreProcessing\n",
    "\n",
    "- Identifications des outliers (PEGI_goo, nb_joueur_JVC et max_joueur_JVC)\n",
    "\n",
    "\n",
    "- Nan a traiter\n",
    "\n",
    "- variables à supprimer car identiques et trop corrélées:\n",
    "    - PEGI_goo\n",
    "    - PEGI_wiki\n",
    "    - classification_Age_JVC\n",
    "\n",
    "    - developpeur_goo\n",
    "    - developpeur_wiki\n",
    "\n",
    "    - meta_VUsers\n",
    "    - meta_VP\n",
    "\n",
    "    - meta_NUsers\n",
    "    - meta_NP\n",
    "\n",
    "    - meta_score\n",
    "    - user_review\n",
    "\n",
    "- Support_JVC : peut-être ne garder que les 10 modalités les plus représsentées et le reste remplacer par autre\n",
    "\n",
    "- Global_Sales target, donc supprimer NA_Sales, JP_Sales, EU_Sales et Other_Sales qui sont très corrélées"
   ]
  },
  {
   "cell_type": "code",
   "execution_count": 1,
   "metadata": {},
   "outputs": [],
   "source": [
    "import pandas as pd\n",
    "import matplotlib.pyplot as plt\n",
    "import seaborn as sns\n",
    "import numpy as np\n",
    "import re\n"
   ]
  },
  {
   "cell_type": "code",
   "execution_count": 2,
   "metadata": {},
   "outputs": [],
   "source": [
    "pd.set_option('display.max_columns', None)\n",
    "#pd.set_option('display.max_rows', None)\n",
    "#pd.set_option('display.max_colwidth', None)"
   ]
  },
  {
   "cell_type": "code",
   "execution_count": 3,
   "metadata": {},
   "outputs": [
    {
     "data": {
      "text/html": [
       "<div>\n",
       "<style scoped>\n",
       "    .dataframe tbody tr th:only-of-type {\n",
       "        vertical-align: middle;\n",
       "    }\n",
       "\n",
       "    .dataframe tbody tr th {\n",
       "        vertical-align: top;\n",
       "    }\n",
       "\n",
       "    .dataframe thead th {\n",
       "        text-align: right;\n",
       "    }\n",
       "</style>\n",
       "<table border=\"1\" class=\"dataframe\">\n",
       "  <thead>\n",
       "    <tr style=\"text-align: right;\">\n",
       "      <th></th>\n",
       "      <th>Name</th>\n",
       "      <th>Platform</th>\n",
       "      <th>Year</th>\n",
       "      <th>Genre</th>\n",
       "      <th>Publisher</th>\n",
       "      <th>NA_Sales</th>\n",
       "      <th>EU_Sales</th>\n",
       "      <th>JP_Sales</th>\n",
       "      <th>Other_Sales</th>\n",
       "      <th>Global_Sales</th>\n",
       "      <th>developpeur_goo</th>\n",
       "      <th>PEGI_goo</th>\n",
       "      <th>developpeur_wiki</th>\n",
       "      <th>PEGI_wiki</th>\n",
       "      <th>Meta_NP</th>\n",
       "      <th>Meta_VP</th>\n",
       "      <th>Meta_NUsers</th>\n",
       "      <th>Meta_VUsers</th>\n",
       "      <th>meta_score</th>\n",
       "      <th>user_review</th>\n",
       "      <th>Rank</th>\n",
       "      <th>test_note_JVC</th>\n",
       "      <th>avis_count_JVC</th>\n",
       "      <th>avis_note_JVC</th>\n",
       "      <th>Classification_Age_JVC</th>\n",
       "      <th>max_joueurs_JVC</th>\n",
       "      <th>Support_JVC</th>\n",
       "      <th>langue_parlée_JVC</th>\n",
       "      <th>texte_JVC</th>\n",
       "      <th>nb_joueurs_JVC</th>\n",
       "      <th>game_mode</th>\n",
       "      <th>game_mode_JVC</th>\n",
       "    </tr>\n",
       "  </thead>\n",
       "  <tbody>\n",
       "    <tr>\n",
       "      <th>0</th>\n",
       "      <td>Wii Sports</td>\n",
       "      <td>Wii</td>\n",
       "      <td>2006.0</td>\n",
       "      <td>Sports</td>\n",
       "      <td>Nintendo</td>\n",
       "      <td>41.49</td>\n",
       "      <td>29.02</td>\n",
       "      <td>3.77</td>\n",
       "      <td>8.46</td>\n",
       "      <td>82.74</td>\n",
       "      <td>Nintendo</td>\n",
       "      <td>NaN</td>\n",
       "      <td>Nintendo EAD</td>\n",
       "      <td>7.0</td>\n",
       "      <td>76.0</td>\n",
       "      <td>51.0</td>\n",
       "      <td>8.1</td>\n",
       "      <td>539.0</td>\n",
       "      <td>76.0</td>\n",
       "      <td>8.1</td>\n",
       "      <td>1.0</td>\n",
       "      <td>14.0</td>\n",
       "      <td>687.0</td>\n",
       "      <td>13.8</td>\n",
       "      <td>7.0</td>\n",
       "      <td>4.0</td>\n",
       "      <td>DVD</td>\n",
       "      <td>français</td>\n",
       "      <td>français</td>\n",
       "      <td>4.0</td>\n",
       "      <td>2.0</td>\n",
       "      <td>NaN</td>\n",
       "    </tr>\n",
       "    <tr>\n",
       "      <th>1</th>\n",
       "      <td>Super Mario Bros.</td>\n",
       "      <td>NES</td>\n",
       "      <td>1985.0</td>\n",
       "      <td>Platform</td>\n",
       "      <td>Nintendo</td>\n",
       "      <td>29.08</td>\n",
       "      <td>3.58</td>\n",
       "      <td>6.81</td>\n",
       "      <td>0.77</td>\n",
       "      <td>40.24</td>\n",
       "      <td>NaN</td>\n",
       "      <td>NaN</td>\n",
       "      <td>NaN</td>\n",
       "      <td>NaN</td>\n",
       "      <td>84.0</td>\n",
       "      <td>14.0</td>\n",
       "      <td>8.4</td>\n",
       "      <td>119.0</td>\n",
       "      <td>NaN</td>\n",
       "      <td>NaN</td>\n",
       "      <td>NaN</td>\n",
       "      <td>19.0</td>\n",
       "      <td>3.0</td>\n",
       "      <td>19.0</td>\n",
       "      <td>3.0</td>\n",
       "      <td>NaN</td>\n",
       "      <td>eShop Console Virtuelle Cartouche</td>\n",
       "      <td>NaN</td>\n",
       "      <td>NaN</td>\n",
       "      <td>NaN</td>\n",
       "      <td>NaN</td>\n",
       "      <td>1.0</td>\n",
       "    </tr>\n",
       "    <tr>\n",
       "      <th>2</th>\n",
       "      <td>Mario Kart Wii</td>\n",
       "      <td>Wii</td>\n",
       "      <td>2008.0</td>\n",
       "      <td>Racing</td>\n",
       "      <td>Nintendo</td>\n",
       "      <td>15.85</td>\n",
       "      <td>12.88</td>\n",
       "      <td>3.79</td>\n",
       "      <td>3.31</td>\n",
       "      <td>35.82</td>\n",
       "      <td>NaN</td>\n",
       "      <td>NaN</td>\n",
       "      <td>Nintendo EAD</td>\n",
       "      <td>3.0</td>\n",
       "      <td>82.0</td>\n",
       "      <td>73.0</td>\n",
       "      <td>8.5</td>\n",
       "      <td>1167.0</td>\n",
       "      <td>82.0</td>\n",
       "      <td>8.4</td>\n",
       "      <td>3.0</td>\n",
       "      <td>16.0</td>\n",
       "      <td>3023.0</td>\n",
       "      <td>17.4</td>\n",
       "      <td>3.0</td>\n",
       "      <td>4.0</td>\n",
       "      <td>DVD</td>\n",
       "      <td>NaN</td>\n",
       "      <td>NaN</td>\n",
       "      <td>4.0</td>\n",
       "      <td>2.0</td>\n",
       "      <td>2.0</td>\n",
       "    </tr>\n",
       "    <tr>\n",
       "      <th>3</th>\n",
       "      <td>Wii Sports Resort</td>\n",
       "      <td>Wii</td>\n",
       "      <td>2009.0</td>\n",
       "      <td>Sports</td>\n",
       "      <td>Nintendo</td>\n",
       "      <td>15.75</td>\n",
       "      <td>11.01</td>\n",
       "      <td>3.28</td>\n",
       "      <td>2.96</td>\n",
       "      <td>33.00</td>\n",
       "      <td>Nintendo</td>\n",
       "      <td>NaN</td>\n",
       "      <td>NaN</td>\n",
       "      <td>NaN</td>\n",
       "      <td>80.0</td>\n",
       "      <td>73.0</td>\n",
       "      <td>8.3</td>\n",
       "      <td>346.0</td>\n",
       "      <td>80.0</td>\n",
       "      <td>8.2</td>\n",
       "      <td>4.0</td>\n",
       "      <td>15.0</td>\n",
       "      <td>581.0</td>\n",
       "      <td>16.5</td>\n",
       "      <td>3.0</td>\n",
       "      <td>4.0</td>\n",
       "      <td>DVD</td>\n",
       "      <td>français</td>\n",
       "      <td>français</td>\n",
       "      <td>4.0</td>\n",
       "      <td>NaN</td>\n",
       "      <td>NaN</td>\n",
       "    </tr>\n",
       "    <tr>\n",
       "      <th>4</th>\n",
       "      <td>Pokemon Red/Pokemon Blue</td>\n",
       "      <td>GB</td>\n",
       "      <td>1996.0</td>\n",
       "      <td>Role-Playing</td>\n",
       "      <td>Nintendo</td>\n",
       "      <td>11.27</td>\n",
       "      <td>8.89</td>\n",
       "      <td>10.22</td>\n",
       "      <td>1.00</td>\n",
       "      <td>31.37</td>\n",
       "      <td>NaN</td>\n",
       "      <td>NaN</td>\n",
       "      <td>NaN</td>\n",
       "      <td>NaN</td>\n",
       "      <td>NaN</td>\n",
       "      <td>NaN</td>\n",
       "      <td>NaN</td>\n",
       "      <td>NaN</td>\n",
       "      <td>NaN</td>\n",
       "      <td>NaN</td>\n",
       "      <td>NaN</td>\n",
       "      <td>NaN</td>\n",
       "      <td>NaN</td>\n",
       "      <td>NaN</td>\n",
       "      <td>NaN</td>\n",
       "      <td>NaN</td>\n",
       "      <td>NaN</td>\n",
       "      <td>NaN</td>\n",
       "      <td>NaN</td>\n",
       "      <td>NaN</td>\n",
       "      <td>NaN</td>\n",
       "      <td>NaN</td>\n",
       "    </tr>\n",
       "  </tbody>\n",
       "</table>\n",
       "</div>"
      ],
      "text/plain": [
       "                       Name Platform    Year         Genre Publisher   \n",
       "0                Wii Sports      Wii  2006.0        Sports  Nintendo  \\\n",
       "1         Super Mario Bros.      NES  1985.0      Platform  Nintendo   \n",
       "2            Mario Kart Wii      Wii  2008.0        Racing  Nintendo   \n",
       "3         Wii Sports Resort      Wii  2009.0        Sports  Nintendo   \n",
       "4  Pokemon Red/Pokemon Blue       GB  1996.0  Role-Playing  Nintendo   \n",
       "\n",
       "   NA_Sales  EU_Sales  JP_Sales  Other_Sales  Global_Sales developpeur_goo   \n",
       "0     41.49     29.02      3.77         8.46         82.74        Nintendo  \\\n",
       "1     29.08      3.58      6.81         0.77         40.24             NaN   \n",
       "2     15.85     12.88      3.79         3.31         35.82             NaN   \n",
       "3     15.75     11.01      3.28         2.96         33.00        Nintendo   \n",
       "4     11.27      8.89     10.22         1.00         31.37             NaN   \n",
       "\n",
       "   PEGI_goo developpeur_wiki  PEGI_wiki  Meta_NP  Meta_VP  Meta_NUsers   \n",
       "0       NaN     Nintendo EAD        7.0     76.0     51.0          8.1  \\\n",
       "1       NaN              NaN        NaN     84.0     14.0          8.4   \n",
       "2       NaN     Nintendo EAD        3.0     82.0     73.0          8.5   \n",
       "3       NaN              NaN        NaN     80.0     73.0          8.3   \n",
       "4       NaN              NaN        NaN      NaN      NaN          NaN   \n",
       "\n",
       "   Meta_VUsers  meta_score  user_review  Rank  test_note_JVC  avis_count_JVC   \n",
       "0        539.0        76.0          8.1   1.0           14.0           687.0  \\\n",
       "1        119.0         NaN          NaN   NaN           19.0             3.0   \n",
       "2       1167.0        82.0          8.4   3.0           16.0          3023.0   \n",
       "3        346.0        80.0          8.2   4.0           15.0           581.0   \n",
       "4          NaN         NaN          NaN   NaN            NaN             NaN   \n",
       "\n",
       "   avis_note_JVC  Classification_Age_JVC  max_joueurs_JVC   \n",
       "0           13.8                     7.0              4.0  \\\n",
       "1           19.0                     3.0              NaN   \n",
       "2           17.4                     3.0              4.0   \n",
       "3           16.5                     3.0              4.0   \n",
       "4            NaN                     NaN              NaN   \n",
       "\n",
       "                         Support_JVC langue_parlée_JVC texte_JVC   \n",
       "0                                DVD          français  français  \\\n",
       "1  eShop Console Virtuelle Cartouche               NaN       NaN   \n",
       "2                                DVD               NaN       NaN   \n",
       "3                                DVD          français  français   \n",
       "4                                NaN               NaN       NaN   \n",
       "\n",
       "   nb_joueurs_JVC  game_mode  game_mode_JVC  \n",
       "0             4.0        2.0            NaN  \n",
       "1             NaN        NaN            1.0  \n",
       "2             4.0        2.0            2.0  \n",
       "3             4.0        NaN            NaN  \n",
       "4             NaN        NaN            NaN  "
      ]
     },
     "execution_count": 3,
     "metadata": {},
     "output_type": "execute_result"
    }
   ],
   "source": [
    "df= pd.read_csv(\"gaming_total_v2.csv\")\n",
    "df=df.drop('Unnamed: 0', axis=1)\n",
    "df.head()"
   ]
  },
  {
   "attachments": {},
   "cell_type": "markdown",
   "metadata": {},
   "source": [
    "# Traitement des Nans et des outliers de chaques colonnes"
   ]
  },
  {
   "cell_type": "code",
   "execution_count": 4,
   "metadata": {},
   "outputs": [],
   "source": [
    "# on supprime les colonnes qui font doublons ou avec trop peu d'informations\n",
    "df = df[df.columns[df.isna().sum()/df.shape[0] <0.9]]\n",
    "df=df.drop([\"nb_joueurs_JVC\", 'Rank', 'meta_score', 'user_review', 'max_joueurs_JVC'], axis=1)"
   ]
  },
  {
   "cell_type": "code",
   "execution_count": 5,
   "metadata": {},
   "outputs": [],
   "source": [
    "df = df.dropna(subset=['Publisher', 'Year'])"
   ]
  },
  {
   "cell_type": "code",
   "execution_count": 6,
   "metadata": {},
   "outputs": [],
   "source": [
    "top8_support=df['Support_JVC'].value_counts()[:8].index.tolist()\n",
    "\n",
    "df['Support_JVC'] = df['Support_JVC'].apply(lambda x: \"Autre\" if x not in top8_support else x)\n",
    "df['Support_JVC'] = df['Support_JVC'].fillna(\"autre\")\n"
   ]
  },
  {
   "cell_type": "code",
   "execution_count": 7,
   "metadata": {},
   "outputs": [],
   "source": [
    "df['texte_JVC']=df['texte_JVC'].fillna(df['texte_JVC'].mode()[0])\n",
    "df['langue_parlée_JVC']=df['langue_parlée_JVC'].fillna(df['langue_parlée_JVC'].mode()[0])\n",
    "df['Classification_Age_JVC']=df['Classification_Age_JVC'].fillna(df['Classification_Age_JVC'].mode()[0])\n",
    "df['avis_count_JVC']=df['avis_count_JVC'][df['avis_count_JVC']<300]\n",
    "df['Meta_VUsers']=df['Meta_VUsers'][df['Meta_VUsers']<30000]"
   ]
  },
  {
   "cell_type": "code",
   "execution_count": 8,
   "metadata": {},
   "outputs": [
    {
     "name": "stdout",
     "output_type": "stream",
     "text": [
      "developpeur_wiki\n",
      "EA Canada            92\n",
      "EA Tiburon           91\n",
      "Capcom               64\n",
      "Visual Concepts      61\n",
      "Konami               52\n",
      "                     ..\n",
      "Square Enix PDD 2     1\n",
      "Marvelous Inc.        1\n",
      "Sega AM5              1\n",
      "Spike Chunsoft        1\n",
      "Kotobuki System       1\n",
      "Name: count, Length: 969, dtype: int64\n",
      "13284\n"
     ]
    }
   ],
   "source": [
    "# developpeur_wiki\n",
    "# Beaucoup de Nans, quel traitement?\n",
    "\n",
    "print(df['developpeur_wiki'].value_counts())\n",
    "print(df['developpeur_wiki'].isna().sum())"
   ]
  },
  {
   "cell_type": "code",
   "execution_count": 9,
   "metadata": {},
   "outputs": [],
   "source": [
    "df=df.drop('developpeur_wiki', axis=1)"
   ]
  },
  {
   "cell_type": "code",
   "execution_count": 10,
   "metadata": {},
   "outputs": [
    {
     "name": "stdout",
     "output_type": "stream",
     "text": [
      "Meta_NP\n",
      "73.0    345\n",
      "71.0    338\n",
      "75.0    334\n",
      "70.0    328\n",
      "80.0    323\n",
      "       ... \n",
      "21.0      2\n",
      "22.0      2\n",
      "17.0      1\n",
      "13.0      1\n",
      "12.0      1\n",
      "Name: count, Length: 84, dtype: int64\n",
      "5696\n"
     ]
    },
    {
     "data": {
      "image/png": "[encoded data removed]",
      "text/plain": [
       "<Figure size 640x480 with 1 Axes>"
      ]
     },
     "metadata": {},
     "output_type": "display_data"
    }
   ],
   "source": [
    "# Meta_NP\n",
    "# quel traitement?\n",
    "\n",
    "print(df['Meta_NP'].value_counts())\n",
    "print(df['Meta_NP'].isna().sum())\n",
    "sns.boxplot(df['Meta_NP']);"
   ]
  },
  {
   "cell_type": "code",
   "execution_count": 11,
   "metadata": {},
   "outputs": [],
   "source": [
    "# on supprime les Nans\n",
    "\n",
    "df = df.dropna(subset=['Meta_NP'])"
   ]
  },
  {
   "cell_type": "code",
   "execution_count": 12,
   "metadata": {},
   "outputs": [
    {
     "name": "stdout",
     "output_type": "stream",
     "text": [
      "Meta_VP\n",
      "4.0      445\n",
      "5.0      372\n",
      "7.0      352\n",
      "6.0      336\n",
      "9.0      333\n",
      "        ... \n",
      "93.0       1\n",
      "107.0      1\n",
      "111.0      1\n",
      "113.0      1\n",
      "115.0      1\n",
      "Name: count, Length: 110, dtype: int64\n",
      "0\n"
     ]
    },
    {
     "data": {
      "image/png": "[encoded data removed]",
      "text/plain": [
       "<Figure size 640x480 with 1 Axes>"
      ]
     },
     "metadata": {},
     "output_type": "display_data"
    }
   ],
   "source": [
    "# Meta_VP, pas de Nans\n",
    "\n",
    "print(df['Meta_VP'].value_counts())\n",
    "print(df['Meta_VP'].isna().sum())\n",
    "sns.boxplot(df['Meta_VP']);"
   ]
  },
  {
   "cell_type": "code",
   "execution_count": 13,
   "metadata": {},
   "outputs": [
    {
     "name": "stdout",
     "output_type": "stream",
     "text": [
      "Meta_NUsers\n",
      "8.0    455\n",
      "7.8    436\n",
      "8.3    422\n",
      "8.2    415\n",
      "8.1    396\n",
      "      ... \n",
      "1.7      2\n",
      "0.6      1\n",
      "0.8      1\n",
      "1.2      1\n",
      "1.1      1\n",
      "Name: count, Length: 89, dtype: int64\n",
      "842\n"
     ]
    },
    {
     "data": {
      "image/png": "[encoded data removed]",
      "text/plain": [
       "<Figure size 640x480 with 1 Axes>"
      ]
     },
     "metadata": {},
     "output_type": "display_data"
    }
   ],
   "source": [
    "# Meta_NUSers\n",
    "# quel traitement?\n",
    "\n",
    "print(df['Meta_NUsers'].value_counts())\n",
    "print(df['Meta_NUsers'].isna().sum())\n",
    "sns.boxplot(df['Meta_NUsers']);\n"
   ]
  },
  {
   "cell_type": "code",
   "execution_count": 14,
   "metadata": {},
   "outputs": [],
   "source": [
    "# on supprime les Nans car très peu\n",
    "\n",
    "df = df.dropna(subset=['Meta_NUsers'])"
   ]
  },
  {
   "cell_type": "code",
   "execution_count": 15,
   "metadata": {},
   "outputs": [
    {
     "name": "stdout",
     "output_type": "stream",
     "text": [
      "Meta_VUsers\n",
      "5.0       337\n",
      "6.0       303\n",
      "10.0      290\n",
      "7.0       279\n",
      "4.0       272\n",
      "         ... \n",
      "1105.0      1\n",
      "888.0       1\n",
      "634.0       1\n",
      "1291.0      1\n",
      "613.0       1\n",
      "Name: count, Length: 1103, dtype: int64\n",
      "1\n"
     ]
    },
    {
     "data": {
      "image/png": "[encoded data removed]",
      "text/plain": [
       "<Figure size 640x480 with 1 Axes>"
      ]
     },
     "metadata": {},
     "output_type": "display_data"
    }
   ],
   "source": [
    "# Meta_VUSers\n",
    "# quel traitement?\n",
    "\n",
    "print(df['Meta_VUsers'].value_counts())\n",
    "print(df['Meta_VUsers'].isna().sum())\n",
    "sns.boxplot(df['Meta_VUsers']);"
   ]
  },
  {
   "cell_type": "code",
   "execution_count": 16,
   "metadata": {},
   "outputs": [],
   "source": [
    "# on supprime les Nans car très peu\n",
    "\n",
    "df = df.dropna(subset=['Meta_VUsers'])"
   ]
  },
  {
   "cell_type": "code",
   "execution_count": 17,
   "metadata": {},
   "outputs": [
    {
     "name": "stdout",
     "output_type": "stream",
     "text": [
      "test_note_JVC\n",
      "11.0    1941\n",
      "16.0     716\n",
      "15.0     690\n",
      "14.0     621\n",
      "13.0     520\n",
      "17.0     476\n",
      "12.0     383\n",
      "18.0     323\n",
      "10.0     250\n",
      "9.0      173\n",
      "8.0      142\n",
      "7.0       97\n",
      "19.0      91\n",
      "6.0       60\n",
      "5.0       43\n",
      "3.0       20\n",
      "4.0        8\n",
      "2.0        5\n",
      "Name: count, dtype: int64\n",
      "3224\n"
     ]
    },
    {
     "data": {
      "image/png": "[encoded data removed]",
      "text/plain": [
       "<Figure size 640x480 with 1 Axes>"
      ]
     },
     "metadata": {},
     "output_type": "display_data"
    }
   ],
   "source": [
    "# test_note_JVC\n",
    "# quel traitement?\n",
    "\n",
    "print(df['test_note_JVC'].value_counts())\n",
    "print(df['test_note_JVC'].isna().sum())\n",
    "sns.boxplot(df['test_note_JVC']);"
   ]
  },
  {
   "cell_type": "code",
   "execution_count": 18,
   "metadata": {},
   "outputs": [],
   "source": [
    "# on supprime les Nans\n",
    "\n",
    "df = df.dropna(subset=['test_note_JVC'])"
   ]
  },
  {
   "cell_type": "code",
   "execution_count": 19,
   "metadata": {},
   "outputs": [
    {
     "name": "stdout",
     "output_type": "stream",
     "text": [
      "avis_count_JVC\n",
      "1.0      482\n",
      "0.0      411\n",
      "2.0      379\n",
      "3.0      270\n",
      "4.0      238\n",
      "        ... \n",
      "289.0      1\n",
      "225.0      1\n",
      "257.0      1\n",
      "216.0      1\n",
      "202.0      1\n",
      "Name: count, Length: 279, dtype: int64\n",
      "721\n"
     ]
    },
    {
     "data": {
      "image/png": "[encoded data removed]",
      "text/plain": [
       "<Figure size 640x480 with 1 Axes>"
      ]
     },
     "metadata": {},
     "output_type": "display_data"
    }
   ],
   "source": [
    "# avis_count_JVC\n",
    "# quel traitement?\n",
    "\n",
    "print(df['avis_count_JVC'].value_counts())\n",
    "print(df['avis_count_JVC'].isna().sum())\n",
    "sns.boxplot(df['avis_count_JVC']);"
   ]
  },
  {
   "cell_type": "code",
   "execution_count": 20,
   "metadata": {},
   "outputs": [],
   "source": [
    "# on supprime les Nans\n",
    "\n",
    "df = df.dropna(subset=['avis_count_JVC'])"
   ]
  },
  {
   "cell_type": "code",
   "execution_count": 21,
   "metadata": {},
   "outputs": [
    {
     "name": "stdout",
     "output_type": "stream",
     "text": [
      "avis_note_JVC\n",
      "15.0    577\n",
      "17.0    166\n",
      "16.0    165\n",
      "18.0    157\n",
      "16.5    137\n",
      "       ... \n",
      "4.6       1\n",
      "1.5       1\n",
      "4.5       1\n",
      "19.6      1\n",
      "4.1       1\n",
      "Name: count, Length: 169, dtype: int64\n",
      "0\n"
     ]
    }
   ],
   "source": [
    "# avis_note_JVC\n",
    "# quel traitement?\n",
    "\n",
    "print(df['avis_note_JVC'].value_counts())\n",
    "print(df['avis_note_JVC'].isna().sum())\n",
    "#sns.boxplot(df['avis_note_JVC']);"
   ]
  },
  {
   "cell_type": "code",
   "execution_count": 22,
   "metadata": {},
   "outputs": [
    {
     "name": "stdout",
     "output_type": "stream",
     "text": [
      "Classification_Age_JVC\n",
      "3.0     2939\n",
      "12.0    1195\n",
      "16.0     742\n",
      "18.0     487\n",
      "7.0      460\n",
      "9.0        6\n",
      "17.0       6\n",
      "4.0        3\n",
      "Name: count, dtype: int64\n",
      "0\n"
     ]
    }
   ],
   "source": [
    "# Classification_Age_JVC\n",
    "# quel traitement?\n",
    "\n",
    "print(df['Classification_Age_JVC'].value_counts())\n",
    "print(df['Classification_Age_JVC'].isna().sum())\n",
    "#sns.boxplot(df['Classification_Age_JVC']);"
   ]
  },
  {
   "cell_type": "code",
   "execution_count": 23,
   "metadata": {},
   "outputs": [
    {
     "name": "stdout",
     "output_type": "stream",
     "text": [
      "game_mode\n",
      "2.0    757\n",
      "1.0    694\n",
      "Name: count, dtype: int64\n",
      "4387\n"
     ]
    }
   ],
   "source": [
    "# game_mode et game_mode\n",
    "# beaucoup de Nans, quel traitement?\n",
    "\n",
    "print(df['game_mode'].value_counts())\n",
    "print(df['game_mode'].isna().sum())"
   ]
  },
  {
   "cell_type": "code",
   "execution_count": 24,
   "metadata": {},
   "outputs": [
    {
     "name": "stdout",
     "output_type": "stream",
     "text": [
      "game_mode_JVC\n",
      "1.0    1468\n",
      "2.0    1141\n",
      "Name: count, dtype: int64\n",
      "3229\n"
     ]
    }
   ],
   "source": [
    "# game_mode_JVC et game_mode\n",
    "# beaucoup de Nans, quel traitement?\n",
    "\n",
    "print(df['game_mode_JVC'].value_counts())\n",
    "print(df['game_mode_JVC'].isna().sum())"
   ]
  },
  {
   "cell_type": "code",
   "execution_count": 25,
   "metadata": {},
   "outputs": [],
   "source": [
    "df=df.drop(['game_mode', 'game_mode_JVC'], axis=1)"
   ]
  },
  {
   "cell_type": "code",
   "execution_count": 26,
   "metadata": {},
   "outputs": [
    {
     "data": {
      "text/plain": [
       "(5838, 21)"
      ]
     },
     "execution_count": 26,
     "metadata": {},
     "output_type": "execute_result"
    }
   ],
   "source": [
    "df.shape"
   ]
  },
  {
   "cell_type": "code",
   "execution_count": 27,
   "metadata": {},
   "outputs": [
    {
     "data": {
      "text/plain": [
       "Name                      0\n",
       "Platform                  0\n",
       "Year                      0\n",
       "Genre                     0\n",
       "Publisher                 0\n",
       "NA_Sales                  0\n",
       "EU_Sales                  0\n",
       "JP_Sales                  0\n",
       "Other_Sales               0\n",
       "Global_Sales              0\n",
       "Meta_NP                   0\n",
       "Meta_VP                   0\n",
       "Meta_NUsers               0\n",
       "Meta_VUsers               0\n",
       "test_note_JVC             0\n",
       "avis_count_JVC            0\n",
       "avis_note_JVC             0\n",
       "Classification_Age_JVC    0\n",
       "Support_JVC               0\n",
       "langue_parlée_JVC         0\n",
       "texte_JVC                 0\n",
       "dtype: int64"
      ]
     },
     "execution_count": 27,
     "metadata": {},
     "output_type": "execute_result"
    }
   ],
   "source": [
    "df.isna().sum()"
   ]
  },
  {
   "attachments": {},
   "cell_type": "markdown",
   "metadata": {},
   "source": [
    "### Suppression des variables Sales corrélées à la target"
   ]
  },
  {
   "cell_type": "code",
   "execution_count": 28,
   "metadata": {},
   "outputs": [
    {
     "data": {
      "text/html": [
       "<div>\n",
       "<style scoped>\n",
       "    .dataframe tbody tr th:only-of-type {\n",
       "        vertical-align: middle;\n",
       "    }\n",
       "\n",
       "    .dataframe tbody tr th {\n",
       "        vertical-align: top;\n",
       "    }\n",
       "\n",
       "    .dataframe thead th {\n",
       "        text-align: right;\n",
       "    }\n",
       "</style>\n",
       "<table border=\"1\" class=\"dataframe\">\n",
       "  <thead>\n",
       "    <tr style=\"text-align: right;\">\n",
       "      <th></th>\n",
       "      <th>Name</th>\n",
       "      <th>Platform</th>\n",
       "      <th>Year</th>\n",
       "      <th>Genre</th>\n",
       "      <th>Publisher</th>\n",
       "      <th>Global_Sales</th>\n",
       "      <th>Meta_NP</th>\n",
       "      <th>Meta_VP</th>\n",
       "      <th>Meta_NUsers</th>\n",
       "      <th>Meta_VUsers</th>\n",
       "      <th>test_note_JVC</th>\n",
       "      <th>avis_count_JVC</th>\n",
       "      <th>avis_note_JVC</th>\n",
       "      <th>Classification_Age_JVC</th>\n",
       "      <th>Support_JVC</th>\n",
       "      <th>langue_parlée_JVC</th>\n",
       "      <th>texte_JVC</th>\n",
       "    </tr>\n",
       "  </thead>\n",
       "  <tbody>\n",
       "    <tr>\n",
       "      <th>1</th>\n",
       "      <td>Super Mario Bros.</td>\n",
       "      <td>NES</td>\n",
       "      <td>1985.0</td>\n",
       "      <td>Platform</td>\n",
       "      <td>Nintendo</td>\n",
       "      <td>40.24</td>\n",
       "      <td>84.0</td>\n",
       "      <td>14.0</td>\n",
       "      <td>8.4</td>\n",
       "      <td>119.0</td>\n",
       "      <td>19.0</td>\n",
       "      <td>3.0</td>\n",
       "      <td>19.0</td>\n",
       "      <td>3.0</td>\n",
       "      <td>Autre</td>\n",
       "      <td>français</td>\n",
       "      <td>français</td>\n",
       "    </tr>\n",
       "    <tr>\n",
       "      <th>5</th>\n",
       "      <td>Tetris</td>\n",
       "      <td>GB</td>\n",
       "      <td>1989.0</td>\n",
       "      <td>Puzzle</td>\n",
       "      <td>Nintendo</td>\n",
       "      <td>30.26</td>\n",
       "      <td>65.0</td>\n",
       "      <td>10.0</td>\n",
       "      <td>8.0</td>\n",
       "      <td>7.0</td>\n",
       "      <td>11.0</td>\n",
       "      <td>8.0</td>\n",
       "      <td>17.8</td>\n",
       "      <td>3.0</td>\n",
       "      <td>Autre</td>\n",
       "      <td>français</td>\n",
       "      <td>français</td>\n",
       "    </tr>\n",
       "    <tr>\n",
       "      <th>7</th>\n",
       "      <td>Wii Play</td>\n",
       "      <td>Wii</td>\n",
       "      <td>2006.0</td>\n",
       "      <td>Misc</td>\n",
       "      <td>Nintendo</td>\n",
       "      <td>29.02</td>\n",
       "      <td>58.0</td>\n",
       "      <td>41.0</td>\n",
       "      <td>6.6</td>\n",
       "      <td>190.0</td>\n",
       "      <td>12.0</td>\n",
       "      <td>223.0</td>\n",
       "      <td>12.1</td>\n",
       "      <td>3.0</td>\n",
       "      <td>DVD</td>\n",
       "      <td>français</td>\n",
       "      <td>français</td>\n",
       "    </tr>\n",
       "    <tr>\n",
       "      <th>10</th>\n",
       "      <td>Nintendogs</td>\n",
       "      <td>DS</td>\n",
       "      <td>2005.0</td>\n",
       "      <td>Simulation</td>\n",
       "      <td>Nintendo</td>\n",
       "      <td>24.76</td>\n",
       "      <td>83.0</td>\n",
       "      <td>54.0</td>\n",
       "      <td>7.6</td>\n",
       "      <td>125.0</td>\n",
       "      <td>15.0</td>\n",
       "      <td>159.0</td>\n",
       "      <td>16.4</td>\n",
       "      <td>3.0</td>\n",
       "      <td>Cartouche</td>\n",
       "      <td>français</td>\n",
       "      <td>français</td>\n",
       "    </tr>\n",
       "    <tr>\n",
       "      <th>13</th>\n",
       "      <td>Wii Fit</td>\n",
       "      <td>Wii</td>\n",
       "      <td>2007.0</td>\n",
       "      <td>Sports</td>\n",
       "      <td>Nintendo</td>\n",
       "      <td>22.72</td>\n",
       "      <td>80.0</td>\n",
       "      <td>63.0</td>\n",
       "      <td>7.7</td>\n",
       "      <td>164.0</td>\n",
       "      <td>15.0</td>\n",
       "      <td>227.0</td>\n",
       "      <td>16.2</td>\n",
       "      <td>3.0</td>\n",
       "      <td>DVD</td>\n",
       "      <td>français</td>\n",
       "      <td>français</td>\n",
       "    </tr>\n",
       "  </tbody>\n",
       "</table>\n",
       "</div>"
      ],
      "text/plain": [
       "                 Name Platform    Year       Genre Publisher  Global_Sales   \n",
       "1   Super Mario Bros.      NES  1985.0    Platform  Nintendo         40.24  \\\n",
       "5              Tetris       GB  1989.0      Puzzle  Nintendo         30.26   \n",
       "7            Wii Play      Wii  2006.0        Misc  Nintendo         29.02   \n",
       "10         Nintendogs       DS  2005.0  Simulation  Nintendo         24.76   \n",
       "13            Wii Fit      Wii  2007.0      Sports  Nintendo         22.72   \n",
       "\n",
       "    Meta_NP  Meta_VP  Meta_NUsers  Meta_VUsers  test_note_JVC  avis_count_JVC   \n",
       "1      84.0     14.0          8.4        119.0           19.0             3.0  \\\n",
       "5      65.0     10.0          8.0          7.0           11.0             8.0   \n",
       "7      58.0     41.0          6.6        190.0           12.0           223.0   \n",
       "10     83.0     54.0          7.6        125.0           15.0           159.0   \n",
       "13     80.0     63.0          7.7        164.0           15.0           227.0   \n",
       "\n",
       "    avis_note_JVC  Classification_Age_JVC Support_JVC langue_parlée_JVC   \n",
       "1            19.0                     3.0       Autre          français  \\\n",
       "5            17.8                     3.0       Autre          français   \n",
       "7            12.1                     3.0         DVD          français   \n",
       "10           16.4                     3.0   Cartouche          français   \n",
       "13           16.2                     3.0         DVD          français   \n",
       "\n",
       "   texte_JVC  \n",
       "1   français  \n",
       "5   français  \n",
       "7   français  \n",
       "10  français  \n",
       "13  français  "
      ]
     },
     "execution_count": 28,
     "metadata": {},
     "output_type": "execute_result"
    }
   ],
   "source": [
    "\n",
    "df=df.drop(['Other_Sales', 'JP_Sales', 'NA_Sales', 'EU_Sales'], axis=1)\n",
    "df.head()"
   ]
  },
  {
   "cell_type": "code",
   "execution_count": 29,
   "metadata": {},
   "outputs": [],
   "source": [
    "df['Year']= df['Year'].astype('int')"
   ]
  },
  {
   "cell_type": "code",
   "execution_count": 30,
   "metadata": {},
   "outputs": [
    {
     "name": "stdout",
     "output_type": "stream",
     "text": [
      "Name                      0\n",
      "Platform                  0\n",
      "Year                      0\n",
      "Genre                     0\n",
      "Publisher                 0\n",
      "Global_Sales              0\n",
      "Meta_NP                   0\n",
      "Meta_VP                   0\n",
      "Meta_NUsers               0\n",
      "Meta_VUsers               0\n",
      "test_note_JVC             0\n",
      "avis_count_JVC            0\n",
      "avis_note_JVC             0\n",
      "Classification_Age_JVC    0\n",
      "Support_JVC               0\n",
      "langue_parlée_JVC         0\n",
      "texte_JVC                 0\n",
      "dtype: int64\n"
     ]
    }
   ],
   "source": [
    "print(df.isna().sum())"
   ]
  },
  {
   "cell_type": "code",
   "execution_count": 31,
   "metadata": {},
   "outputs": [],
   "source": [
    "df.to_csv('df_clean.csv')"
   ]
  }
 ],
 "metadata": {
  "kernelspec": {
   "display_name": "base",
   "language": "python",
   "name": "python3"
  },
  "language_info": {
   "codemirror_mode": {
    "name": "ipython",
    "version": 3
   },
   "file_extension": ".py",
   "mimetype": "text/x-python",
   "name": "python",
   "nbconvert_exporter": "python",
   "pygments_lexer": "ipython3",
   "version": "3.9.16"
  },
  "orig_nbformat": 4
 },
 "nbformat": 4,
 "nbformat_minor": 2
}
