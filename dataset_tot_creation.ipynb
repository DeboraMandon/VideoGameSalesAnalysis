{
 "cells": [
  {
   "attachments": {},
   "cell_type": "markdown",
   "metadata": {},
   "source": [
    "# Création du dataset global "
   ]
  },
  {
   "attachments": {},
   "cell_type": "markdown",
   "metadata": {},
   "source": [
    "## Importer les librairies"
   ]
  },
  {
   "cell_type": "code",
   "execution_count": 15,
   "metadata": {},
   "outputs": [],
   "source": [
    "import pandas as pd\n"
   ]
  },
  {
   "attachments": {},
   "cell_type": "markdown",
   "metadata": {},
   "source": [
    "### Obtenir l'info complète du DF"
   ]
  },
  {
   "cell_type": "code",
   "execution_count": 16,
   "metadata": {},
   "outputs": [],
   "source": [
    "pd.set_option('display.max_columns', None)\n",
    "pd.set_option('display.max_rows', None)\n",
    "#pd.set_option('display.max_colwidth', None)"
   ]
  },
  {
   "attachments": {},
   "cell_type": "markdown",
   "metadata": {},
   "source": [
    "## Importer les différents DF"
   ]
  },
  {
   "cell_type": "code",
   "execution_count": 17,
   "metadata": {},
   "outputs": [],
   "source": [
    "df_wiki=pd.read_csv('gaming_wiki_OK.csv')\n",
    "df_google=pd.read_csv('gaming_goo_OK.csv')"
   ]
  },
  {
   "cell_type": "code",
   "execution_count": 20,
   "metadata": {},
   "outputs": [],
   "source": [
    "df_wiki=df_wiki.drop(['Unnamed: 0'], axis=1)"
   ]
  },
  {
   "cell_type": "code",
   "execution_count": 21,
   "metadata": {},
   "outputs": [],
   "source": [
    "df_google=df_google.drop(['Unnamed: 0'], axis=1)"
   ]
  },
  {
   "attachments": {},
   "cell_type": "markdown",
   "metadata": {},
   "source": [
    "## Merger les datasets entre eux"
   ]
  },
  {
   "cell_type": "code",
   "execution_count": 22,
   "metadata": {},
   "outputs": [],
   "source": [
    "gaming_total=pd.merge(df_google, df_wiki, on=[\"Name\", \"Platform\", \"Year\", \"Genre\"])\n",
    "\n"
   ]
  },
  {
   "cell_type": "code",
   "execution_count": 23,
   "metadata": {},
   "outputs": [],
   "source": [
    "gaming_total.drop_duplicates(keep = 'first', inplace=True)"
   ]
  },
  {
   "cell_type": "code",
   "execution_count": 24,
   "metadata": {},
   "outputs": [
    {
     "data": {
      "text/plain": [
       "(16475, 29)"
      ]
     },
     "execution_count": 24,
     "metadata": {},
     "output_type": "execute_result"
    }
   ],
   "source": [
    "gaming_total.shape"
   ]
  },
  {
   "cell_type": "code",
   "execution_count": 25,
   "metadata": {},
   "outputs": [
    {
     "data": {
      "text/html": [
       "<div>\n",
       "<style scoped>\n",
       "    .dataframe tbody tr th:only-of-type {\n",
       "        vertical-align: middle;\n",
       "    }\n",
       "\n",
       "    .dataframe tbody tr th {\n",
       "        vertical-align: top;\n",
       "    }\n",
       "\n",
       "    .dataframe thead th {\n",
       "        text-align: right;\n",
       "    }\n",
       "</style>\n",
       "<table border=\"1\" class=\"dataframe\">\n",
       "  <thead>\n",
       "    <tr style=\"text-align: right;\">\n",
       "      <th></th>\n",
       "      <th>Name</th>\n",
       "      <th>Platform</th>\n",
       "      <th>Year</th>\n",
       "      <th>Genre</th>\n",
       "      <th>Publisher_x</th>\n",
       "      <th>NA_Sales_x</th>\n",
       "      <th>EU_Sales_x</th>\n",
       "      <th>JP_Sales_x</th>\n",
       "      <th>Other_Sales_x</th>\n",
       "      <th>Global_Sales_x</th>\n",
       "      <th>description_google</th>\n",
       "      <th>developpeur_goo</th>\n",
       "      <th>distributeur_goo</th>\n",
       "      <th>langue_goo</th>\n",
       "      <th>PEGI_goo</th>\n",
       "      <th>game_series_goo</th>\n",
       "      <th>game_mode_goo</th>\n",
       "      <th>Rank</th>\n",
       "      <th>Publisher_y</th>\n",
       "      <th>NA_Sales_y</th>\n",
       "      <th>EU_Sales_y</th>\n",
       "      <th>JP_Sales_y</th>\n",
       "      <th>Other_Sales_y</th>\n",
       "      <th>Global_Sales_y</th>\n",
       "      <th>description_wiki</th>\n",
       "      <th>developpeur_wiki</th>\n",
       "      <th>langue_wiki</th>\n",
       "      <th>PEGI_wiki</th>\n",
       "      <th>game_mode_wiki</th>\n",
       "    </tr>\n",
       "  </thead>\n",
       "  <tbody>\n",
       "    <tr>\n",
       "      <th>0</th>\n",
       "      <td>Wii Sports</td>\n",
       "      <td>Wii</td>\n",
       "      <td>2006.0</td>\n",
       "      <td>Sports</td>\n",
       "      <td>Nintendo</td>\n",
       "      <td>41.49</td>\n",
       "      <td>29.02</td>\n",
       "      <td>3.77</td>\n",
       "      <td>8.46</td>\n",
       "      <td>82.74</td>\n",
       "      <td>Images\\nPlus d'images\\nConcepteurs : Shigeru M...</td>\n",
       "      <td>Nintendo, PLUS</td>\n",
       "      <td>NaN</td>\n",
       "      <td>NaN</td>\n",
       "      <td>NaN</td>\n",
       "      <td>NaN</td>\n",
       "      <td>NaN</td>\n",
       "      <td>1</td>\n",
       "      <td>Nintendo</td>\n",
       "      <td>41.49</td>\n",
       "      <td>29.02</td>\n",
       "      <td>3.77</td>\n",
       "      <td>8.46</td>\n",
       "      <td>82.74</td>\n",
       "      <td>Wii Sports\\nLogo officiel de Wii Sports.\\nDéve...</td>\n",
       "      <td>Nintendo EAD</td>\n",
       "      <td>Multilingue</td>\n",
       "      <td>7+ ?</td>\n",
       "      <td>Un joueur\\nMultijoueur (de 2 à 4)</td>\n",
       "    </tr>\n",
       "    <tr>\n",
       "      <th>1</th>\n",
       "      <td>Super Mario Bros.</td>\n",
       "      <td>NES</td>\n",
       "      <td>1985.0</td>\n",
       "      <td>Platform</td>\n",
       "      <td>Nintendo</td>\n",
       "      <td>29.08</td>\n",
       "      <td>3.58</td>\n",
       "      <td>6.81</td>\n",
       "      <td>0.77</td>\n",
       "      <td>40.24</td>\n",
       "      <td>Acheter des places\\nVu\\nÀ voir\\nSuper Mario Br...</td>\n",
       "      <td>NaN</td>\n",
       "      <td>Universal Pictures</td>\n",
       "      <td>Anglais</td>\n",
       "      <td>NaN</td>\n",
       "      <td>NaN</td>\n",
       "      <td>NaN</td>\n",
       "      <td>2</td>\n",
       "      <td>Nintendo</td>\n",
       "      <td>29.08</td>\n",
       "      <td>3.58</td>\n",
       "      <td>6.81</td>\n",
       "      <td>0.77</td>\n",
       "      <td>40.24</td>\n",
       "      <td>Ne doit pas être confondu avec Mario Bros. ou ...</td>\n",
       "      <td>NaN</td>\n",
       "      <td>NaN</td>\n",
       "      <td>NaN</td>\n",
       "      <td>NaN</td>\n",
       "    </tr>\n",
       "    <tr>\n",
       "      <th>2</th>\n",
       "      <td>Mario Kart Wii</td>\n",
       "      <td>Wii</td>\n",
       "      <td>2008.0</td>\n",
       "      <td>Racing</td>\n",
       "      <td>Nintendo</td>\n",
       "      <td>15.85</td>\n",
       "      <td>12.88</td>\n",
       "      <td>3.79</td>\n",
       "      <td>3.31</td>\n",
       "      <td>35.82</td>\n",
       "      <td>no_data</td>\n",
       "      <td>NaN</td>\n",
       "      <td>NaN</td>\n",
       "      <td>NaN</td>\n",
       "      <td>NaN</td>\n",
       "      <td>NaN</td>\n",
       "      <td>NaN</td>\n",
       "      <td>3</td>\n",
       "      <td>Nintendo</td>\n",
       "      <td>15.85</td>\n",
       "      <td>12.88</td>\n",
       "      <td>3.79</td>\n",
       "      <td>3.31</td>\n",
       "      <td>35.82</td>\n",
       "      <td>Mario Kart Wii\\nLogo officiel de Mario Kart Wi...</td>\n",
       "      <td>Nintendo EAD</td>\n",
       "      <td>Multilingue</td>\n",
       "      <td>3+ ?</td>\n",
       "      <td>Local\\n1 à 4 joueurs\\nEn ligne (jusqu'au 20 ma...</td>\n",
       "    </tr>\n",
       "    <tr>\n",
       "      <th>3</th>\n",
       "      <td>Wii Sports Resort</td>\n",
       "      <td>Wii</td>\n",
       "      <td>2009.0</td>\n",
       "      <td>Sports</td>\n",
       "      <td>Nintendo</td>\n",
       "      <td>15.75</td>\n",
       "      <td>11.01</td>\n",
       "      <td>3.28</td>\n",
       "      <td>2.96</td>\n",
       "      <td>33.00</td>\n",
       "      <td>Images\\nPlus d'images\\n97 % des utilisateurs o...</td>\n",
       "      <td>Nintendo, Nintendo Entertainment Analysis &amp; De...</td>\n",
       "      <td>NaN</td>\n",
       "      <td>NaN</td>\n",
       "      <td>NaN</td>\n",
       "      <td>NaN</td>\n",
       "      <td>Multijoueur</td>\n",
       "      <td>4</td>\n",
       "      <td>Nintendo</td>\n",
       "      <td>15.75</td>\n",
       "      <td>11.01</td>\n",
       "      <td>3.28</td>\n",
       "      <td>2.96</td>\n",
       "      <td>33.00</td>\n",
       "      <td>↑ « Game Credits for Wii Sports Resort » [arch...</td>\n",
       "      <td>NaN</td>\n",
       "      <td>NaN</td>\n",
       "      <td>NaN</td>\n",
       "      <td>NaN</td>\n",
       "    </tr>\n",
       "    <tr>\n",
       "      <th>4</th>\n",
       "      <td>Pokemon Red/Pokemon Blue</td>\n",
       "      <td>GB</td>\n",
       "      <td>1996.0</td>\n",
       "      <td>Role-Playing</td>\n",
       "      <td>Nintendo</td>\n",
       "      <td>11.27</td>\n",
       "      <td>8.89</td>\n",
       "      <td>10.22</td>\n",
       "      <td>1.00</td>\n",
       "      <td>31.37</td>\n",
       "      <td>Pokémon Rouge et Bleu\\nWikipedia\\nhttps://fr.w...</td>\n",
       "      <td>NaN</td>\n",
       "      <td>NaN</td>\n",
       "      <td>NaN</td>\n",
       "      <td>NaN</td>\n",
       "      <td>NaN</td>\n",
       "      <td>NaN</td>\n",
       "      <td>5</td>\n",
       "      <td>Nintendo</td>\n",
       "      <td>11.27</td>\n",
       "      <td>8.89</td>\n",
       "      <td>10.22</td>\n",
       "      <td>1.00</td>\n",
       "      <td>31.37</td>\n",
       "      <td>no_data</td>\n",
       "      <td>NaN</td>\n",
       "      <td>NaN</td>\n",
       "      <td>NaN</td>\n",
       "      <td>NaN</td>\n",
       "    </tr>\n",
       "  </tbody>\n",
       "</table>\n",
       "</div>"
      ],
      "text/plain": [
       "                       Name Platform    Year         Genre Publisher_x  \\\n",
       "0                Wii Sports      Wii  2006.0        Sports    Nintendo   \n",
       "1         Super Mario Bros.      NES  1985.0      Platform    Nintendo   \n",
       "2            Mario Kart Wii      Wii  2008.0        Racing    Nintendo   \n",
       "3         Wii Sports Resort      Wii  2009.0        Sports    Nintendo   \n",
       "4  Pokemon Red/Pokemon Blue       GB  1996.0  Role-Playing    Nintendo   \n",
       "\n",
       "   NA_Sales_x  EU_Sales_x  JP_Sales_x  Other_Sales_x  Global_Sales_x  \\\n",
       "0       41.49       29.02        3.77           8.46           82.74   \n",
       "1       29.08        3.58        6.81           0.77           40.24   \n",
       "2       15.85       12.88        3.79           3.31           35.82   \n",
       "3       15.75       11.01        3.28           2.96           33.00   \n",
       "4       11.27        8.89       10.22           1.00           31.37   \n",
       "\n",
       "                                  description_google  \\\n",
       "0  Images\\nPlus d'images\\nConcepteurs : Shigeru M...   \n",
       "1  Acheter des places\\nVu\\nÀ voir\\nSuper Mario Br...   \n",
       "2                                            no_data   \n",
       "3  Images\\nPlus d'images\\n97 % des utilisateurs o...   \n",
       "4  Pokémon Rouge et Bleu\\nWikipedia\\nhttps://fr.w...   \n",
       "\n",
       "                                     developpeur_goo    distributeur_goo  \\\n",
       "0                                     Nintendo, PLUS                 NaN   \n",
       "1                                                NaN  Universal Pictures   \n",
       "2                                                NaN                 NaN   \n",
       "3  Nintendo, Nintendo Entertainment Analysis & De...                 NaN   \n",
       "4                                                NaN                 NaN   \n",
       "\n",
       "  langue_goo PEGI_goo game_series_goo game_mode_goo  Rank Publisher_y  \\\n",
       "0        NaN      NaN             NaN           NaN     1    Nintendo   \n",
       "1    Anglais      NaN             NaN           NaN     2    Nintendo   \n",
       "2        NaN      NaN             NaN           NaN     3    Nintendo   \n",
       "3        NaN      NaN             NaN   Multijoueur     4    Nintendo   \n",
       "4        NaN      NaN             NaN           NaN     5    Nintendo   \n",
       "\n",
       "   NA_Sales_y  EU_Sales_y  JP_Sales_y  Other_Sales_y  Global_Sales_y  \\\n",
       "0       41.49       29.02        3.77           8.46           82.74   \n",
       "1       29.08        3.58        6.81           0.77           40.24   \n",
       "2       15.85       12.88        3.79           3.31           35.82   \n",
       "3       15.75       11.01        3.28           2.96           33.00   \n",
       "4       11.27        8.89       10.22           1.00           31.37   \n",
       "\n",
       "                                    description_wiki developpeur_wiki  \\\n",
       "0  Wii Sports\\nLogo officiel de Wii Sports.\\nDéve...     Nintendo EAD   \n",
       "1  Ne doit pas être confondu avec Mario Bros. ou ...              NaN   \n",
       "2  Mario Kart Wii\\nLogo officiel de Mario Kart Wi...     Nintendo EAD   \n",
       "3  ↑ « Game Credits for Wii Sports Resort » [arch...              NaN   \n",
       "4                                            no_data              NaN   \n",
       "\n",
       "   langue_wiki PEGI_wiki                                     game_mode_wiki  \n",
       "0  Multilingue      7+ ?                  Un joueur\\nMultijoueur (de 2 à 4)  \n",
       "1          NaN       NaN                                                NaN  \n",
       "2  Multilingue      3+ ?  Local\\n1 à 4 joueurs\\nEn ligne (jusqu'au 20 ma...  \n",
       "3          NaN       NaN                                                NaN  \n",
       "4          NaN       NaN                                                NaN  "
      ]
     },
     "execution_count": 25,
     "metadata": {},
     "output_type": "execute_result"
    }
   ],
   "source": [
    "gaming_total.head()"
   ]
  },
  {
   "attachments": {},
   "cell_type": "markdown",
   "metadata": {},
   "source": [
    "## Création du DF complet au format csv"
   ]
  },
  {
   "cell_type": "code",
   "execution_count": 41,
   "metadata": {},
   "outputs": [],
   "source": [
    "gaming_total.to_csv('gaming_total.csv')"
   ]
  }
 ],
 "metadata": {
  "kernelspec": {
   "display_name": "base",
   "language": "python",
   "name": "python3"
  },
  "language_info": {
   "codemirror_mode": {
    "name": "ipython",
    "version": 3
   },
   "file_extension": ".py",
   "mimetype": "text/x-python",
   "name": "python",
   "nbconvert_exporter": "python",
   "pygments_lexer": "ipython3",
   "version": "3.9.16"
  },
  "orig_nbformat": 4
 },
 "nbformat": 4,
 "nbformat_minor": 2
}
