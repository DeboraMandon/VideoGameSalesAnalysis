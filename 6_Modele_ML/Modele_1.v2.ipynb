{
 "cells": [
  {
   "attachments": {},
   "cell_type": "markdown",
   "metadata": {},
   "source": [
    "# PRE-PROCESSING et MACHINE LEARNING"
   ]
  },
  {
   "attachments": {},
   "cell_type": "markdown",
   "metadata": {},
   "source": [
    "## Importer les librairies"
   ]
  },
  {
   "cell_type": "code",
   "execution_count": 1,
   "metadata": {},
   "outputs": [
    {
     "data": {
      "text/html": [
       "<div>\n",
       "<style scoped>\n",
       "    .dataframe tbody tr th:only-of-type {\n",
       "        vertical-align: middle;\n",
       "    }\n",
       "\n",
       "    .dataframe tbody tr th {\n",
       "        vertical-align: top;\n",
       "    }\n",
       "\n",
       "    .dataframe thead th {\n",
       "        text-align: right;\n",
       "    }\n",
       "</style>\n",
       "<table border=\"1\" class=\"dataframe\">\n",
       "  <thead>\n",
       "    <tr style=\"text-align: right;\">\n",
       "      <th></th>\n",
       "      <th>Platform</th>\n",
       "      <th>Year</th>\n",
       "      <th>Genre</th>\n",
       "      <th>Publisher</th>\n",
       "      <th>Global_Sales</th>\n",
       "      <th>Meta_NP</th>\n",
       "      <th>Meta_VP</th>\n",
       "      <th>Meta_NUsers</th>\n",
       "      <th>Meta_VUsers</th>\n",
       "      <th>test_note_JVC</th>\n",
       "      <th>avis_count_JVC</th>\n",
       "      <th>avis_note_JVC</th>\n",
       "      <th>Classification_Age_JVC</th>\n",
       "      <th>Support_JVC</th>\n",
       "      <th>langue_parlée_JVC</th>\n",
       "      <th>texte_JVC</th>\n",
       "      <th>freq_name</th>\n",
       "    </tr>\n",
       "  </thead>\n",
       "  <tbody>\n",
       "    <tr>\n",
       "      <th>0</th>\n",
       "      <td>NES</td>\n",
       "      <td>1985</td>\n",
       "      <td>Platform</td>\n",
       "      <td>Nintendo</td>\n",
       "      <td>40.24</td>\n",
       "      <td>84.0</td>\n",
       "      <td>14.0</td>\n",
       "      <td>8.4</td>\n",
       "      <td>119.0</td>\n",
       "      <td>19.0</td>\n",
       "      <td>3.0</td>\n",
       "      <td>19.0</td>\n",
       "      <td>3.0</td>\n",
       "      <td>Autre</td>\n",
       "      <td>français</td>\n",
       "      <td>français</td>\n",
       "      <td>2.0</td>\n",
       "    </tr>\n",
       "    <tr>\n",
       "      <th>1</th>\n",
       "      <td>GB</td>\n",
       "      <td>1989</td>\n",
       "      <td>Puzzle</td>\n",
       "      <td>Nintendo</td>\n",
       "      <td>30.26</td>\n",
       "      <td>65.0</td>\n",
       "      <td>10.0</td>\n",
       "      <td>8.0</td>\n",
       "      <td>7.0</td>\n",
       "      <td>11.0</td>\n",
       "      <td>8.0</td>\n",
       "      <td>17.8</td>\n",
       "      <td>3.0</td>\n",
       "      <td>Autre</td>\n",
       "      <td>français</td>\n",
       "      <td>français</td>\n",
       "      <td>4.0</td>\n",
       "    </tr>\n",
       "    <tr>\n",
       "      <th>2</th>\n",
       "      <td>Wii</td>\n",
       "      <td>2006</td>\n",
       "      <td>Misc</td>\n",
       "      <td>Nintendo</td>\n",
       "      <td>29.02</td>\n",
       "      <td>58.0</td>\n",
       "      <td>41.0</td>\n",
       "      <td>6.6</td>\n",
       "      <td>190.0</td>\n",
       "      <td>12.0</td>\n",
       "      <td>223.0</td>\n",
       "      <td>12.1</td>\n",
       "      <td>3.0</td>\n",
       "      <td>DVD</td>\n",
       "      <td>français</td>\n",
       "      <td>français</td>\n",
       "      <td>4.0</td>\n",
       "    </tr>\n",
       "    <tr>\n",
       "      <th>3</th>\n",
       "      <td>DS</td>\n",
       "      <td>2005</td>\n",
       "      <td>Simulation</td>\n",
       "      <td>Nintendo</td>\n",
       "      <td>24.76</td>\n",
       "      <td>83.0</td>\n",
       "      <td>54.0</td>\n",
       "      <td>7.6</td>\n",
       "      <td>125.0</td>\n",
       "      <td>15.0</td>\n",
       "      <td>159.0</td>\n",
       "      <td>16.4</td>\n",
       "      <td>3.0</td>\n",
       "      <td>Cartouche</td>\n",
       "      <td>français</td>\n",
       "      <td>français</td>\n",
       "      <td>4.0</td>\n",
       "    </tr>\n",
       "    <tr>\n",
       "      <th>4</th>\n",
       "      <td>Wii</td>\n",
       "      <td>2007</td>\n",
       "      <td>Sports</td>\n",
       "      <td>Nintendo</td>\n",
       "      <td>22.72</td>\n",
       "      <td>80.0</td>\n",
       "      <td>63.0</td>\n",
       "      <td>7.7</td>\n",
       "      <td>164.0</td>\n",
       "      <td>15.0</td>\n",
       "      <td>227.0</td>\n",
       "      <td>16.2</td>\n",
       "      <td>3.0</td>\n",
       "      <td>DVD</td>\n",
       "      <td>français</td>\n",
       "      <td>français</td>\n",
       "      <td>3.0</td>\n",
       "    </tr>\n",
       "  </tbody>\n",
       "</table>\n",
       "</div>"
      ],
      "text/plain": [
       "  Platform  Year       Genre Publisher  Global_Sales  Meta_NP  Meta_VP   \n",
       "0      NES  1985    Platform  Nintendo         40.24     84.0     14.0  \\\n",
       "1       GB  1989      Puzzle  Nintendo         30.26     65.0     10.0   \n",
       "2      Wii  2006        Misc  Nintendo         29.02     58.0     41.0   \n",
       "3       DS  2005  Simulation  Nintendo         24.76     83.0     54.0   \n",
       "4      Wii  2007      Sports  Nintendo         22.72     80.0     63.0   \n",
       "\n",
       "   Meta_NUsers  Meta_VUsers  test_note_JVC  avis_count_JVC  avis_note_JVC   \n",
       "0          8.4        119.0           19.0             3.0           19.0  \\\n",
       "1          8.0          7.0           11.0             8.0           17.8   \n",
       "2          6.6        190.0           12.0           223.0           12.1   \n",
       "3          7.6        125.0           15.0           159.0           16.4   \n",
       "4          7.7        164.0           15.0           227.0           16.2   \n",
       "\n",
       "   Classification_Age_JVC Support_JVC langue_parlée_JVC texte_JVC  freq_name  \n",
       "0                     3.0       Autre          français  français        2.0  \n",
       "1                     3.0       Autre          français  français        4.0  \n",
       "2                     3.0         DVD          français  français        4.0  \n",
       "3                     3.0   Cartouche          français  français        4.0  \n",
       "4                     3.0         DVD          français  français        3.0  "
      ]
     },
     "execution_count": 1,
     "metadata": {},
     "output_type": "execute_result"
    }
   ],
   "source": [
    "import pandas as pd\n",
    "import matplotlib.pyplot as plt\n",
    "import seaborn as sns\n",
    "import numpy as np\n",
    "import re\n",
    "\n",
    "df_clean=pd.read_csv(\"df_clean_v2.csv\", index_col=0)\n",
    "df_clean.head()"
   ]
  },
  {
   "cell_type": "code",
   "execution_count": 2,
   "metadata": {},
   "outputs": [
    {
     "data": {
      "text/html": [
       "<div>\n",
       "<style scoped>\n",
       "    .dataframe tbody tr th:only-of-type {\n",
       "        vertical-align: middle;\n",
       "    }\n",
       "\n",
       "    .dataframe tbody tr th {\n",
       "        vertical-align: top;\n",
       "    }\n",
       "\n",
       "    .dataframe thead th {\n",
       "        text-align: right;\n",
       "    }\n",
       "</style>\n",
       "<table border=\"1\" class=\"dataframe\">\n",
       "  <thead>\n",
       "    <tr style=\"text-align: right;\">\n",
       "      <th></th>\n",
       "      <th>Year</th>\n",
       "      <th>Global_Sales</th>\n",
       "      <th>Meta_NP</th>\n",
       "      <th>Meta_VP</th>\n",
       "      <th>Meta_NUsers</th>\n",
       "      <th>Meta_VUsers</th>\n",
       "      <th>test_note_JVC</th>\n",
       "      <th>avis_count_JVC</th>\n",
       "      <th>avis_note_JVC</th>\n",
       "      <th>Classification_Age_JVC</th>\n",
       "      <th>...</th>\n",
       "      <th>Support_JVC_Autre</th>\n",
       "      <th>Support_JVC_Cartouche</th>\n",
       "      <th>Support_JVC_DVD</th>\n",
       "      <th>Support_JVC_PlayStation Store</th>\n",
       "      <th>langue_parlée_JVC_anglais</th>\n",
       "      <th>langue_parlée_JVC_français</th>\n",
       "      <th>langue_parlée_JVC_japonais</th>\n",
       "      <th>texte_JVC_anglais</th>\n",
       "      <th>texte_JVC_français</th>\n",
       "      <th>texte_JVC_japonais</th>\n",
       "    </tr>\n",
       "  </thead>\n",
       "  <tbody>\n",
       "    <tr>\n",
       "      <th>0</th>\n",
       "      <td>1985</td>\n",
       "      <td>40.24</td>\n",
       "      <td>84.0</td>\n",
       "      <td>14.0</td>\n",
       "      <td>8.4</td>\n",
       "      <td>119.0</td>\n",
       "      <td>19.0</td>\n",
       "      <td>3.0</td>\n",
       "      <td>19.0</td>\n",
       "      <td>3.0</td>\n",
       "      <td>...</td>\n",
       "      <td>True</td>\n",
       "      <td>False</td>\n",
       "      <td>False</td>\n",
       "      <td>False</td>\n",
       "      <td>False</td>\n",
       "      <td>True</td>\n",
       "      <td>False</td>\n",
       "      <td>False</td>\n",
       "      <td>True</td>\n",
       "      <td>False</td>\n",
       "    </tr>\n",
       "    <tr>\n",
       "      <th>1</th>\n",
       "      <td>1989</td>\n",
       "      <td>30.26</td>\n",
       "      <td>65.0</td>\n",
       "      <td>10.0</td>\n",
       "      <td>8.0</td>\n",
       "      <td>7.0</td>\n",
       "      <td>11.0</td>\n",
       "      <td>8.0</td>\n",
       "      <td>17.8</td>\n",
       "      <td>3.0</td>\n",
       "      <td>...</td>\n",
       "      <td>True</td>\n",
       "      <td>False</td>\n",
       "      <td>False</td>\n",
       "      <td>False</td>\n",
       "      <td>False</td>\n",
       "      <td>True</td>\n",
       "      <td>False</td>\n",
       "      <td>False</td>\n",
       "      <td>True</td>\n",
       "      <td>False</td>\n",
       "    </tr>\n",
       "    <tr>\n",
       "      <th>2</th>\n",
       "      <td>2006</td>\n",
       "      <td>29.02</td>\n",
       "      <td>58.0</td>\n",
       "      <td>41.0</td>\n",
       "      <td>6.6</td>\n",
       "      <td>190.0</td>\n",
       "      <td>12.0</td>\n",
       "      <td>223.0</td>\n",
       "      <td>12.1</td>\n",
       "      <td>3.0</td>\n",
       "      <td>...</td>\n",
       "      <td>False</td>\n",
       "      <td>False</td>\n",
       "      <td>True</td>\n",
       "      <td>False</td>\n",
       "      <td>False</td>\n",
       "      <td>True</td>\n",
       "      <td>False</td>\n",
       "      <td>False</td>\n",
       "      <td>True</td>\n",
       "      <td>False</td>\n",
       "    </tr>\n",
       "    <tr>\n",
       "      <th>3</th>\n",
       "      <td>2005</td>\n",
       "      <td>24.76</td>\n",
       "      <td>83.0</td>\n",
       "      <td>54.0</td>\n",
       "      <td>7.6</td>\n",
       "      <td>125.0</td>\n",
       "      <td>15.0</td>\n",
       "      <td>159.0</td>\n",
       "      <td>16.4</td>\n",
       "      <td>3.0</td>\n",
       "      <td>...</td>\n",
       "      <td>False</td>\n",
       "      <td>True</td>\n",
       "      <td>False</td>\n",
       "      <td>False</td>\n",
       "      <td>False</td>\n",
       "      <td>True</td>\n",
       "      <td>False</td>\n",
       "      <td>False</td>\n",
       "      <td>True</td>\n",
       "      <td>False</td>\n",
       "    </tr>\n",
       "    <tr>\n",
       "      <th>4</th>\n",
       "      <td>2007</td>\n",
       "      <td>22.72</td>\n",
       "      <td>80.0</td>\n",
       "      <td>63.0</td>\n",
       "      <td>7.7</td>\n",
       "      <td>164.0</td>\n",
       "      <td>15.0</td>\n",
       "      <td>227.0</td>\n",
       "      <td>16.2</td>\n",
       "      <td>3.0</td>\n",
       "      <td>...</td>\n",
       "      <td>False</td>\n",
       "      <td>False</td>\n",
       "      <td>True</td>\n",
       "      <td>False</td>\n",
       "      <td>False</td>\n",
       "      <td>True</td>\n",
       "      <td>False</td>\n",
       "      <td>False</td>\n",
       "      <td>True</td>\n",
       "      <td>False</td>\n",
       "    </tr>\n",
       "  </tbody>\n",
       "</table>\n",
       "<p>5 rows × 107 columns</p>\n",
       "</div>"
      ],
      "text/plain": [
       "   Year  Global_Sales  Meta_NP  Meta_VP  Meta_NUsers  Meta_VUsers   \n",
       "0  1985         40.24     84.0     14.0          8.4        119.0  \\\n",
       "1  1989         30.26     65.0     10.0          8.0          7.0   \n",
       "2  2006         29.02     58.0     41.0          6.6        190.0   \n",
       "3  2005         24.76     83.0     54.0          7.6        125.0   \n",
       "4  2007         22.72     80.0     63.0          7.7        164.0   \n",
       "\n",
       "   test_note_JVC  avis_count_JVC  avis_note_JVC  Classification_Age_JVC  ...   \n",
       "0           19.0             3.0           19.0                     3.0  ...  \\\n",
       "1           11.0             8.0           17.8                     3.0  ...   \n",
       "2           12.0           223.0           12.1                     3.0  ...   \n",
       "3           15.0           159.0           16.4                     3.0  ...   \n",
       "4           15.0           227.0           16.2                     3.0  ...   \n",
       "\n",
       "   Support_JVC_Autre  Support_JVC_Cartouche  Support_JVC_DVD   \n",
       "0               True                  False            False  \\\n",
       "1               True                  False            False   \n",
       "2              False                  False             True   \n",
       "3              False                   True            False   \n",
       "4              False                  False             True   \n",
       "\n",
       "   Support_JVC_PlayStation Store  langue_parlée_JVC_anglais   \n",
       "0                          False                      False  \\\n",
       "1                          False                      False   \n",
       "2                          False                      False   \n",
       "3                          False                      False   \n",
       "4                          False                      False   \n",
       "\n",
       "   langue_parlée_JVC_français  langue_parlée_JVC_japonais  texte_JVC_anglais   \n",
       "0                        True                       False              False  \\\n",
       "1                        True                       False              False   \n",
       "2                        True                       False              False   \n",
       "3                        True                       False              False   \n",
       "4                        True                       False              False   \n",
       "\n",
       "   texte_JVC_français  texte_JVC_japonais  \n",
       "0                True               False  \n",
       "1                True               False  \n",
       "2                True               False  \n",
       "3                True               False  \n",
       "4                True               False  \n",
       "\n",
       "[5 rows x 107 columns]"
      ]
     },
     "execution_count": 2,
     "metadata": {},
     "output_type": "execute_result"
    }
   ],
   "source": [
    "df_gd=pd.get_dummies(df_clean)\n",
    "df_gd.head()"
   ]
  },
  {
   "cell_type": "code",
   "execution_count": 3,
   "metadata": {},
   "outputs": [
    {
     "data": {
      "text/plain": [
       "(5837, 107)"
      ]
     },
     "execution_count": 3,
     "metadata": {},
     "output_type": "execute_result"
    }
   ],
   "source": [
    "df_gd.shape"
   ]
  },
  {
   "attachments": {},
   "cell_type": "markdown",
   "metadata": {},
   "source": [
    "# Création jeu d'entraînement et jeu de test"
   ]
  },
  {
   "cell_type": "code",
   "execution_count": 4,
   "metadata": {},
   "outputs": [],
   "source": [
    "from sklearn.model_selection import train_test_split\n",
    "\n",
    "y=df_gd['Global_Sales']\n",
    "X=df_gd.drop('Global_Sales', axis=1)\n",
    "\n",
    "X_train, X_test, y_train, y_test = train_test_split(X, y,  test_size=0.2, random_state=42)\n"
   ]
  },
  {
   "cell_type": "markdown",
   "metadata": {},
   "source": [
    "# Normalisation"
   ]
  },
  {
   "cell_type": "code",
   "execution_count": 5,
   "metadata": {},
   "outputs": [],
   "source": [
    "from sklearn.preprocessing import StandardScaler\n",
    "\n",
    "# Normaliser les variables\n",
    "scaler = StandardScaler()\n",
    "X_train = scaler.fit_transform(X_train)\n",
    "X_test = scaler.transform(X_test)"
   ]
  },
  {
   "attachments": {},
   "cell_type": "markdown",
   "metadata": {},
   "source": [
    "# Modele Lasso sans pipeline"
   ]
  },
  {
   "cell_type": "code",
   "execution_count": 6,
   "metadata": {},
   "outputs": [
    {
     "name": "stdout",
     "output_type": "stream",
     "text": [
      "R2 score: 0.21994516787607066\n",
      "MSE: 1.6598683433042467\n",
      "MAE: 0.6368472731984786\n"
     ]
    }
   ],
   "source": [
    "from sklearn.linear_model import Lasso\n",
    "from sklearn.metrics import r2_score, mean_squared_error, mean_absolute_error\n",
    "\n",
    "# Créer une instance de la classe Lasso\n",
    "modele_lasso = Lasso(alpha=0.1, max_iter=10000, random_state=42, fit_intercept=True)\n",
    "\n",
    "# Entraîner le modèle sur l'ensemble d'entraînement\n",
    "modele_lasso.fit(X_train, y_train)\n",
    "\n",
    "# Évaluer la performance du modèle sur l'ensemble de test\n",
    "score = modele_lasso.score(X_test, y_test)\n",
    "\n",
    "# Faire des prédictions sur les données de test\n",
    "y_pred_lasso = modele_lasso.predict(X_test)\n",
    "\n",
    "# Évaluer les performances du modèle en utilisant les mesures de performance\n",
    "r2 = r2_score(y_test, y_pred_lasso)\n",
    "mse = mean_squared_error(y_test, y_pred_lasso)\n",
    "mae = mean_absolute_error(y_test, y_pred_lasso)\n",
    "\n",
    "print(\"R2 score:\", r2)\n",
    "print(\"MSE:\", mse)\n",
    "print(\"MAE:\", mae)"
   ]
  },
  {
   "cell_type": "markdown",
   "metadata": {},
   "source": [
    "# Cross Validation"
   ]
  },
  {
   "cell_type": "code",
   "execution_count": 7,
   "metadata": {},
   "outputs": [
    {
     "name": "stdout",
     "output_type": "stream",
     "text": [
      "Scores de validation croisée:  [0.19716191 0.21849303 0.10291017 0.15520674 0.14465589]\n",
      "Score moyen de validation croisée: 0.16\n"
     ]
    }
   ],
   "source": [
    "from sklearn.model_selection import cross_val_score, KFold\n",
    "\n",
    "# Définir la stratégie de validation croisée\n",
    "cv = KFold(n_splits=5, shuffle=True, random_state=42)\n",
    "\n",
    "# Effectuer la validation croisée sur le modèle avec la métrique R²\n",
    "scores = cross_val_score(modele_lasso, X, y, cv=cv, scoring='r2')\n",
    "\n",
    "# Afficher les scores de validation croisée\n",
    "print(\"Scores de validation croisée: \", scores)\n",
    "\n",
    "# Afficher la moyenne des scores de validation croisée\n",
    "print(\"Score moyen de validation croisée: {:.2f}\".format(scores.mean()))"
   ]
  },
  {
   "attachments": {},
   "cell_type": "markdown",
   "metadata": {},
   "source": [
    "## Test modèle LinearSVR"
   ]
  },
  {
   "cell_type": "code",
   "execution_count": 8,
   "metadata": {},
   "outputs": [
    {
     "name": "stdout",
     "output_type": "stream",
     "text": [
      "0.28444220010715204\n"
     ]
    },
    {
     "name": "stderr",
     "output_type": "stream",
     "text": [
      "c:\\Users\\debor\\anaconda3\\lib\\site-packages\\sklearn\\svm\\_base.py:1244: ConvergenceWarning: Liblinear failed to converge, increase the number of iterations.\n",
      "  warnings.warn(\n"
     ]
    }
   ],
   "source": [
    "from sklearn.feature_selection import VarianceThreshold\n",
    "from sklearn.model_selection import train_test_split\n",
    "from sklearn.pipeline import make_pipeline, make_union\n",
    "from sklearn.svm import LinearSVR\n",
    "from sklearn.tree import DecisionTreeRegressor\n",
    "from tpot.builtins import StackingEstimator\n",
    "from tpot.export_utils import set_param_recursive\n",
    "\n",
    "# Création de la pipeline\n",
    "pipeline = make_pipeline(\n",
    "    StackingEstimator(estimator=DecisionTreeRegressor(max_depth=10, min_samples_leaf=20, min_samples_split=12)),\n",
    "    VarianceThreshold(threshold=0.1),\n",
    "    LinearSVR(C=20.0, dual=True, epsilon=0.01, loss=\"squared_epsilon_insensitive\", tol=0.001)\n",
    ")\n",
    "\n",
    "set_param_recursive(pipeline.steps, 'random_state', 42)\n",
    "\n",
    "# Entraînement du modèle avec les données d'entraînement\n",
    "pipeline.fit(X_train, y_train)\n",
    "\n",
    "# Évaluation des performances du modèle sur les données de test\n",
    "score = pipeline.score(X_test, y_test)\n",
    "print(score)"
   ]
  },
  {
   "attachments": {},
   "cell_type": "markdown",
   "metadata": {},
   "source": [
    "## Test modèle Lasso avec Pipeline1"
   ]
  },
  {
   "cell_type": "code",
   "execution_count": 9,
   "metadata": {},
   "outputs": [
    {
     "name": "stdout",
     "output_type": "stream",
     "text": [
      "0.37586370335447206\n"
     ]
    }
   ],
   "source": [
    "from sklearn.feature_selection import VarianceThreshold\n",
    "from sklearn.model_selection import train_test_split\n",
    "from sklearn.pipeline import make_pipeline, make_union\n",
    "from sklearn.svm import LinearSVR\n",
    "from sklearn.tree import DecisionTreeRegressor\n",
    "from tpot.builtins import StackingEstimator\n",
    "from tpot.export_utils import set_param_recursive\n",
    "from sklearn.linear_model import Lasso\n",
    "\n",
    "# Création de la pipeline\n",
    "pipeline = make_pipeline(\n",
    "    StackingEstimator(estimator=DecisionTreeRegressor(max_depth=10, min_samples_leaf=20, min_samples_split=12)),\n",
    "    VarianceThreshold(threshold=0.1),\n",
    "    Lasso(alpha=0.1, max_iter=10000, random_state=42, fit_intercept=True)\n",
    ")\n",
    "\n",
    "set_param_recursive(pipeline.steps, 'random_state', 42)\n",
    "\n",
    "# Entraînement du modèle avec les données d'entraînement\n",
    "pipeline.fit(X_train, y_train)\n",
    "\n",
    "# Évaluation des performances du modèle sur les données de test\n",
    "score = pipeline.score(X_test, y_test)\n",
    "print(score)"
   ]
  },
  {
   "attachments": {},
   "cell_type": "markdown",
   "metadata": {},
   "source": [
    "## Test modèle Lasso avec pipeline2"
   ]
  },
  {
   "cell_type": "code",
   "execution_count": 10,
   "metadata": {},
   "outputs": [
    {
     "name": "stdout",
     "output_type": "stream",
     "text": [
      "0.4774210582058045\n"
     ]
    }
   ],
   "source": [
    "from sklearn.feature_selection import VarianceThreshold\n",
    "from sklearn.model_selection import train_test_split\n",
    "from sklearn.pipeline import make_pipeline, make_union\n",
    "from sklearn.svm import LinearSVR\n",
    "from sklearn.tree import DecisionTreeRegressor\n",
    "from tpot.builtins import StackingEstimator\n",
    "from tpot.export_utils import set_param_recursive\n",
    "from sklearn.ensemble import ExtraTreesRegressor, RandomForestRegressor\n",
    "from sklearn.linear_model import Lasso\n",
    "\n",
    "# Création de la pipeline\n",
    "pipeline = make_pipeline(\n",
    "    StackingEstimator(estimator=DecisionTreeRegressor(max_depth=10, min_samples_leaf=20, min_samples_split=12)),\n",
    "    VarianceThreshold(threshold=0.1),\n",
    "    StackingEstimator(estimator=RandomForestRegressor(bootstrap=False, max_features=0.25, min_samples_leaf=14, min_samples_split=7, n_estimators=100)),\n",
    "    Lasso(alpha=0.1, max_iter=10000, random_state=42, fit_intercept=True)\n",
    ")\n",
    "\n",
    "set_param_recursive(pipeline.steps, 'random_state', 42)\n",
    "\n",
    "\n",
    "# Entraînement du modèle avec les données d'entraînement\n",
    "pipeline.fit(X_train, y_train)\n",
    "\n",
    "# Évaluation des performances du modèle sur les données de test\n",
    "score = pipeline.score(X_test, y_test)\n",
    "print(score)\n"
   ]
  },
  {
   "attachments": {},
   "cell_type": "markdown",
   "metadata": {},
   "source": [
    "## Test modèle LassoLarsCV avec pipeline2"
   ]
  },
  {
   "cell_type": "code",
   "execution_count": 11,
   "metadata": {},
   "outputs": [
    {
     "name": "stdout",
     "output_type": "stream",
     "text": [
      "0.48870372735710976\n"
     ]
    }
   ],
   "source": [
    "from sklearn.feature_selection import VarianceThreshold\n",
    "from sklearn.model_selection import train_test_split\n",
    "from sklearn.pipeline import make_pipeline, make_union\n",
    "from sklearn.svm import LinearSVR\n",
    "from sklearn.tree import DecisionTreeRegressor\n",
    "from tpot.builtins import StackingEstimator\n",
    "from tpot.export_utils import set_param_recursive\n",
    "from sklearn.ensemble import ExtraTreesRegressor, RandomForestRegressor\n",
    "from sklearn.linear_model import LassoLarsCV\n",
    "\n",
    "# Création de la pipeline\n",
    "pipeline = make_pipeline(\n",
    "    StackingEstimator(estimator=DecisionTreeRegressor(max_depth=10, min_samples_leaf=20, min_samples_split=12)),\n",
    "    VarianceThreshold(threshold=0.1),\n",
    "    StackingEstimator(estimator=RandomForestRegressor(bootstrap=False, max_features=0.25, min_samples_leaf=14, min_samples_split=7, n_estimators=100)),\n",
    "    LassoLarsCV()\n",
    ")\n",
    "\n",
    "set_param_recursive(pipeline.steps, 'random_state', 42)\n",
    "\n",
    "\n",
    "# Entraînement du modèle avec les données d'entraînement\n",
    "pipeline.fit(X_train, y_train)\n",
    "\n",
    "# Évaluation des performances du modèle sur les données de test\n",
    "score = pipeline.score(X_test, y_test)\n",
    "print(score)\n"
   ]
  },
  {
   "attachments": {},
   "cell_type": "markdown",
   "metadata": {},
   "source": [
    "# Pipeline"
   ]
  },
  {
   "cell_type": "code",
   "execution_count": 17,
   "metadata": {},
   "outputs": [],
   "source": [
    "import pandas as pd\n",
    "import matplotlib.pyplot as plt\n",
    "import seaborn as sns\n",
    "import numpy as np\n",
    "import re\n",
    "\n",
    "df_clean=pd.read_csv(\"df_clean_v2.csv\")\n"
   ]
  },
  {
   "cell_type": "code",
   "execution_count": 18,
   "metadata": {},
   "outputs": [],
   "source": [
    "df=pd.get_dummies(df_clean)"
   ]
  },
  {
   "cell_type": "code",
   "execution_count": 19,
   "metadata": {},
   "outputs": [],
   "source": [
    "from sklearn.model_selection import train_test_split\n",
    "\n",
    "y=df['Global_Sales']\n",
    "X=df.drop('Global_Sales', axis=1)\n",
    "\n",
    "X_train, X_test, y_train, y_test = train_test_split(X, y,  test_size=0.2, random_state=42)\n"
   ]
  },
  {
   "cell_type": "code",
   "execution_count": 21,
   "metadata": {},
   "outputs": [
    {
     "name": "stdout",
     "output_type": "stream",
     "text": [
      "0.9350415607853348\n"
     ]
    }
   ],
   "source": [
    "from sklearn.pipeline import Pipeline\n",
    "from sklearn.preprocessing import StandardScaler, MinMaxScaler\n",
    "from sklearn.feature_selection import SelectFwe\n",
    "from sklearn.linear_model import LassoLarsCV\n",
    "from sklearn.feature_selection import f_regression\n",
    "from sklearn.feature_selection import VarianceThreshold\n",
    "from sklearn.model_selection import train_test_split\n",
    "from sklearn.pipeline import make_pipeline, make_union\n",
    "from sklearn.svm import LinearSVR\n",
    "from sklearn.tree import DecisionTreeRegressor\n",
    "from tpot.builtins import StackingEstimator\n",
    "from tpot.export_utils import set_param_recursive\n",
    "from sklearn.metrics import r2_score, mean_squared_error, mean_absolute_error\n",
    "from sklearn.ensemble import ExtraTreesRegressor, RandomForestRegressor\n",
    "from sklearn.linear_model import LassoLarsCV\n",
    "\n",
    "# Création de la pipeline 3\n",
    "pipeline3 = make_pipeline(\n",
    "    StandardScaler(),\n",
    "    #MinMaxScaler(),\n",
    "    SelectFwe(score_func=f_regression, alpha=0.009000000000000001),\n",
    "    #StackingEstimator(estimator=DecisionTreeRegressor(max_depth=10, min_samples_leaf=20, min_samples_split=12)),\n",
    "    StackingEstimator(estimator=RandomForestRegressor(bootstrap=False, max_features=0.25, min_samples_leaf=14, min_samples_split=7, n_estimators=100)),\n",
    "    VarianceThreshold(threshold=0.1),\n",
    "    LassoLarsCV()\n",
    ")\n",
    "\n",
    "set_param_recursive(pipeline3.steps, 'random_state', 42)\n",
    "\n",
    "\n",
    "# Entraînement du modèle avec les données d'entraînement\n",
    "pipeline3.fit(X_train, y_train)\n",
    "\n",
    "# Évaluation des performances du modèle sur les données de test\n",
    "score = pipeline3.score(X_test, y_test)\n",
    "print(score)"
   ]
  },
  {
   "cell_type": "code",
   "execution_count": 22,
   "metadata": {},
   "outputs": [
    {
     "name": "stdout",
     "output_type": "stream",
     "text": [
      "R2 score: 0.9350415607853348\n",
      "MSE: 0.13822420225165116\n",
      "MAE: 0.16193892023809917\n"
     ]
    }
   ],
   "source": [
    "# Faire des prédictions sur les données de test\n",
    "y_pred_pipe = pipeline3.predict(X_test)\n",
    "\n",
    "# Évaluer les performances du modèle en utilisant les mesures de performance\n",
    "r2 = r2_score(y_test, y_pred_pipe)\n",
    "mse = mean_squared_error(y_test, y_pred_pipe)\n",
    "mae = mean_absolute_error(y_test, y_pred_pipe)\n",
    "\n",
    "print(\"R2 score:\", r2)\n",
    "print(\"MSE:\", mse)\n",
    "print(\"MAE:\", mae)"
   ]
  },
  {
   "attachments": {},
   "cell_type": "markdown",
   "metadata": {},
   "source": [
    "Le R2 score, également appelé coefficient de détermination, mesure la proportion de la variance totale de la variable cible qui est expliquée par le modèle. Un score R2 de 0,94 indique que ce modèle explique 92% de la variance dans les données, ce qui est très élevé et suggère que ce modèle est capable de prédire la variable cible avec une grande précision.\n",
    "\n",
    "Le MSE (mean squared error) mesure la moyenne des carrés des différences entre les prévisions du modèle et les valeurs réelles de la variable cible. Un MSE de 0,13 indique que, en moyenne, les prévisions de ce modèle diffèrent des valeurs réelles de la variable cible de 0,15 (la racine carrée du MSE) ce qui est relativement faible et suggère que ce modèle est assez précis.\n",
    "\n",
    "Le MAE (mean absolute error) mesure la moyenne des différences absolues entre les prévisions du modèle et les valeurs réelles de la variable cible. Un MAE de 0,2 indique que, en moyenne, les prévisions de ce modèle diffèrent des valeurs réelles de la variable cible de 0,04, ce qui est également relativement faible et suggère que ce modèle est assez précis.\n",
    "\n",
    "En somme, les scores que vous avez fournis indiquent tous que notre modèle est capable de prédire la variable cible avec une grande précision et une faible erreur."
   ]
  }
 ],
 "metadata": {
  "kernelspec": {
   "display_name": "base",
   "language": "python",
   "name": "python3"
  },
  "language_info": {
   "codemirror_mode": {
    "name": "ipython",
    "version": 3
   },
   "file_extension": ".py",
   "mimetype": "text/x-python",
   "name": "python",
   "nbconvert_exporter": "python",
   "pygments_lexer": "ipython3",
   "version": "3.9.16"
  },
  "orig_nbformat": 4
 },
 "nbformat": 4,
 "nbformat_minor": 2
}
