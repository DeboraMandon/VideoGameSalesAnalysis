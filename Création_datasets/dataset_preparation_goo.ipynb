{
 "cells": [
  {
   "attachments": {},
   "cell_type": "markdown",
   "metadata": {},
   "source": [
    "# Création dataset Google"
   ]
  },
  {
   "attachments": {},
   "cell_type": "markdown",
   "metadata": {},
   "source": [
    "## Importer les librairies"
   ]
  },
  {
   "cell_type": "code",
   "execution_count": 1,
   "metadata": {},
   "outputs": [],
   "source": [
    "import pandas as pd\n",
    "import re\n"
   ]
  },
  {
   "cell_type": "markdown",
   "metadata": {},
   "source": [
    "### Obtenir l'info complète du DF"
   ]
  },
  {
   "cell_type": "code",
   "execution_count": 2,
   "metadata": {},
   "outputs": [],
   "source": [
    "pd.set_option('display.max_columns', None)\n",
    "pd.set_option('display.max_rows', None)\n",
    "pd.set_option('display.max_colwidth', None)"
   ]
  },
  {
   "attachments": {},
   "cell_type": "markdown",
   "metadata": {},
   "source": [
    "## Importer le DF"
   ]
  },
  {
   "cell_type": "code",
   "execution_count": 3,
   "metadata": {},
   "outputs": [],
   "source": [
    "df_goo=pd.read_csv('gaming_google.csv')"
   ]
  },
  {
   "cell_type": "code",
   "execution_count": 4,
   "metadata": {},
   "outputs": [],
   "source": [
    "df_goo=df_goo.drop([\"Unnamed: 0\", \"Rank\"], axis=1)"
   ]
  },
  {
   "cell_type": "code",
   "execution_count": 5,
   "metadata": {},
   "outputs": [],
   "source": [
    "df_goo=df_goo.drop_duplicates(subset=[\"Name\", \"Platform\", \"Year\"], keep=\"first\")"
   ]
  },
  {
   "cell_type": "code",
   "execution_count": 6,
   "metadata": {},
   "outputs": [
    {
     "name": "stdout",
     "output_type": "stream",
     "text": [
      "<class 'pandas.core.frame.DataFrame'>\n",
      "Int64Index: 16596 entries, 0 to 16597\n",
      "Data columns (total 11 columns):\n",
      " #   Column              Non-Null Count  Dtype  \n",
      "---  ------              --------------  -----  \n",
      " 0   Name                16596 non-null  object \n",
      " 1   Platform            16596 non-null  object \n",
      " 2   Year                16326 non-null  float64\n",
      " 3   Genre               16596 non-null  object \n",
      " 4   Publisher           16538 non-null  object \n",
      " 5   NA_Sales            16596 non-null  float64\n",
      " 6   EU_Sales            16596 non-null  float64\n",
      " 7   JP_Sales            16596 non-null  float64\n",
      " 8   Other_Sales         16596 non-null  float64\n",
      " 9   Global_Sales        16596 non-null  float64\n",
      " 10  description_google  16582 non-null  object \n",
      "dtypes: float64(6), object(5)\n",
      "memory usage: 1.5+ MB\n"
     ]
    }
   ],
   "source": [
    "df_goo.info()"
   ]
  },
  {
   "attachments": {},
   "cell_type": "markdown",
   "metadata": {},
   "source": [
    "## Extraire les infos utiles de la colonne description"
   ]
  },
  {
   "cell_type": "code",
   "execution_count": 7,
   "metadata": {},
   "outputs": [
    {
     "name": "stdout",
     "output_type": "stream",
     "text": [
      "<class 'pandas.core.frame.DataFrame'>\n",
      "Int64Index: 16596 entries, 0 to 16597\n",
      "Data columns (total 17 columns):\n",
      " #   Column              Non-Null Count  Dtype  \n",
      "---  ------              --------------  -----  \n",
      " 0   Name                16596 non-null  object \n",
      " 1   Platform            16596 non-null  object \n",
      " 2   Year                16326 non-null  float64\n",
      " 3   Genre               16596 non-null  object \n",
      " 4   Publisher           16538 non-null  object \n",
      " 5   NA_Sales            16596 non-null  float64\n",
      " 6   EU_Sales            16596 non-null  float64\n",
      " 7   JP_Sales            16596 non-null  float64\n",
      " 8   Other_Sales         16596 non-null  float64\n",
      " 9   Global_Sales        16596 non-null  float64\n",
      " 10  description_google  16582 non-null  object \n",
      " 11  developpeur_goo     1497 non-null   object \n",
      " 12  distributeur_goo    14 non-null     object \n",
      " 13  langue_goo          75 non-null     object \n",
      " 14  PEGI_goo            503 non-null    object \n",
      " 15  game_series_goo     523 non-null    object \n",
      " 16  game_mode_goo       844 non-null    object \n",
      "dtypes: float64(6), object(11)\n",
      "memory usage: 2.3+ MB\n"
     ]
    }
   ],
   "source": [
    "df_goo[\"developpeur_goo\"] = df_goo[\"description_google\"].str.extract(\"Développeur[s]?\\s?:\\s?(.*)\", flags=re.IGNORECASE)\n",
    "df_goo[\"distributeur_goo\"] = df_goo[\"description_google\"].str.extract(\"Distributeur[s]?\\s?:\\s?(.*)\", flags=re.IGNORECASE)\n",
    "df_goo[\"langue_goo\"] = df_goo[\"description_google\"].str.extract(\"Langue[s]?\\s?:\\s?(.*)\", flags=re.IGNORECASE)\n",
    "df_goo[\"PEGI_goo\"] = df_goo[\"description_google\"].str.extract(\"PEGI[s]?\\s?:\\s?(.*)\", flags=re.IGNORECASE)\n",
    "df_goo[\"game_series_goo\"] = df_goo[\"description_google\"].str.extract(\"Série[s]?\\s?:\\s?(.*)\", flags=re.IGNORECASE)\n",
    "df_goo[\"game_mode_goo\"] = df_goo[\"description_google\"].str.extract(\"Mode[s]?\\s?:\\s?(.*)\", flags=re.IGNORECASE)\n",
    "\n",
    "df_goo.info()\n",
    "\n"
   ]
  },
  {
   "cell_type": "code",
   "execution_count": 8,
   "metadata": {},
   "outputs": [
    {
     "name": "stdout",
     "output_type": "stream",
     "text": [
      "<class 'pandas.core.frame.DataFrame'>\n",
      "Int64Index: 16596 entries, 0 to 16597\n",
      "Data columns (total 17 columns):\n",
      " #   Column              Non-Null Count  Dtype  \n",
      "---  ------              --------------  -----  \n",
      " 0   Name                16596 non-null  object \n",
      " 1   Platform            16596 non-null  object \n",
      " 2   Year                16326 non-null  float64\n",
      " 3   Genre               16596 non-null  object \n",
      " 4   Publisher           16538 non-null  object \n",
      " 5   NA_Sales            16596 non-null  float64\n",
      " 6   EU_Sales            16596 non-null  float64\n",
      " 7   JP_Sales            16596 non-null  float64\n",
      " 8   Other_Sales         16596 non-null  float64\n",
      " 9   Global_Sales        16596 non-null  float64\n",
      " 10  description_google  16582 non-null  object \n",
      " 11  developpeur_goo     1497 non-null   object \n",
      " 12  distributeur_goo    14 non-null     object \n",
      " 13  langue_goo          75 non-null     object \n",
      " 14  PEGI_goo            503 non-null    object \n",
      " 15  game_series_goo     523 non-null    object \n",
      " 16  game_mode_goo       844 non-null    object \n",
      "dtypes: float64(6), object(11)\n",
      "memory usage: 2.3+ MB\n"
     ]
    }
   ],
   "source": [
    "df_goo.info()"
   ]
  },
  {
   "attachments": {},
   "cell_type": "markdown",
   "metadata": {},
   "source": [
    "## Créer un fichier csv du nouveau df"
   ]
  },
  {
   "cell_type": "code",
   "execution_count": null,
   "metadata": {},
   "outputs": [],
   "source": [
    "df_goo.to_csv('gaming_goo_OK.csv')"
   ]
  }
 ],
 "metadata": {
  "kernelspec": {
   "display_name": "base",
   "language": "python",
   "name": "python3"
  },
  "language_info": {
   "codemirror_mode": {
    "name": "ipython",
    "version": 3
   },
   "file_extension": ".py",
   "mimetype": "text/x-python",
   "name": "python",
   "nbconvert_exporter": "python",
   "pygments_lexer": "ipython3",
   "version": "3.9.16"
  },
  "orig_nbformat": 4
 },
 "nbformat": 4,
 "nbformat_minor": 2
}
