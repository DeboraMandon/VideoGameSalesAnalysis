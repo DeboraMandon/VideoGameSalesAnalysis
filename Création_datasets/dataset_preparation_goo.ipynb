{
 "cells": [
  {
   "attachments": {},
   "cell_type": "markdown",
   "metadata": {},
   "source": [
    "# Création dataset Google"
   ]
  },
  {
   "attachments": {},
   "cell_type": "markdown",
   "metadata": {},
   "source": [
    "## Importer les librairies"
   ]
  },
  {
   "cell_type": "code",
   "execution_count": 14,
   "metadata": {},
   "outputs": [],
   "source": [
    "import pandas as pd\n",
    "import re\n"
   ]
  },
  {
   "cell_type": "markdown",
   "metadata": {},
   "source": [
    "### Obtenir l'info complète du DF"
   ]
  },
  {
   "cell_type": "code",
   "execution_count": 3,
   "metadata": {},
   "outputs": [],
   "source": [
    "pd.set_option('display.max_columns', None)\n",
    "pd.set_option('display.max_rows', None)\n",
    "pd.set_option('display.max_colwidth', None)"
   ]
  },
  {
   "attachments": {},
   "cell_type": "markdown",
   "metadata": {},
   "source": [
    "## Importer le DF"
   ]
  },
  {
   "cell_type": "code",
   "execution_count": 37,
   "metadata": {},
   "outputs": [],
   "source": [
    "df_goo=pd.read_csv('gaming_google.csv')"
   ]
  },
  {
   "cell_type": "code",
   "execution_count": 38,
   "metadata": {},
   "outputs": [],
   "source": [
    "df_goo=df_goo.drop([\"Unnamed: 0\", \"Rank\"], axis=1)"
   ]
  },
  {
   "cell_type": "code",
   "execution_count": 39,
   "metadata": {},
   "outputs": [
    {
     "name": "stdout",
     "output_type": "stream",
     "text": [
      "<class 'pandas.core.frame.DataFrame'>\n",
      "RangeIndex: 16598 entries, 0 to 16597\n",
      "Data columns (total 11 columns):\n",
      " #   Column              Non-Null Count  Dtype  \n",
      "---  ------              --------------  -----  \n",
      " 0   Name                16598 non-null  object \n",
      " 1   Platform            16598 non-null  object \n",
      " 2   Year                16327 non-null  float64\n",
      " 3   Genre               16598 non-null  object \n",
      " 4   Publisher           16540 non-null  object \n",
      " 5   NA_Sales            16598 non-null  float64\n",
      " 6   EU_Sales            16598 non-null  float64\n",
      " 7   JP_Sales            16598 non-null  float64\n",
      " 8   Other_Sales         16598 non-null  float64\n",
      " 9   Global_Sales        16598 non-null  float64\n",
      " 10  description_google  16584 non-null  object \n",
      "dtypes: float64(6), object(5)\n",
      "memory usage: 1.4+ MB\n"
     ]
    }
   ],
   "source": [
    "df_goo.info()"
   ]
  },
  {
   "cell_type": "code",
   "execution_count": 30,
   "metadata": {},
   "outputs": [
    {
     "data": {
      "text/html": [
       "<div>\n",
       "<style scoped>\n",
       "    .dataframe tbody tr th:only-of-type {\n",
       "        vertical-align: middle;\n",
       "    }\n",
       "\n",
       "    .dataframe tbody tr th {\n",
       "        vertical-align: top;\n",
       "    }\n",
       "\n",
       "    .dataframe thead th {\n",
       "        text-align: right;\n",
       "    }\n",
       "</style>\n",
       "<table border=\"1\" class=\"dataframe\">\n",
       "  <thead>\n",
       "    <tr style=\"text-align: right;\">\n",
       "      <th></th>\n",
       "      <th>Name</th>\n",
       "      <th>Platform</th>\n",
       "      <th>Year</th>\n",
       "      <th>Genre</th>\n",
       "      <th>Publisher</th>\n",
       "      <th>NA_Sales</th>\n",
       "      <th>EU_Sales</th>\n",
       "      <th>JP_Sales</th>\n",
       "      <th>Other_Sales</th>\n",
       "      <th>Global_Sales</th>\n",
       "      <th>description_google</th>\n",
       "      <th>developpeur</th>\n",
       "      <th>distributeur</th>\n",
       "      <th>langue</th>\n",
       "      <th>PEGI</th>\n",
       "      <th>game_series</th>\n",
       "      <th>game_mode</th>\n",
       "    </tr>\n",
       "  </thead>\n",
       "  <tbody>\n",
       "    <tr>\n",
       "      <th>5729</th>\n",
       "      <td>Homefront: The Revolution</td>\n",
       "      <td>PS4</td>\n",
       "      <td>2016.0</td>\n",
       "      <td>Shooter</td>\n",
       "      <td>Deep Silver</td>\n",
       "      <td>0.05</td>\n",
       "      <td>0.19</td>\n",
       "      <td>0.03</td>\n",
       "      <td>0.04</td>\n",
       "      <td>0.31</td>\n",
       "      <td>Homefront : The Revolution\\njeuxvideo.com\\nhttps://www.jeuxvideo.com › jeux › jeu-75997\\nHomefront : The Revolution est un FPS faisant suite au premier épisode du même nom. Toujours dans un contexte de guerre dans lequel la Corée a pris le ...\\nNote : 11/20 · Critique de daFrans   \\n\\nHomefront : The Revolution sur PlayStation 4\\njeuxvideo.com\\nhttps://www.jeuxvideo.com › jeux › 00038989-homef...\\nFPS pour PS4 faisant suite à Homefront, Homefront : The Revolution offre une expérience multijoueurs dans un contexte de guerre sur le territoire Américain.\\nNote : 11/20 · Critique de daFrans   \\n\\nHomefront: The Revolution\\nWikipedia\\nhttps://fr.wikipedia.org › wiki › Homefront:_The_Rev...\\nHomefront: The Revolution est un jeu vidéo d'action-aventure en vue subjective développé par Dambuster Studios et édité par Deep Silver en mai 2016 sur ...\\nSynopsis · DLC · Voir aussi\\nVidéos\\n10:05\\nHomefront The Revolution GAMEPLAY : Une révolution en ...\\nYouTube · JV - Jeux Vidéo\\n10 minutes et 5 secondes\\n23 mai 2016\\n45:47\\nLet's play : Homefront: The Revolution sur Xbox Series S, à 1 ...\\nYouTube · Otakugame․fr\\n45 minutes et 47 secondes\\n7 juil. 2022\\n3:00\\nHomefront The Revolution : notre avis en 3 minutes - Test en ...\\njeuxvideo.com\\n3 minutes\\n19 mai 2016\\n37:12\\nHomefront The Revolution TEST sur PS4 : un mauvais jeu ?\\nYouTube · Bibi300\\n37 minutes et 12 secondes\\n28 mai 2016\\nTout afficher\\n\\nHomefront®: The Revolution\\nSteam\\nhttps://store.steampowered.com › app › Homefront_T...\\nHomefront®: The Revolution est un jeu de tir en vue subjective dans un monde ouvert, au cours duquel vous devez mener la Résistance lors d'une guérilla face ...\\nProcesseur : Intel Core i5-4570T (2.9 GHz) or e...\\nEspace disque : 38 GB d'espace disque dispon...\\nSystème d'exploitation : Windows 7/8/10 all x64\\nNote : 6/10 · 9 861 avis · 19,99 $US   \\n\\nHomefront : The Revolution: Actualités, test, avis et vidéos\\nGamekult\\nhttps://www.gamekult.com › Jeux Vidéo › Homefront\\nToutes les infos du jeu Homefront : The Revolution, sur PC, Mac OS, Xbox One et PlayStation 4, de genre fps, développé par Crytek et édité par Deep Silver.\\nNote : 4/10 · Critique de Stéphane Bouley   \\n\\nTest : Homefront The Revolution\\nGamekult\\nhttps://www.gamekult.com › jeux › test\\n20 mai 2016 — Inutile de se le cacher, Homefront : The Revolution fait bel et bien partie de la deuxième catégorie tant son aîné est resté dans les ...\\nNote : 4/10 · Critique de Stéphane Bouley   \\n\\nHomefront The Revolution XBOX ONE - Jeux\\nMicromania\\nhttps://www.micromania.fr › homefront-the-revolutio...\\nHomefront The Revolution sur XBOXONE, un jeu Action / aventure pour XBOXONE disponible chez Micromania !\\nNote : 4 · 2 avis · 9,99 € à 14,99 € · En stock   \\n\\nL'avis des joueurs - Homefront : The Revolution\\nWe Are PlayStation\\nhttps://www.weareplaystation.fr › communautes › avis...\\nRévolution manquée ? Homefront est un fps qui se passe dans un futur imaginaire dans lequel la Corée a pris le contrôle de quasi l'ensemble du monde grâce à ...\\nNote : 3,6 · 17 avis   \\n\\nTEST de Homefront The Revolution : une révolte sans ...\\nGameblog\\nhttps://www.gameblog.fr › jeu-video › jeux › tests › test-...\\n2:57\\nSecond épisode de la série, Homefront : The Revolution arrive le 20 mai sur consoles et PC. Il apporte avec lui un vrai vent de révolte et ...\\nGameblog · 17 mai 2016\\nRecherches associées\\nhomefront: the revolution wiki\\nhomefront: the revolution 'freedom fighter' bundle\\nhomefront: the revolution system requirements\\nhomefront : the revolution forum\\ntest homefront : the revolution\\nhomefront : the revolution jvc\\nhomefront : the revolution soluce\\nhomefront the revolution ps4</td>\n",
       "      <td>NaN</td>\n",
       "      <td>NaN</td>\n",
       "      <td>NaN</td>\n",
       "      <td>NaN</td>\n",
       "      <td>NaN</td>\n",
       "      <td>NaN</td>\n",
       "    </tr>\n",
       "    <tr>\n",
       "      <th>14133</th>\n",
       "      <td>TOCA Race Driver 3</td>\n",
       "      <td>XB</td>\n",
       "      <td>2006.0</td>\n",
       "      <td>Racing</td>\n",
       "      <td>Codemasters</td>\n",
       "      <td>0.03</td>\n",
       "      <td>0.01</td>\n",
       "      <td>0.00</td>\n",
       "      <td>0.00</td>\n",
       "      <td>0.03</td>\n",
       "      <td>TOCA Race Driver 3 sur PC\\njeuxvideo.com\\nhttps://www.jeuxvideo.com › jeux › 00014216-toca-r...\\nToca Race Driver 3 sur PC est une simulation automobile pointue qui propose une multitude de circuits et de véhicules. Découvrez pas moins de 116 ...\\nNote : 16/20 · Critique de Rivaol   \\n\\nTOCA Race Driver 3\\nWikipedia\\nhttps://fr.wikipedia.org › wiki › TOCA_Race_Driver_3\\nTOCA Race Driver 3 est un jeu vidéo de course automobile de la série TOCA développé et édité par Codemasters en 2006 sur PlayStation 2, Windows et Xbox.\\nAccueil · Liste des circuits · Drapeaux\\n\\nToca Race Driver 3\\nAmazon\\nhttps://www.amazon.fr › Codemasters-502486632991...\\n2 modes de jeu principaux : - World Tour vous permet de monter directement à bord des voitures les plus puissantes du monde, et d'avoir accès à tout ce que le ...\\nNote : 4 · 6 avis · 16,21 € · En stock   \\nVidéos\\n26:28\\nToca Race Driver 3 - PC Gameplay 1080p\\nYouTube · FirstPlays HD\\n26 minutes et 28 secondes\\n23 sept. 2014\\n6 temps forts\\n dans cette vidéo\\nÀ partir de \\n01:16\\nLAP 3/3\\nÀ partir de \\n05:50\\nLAP 2.2\\nÀ partir de \\n07:28\\nLAP 0/2\\nÀ partir de \\n10:46\\nLAP 1/2 TIME 0.05.10\\nÀ partir de \\n13:59\\nLAP 22\\nÀ partir de \\n16:41\\nLAP 12\\n3:17\\nTOCA Race Driver 3 : Variété de voitures et de vues - Vidéo ...\\nDailymotion · JeuxVideo.com\\n3 minutes et 17 secondes\\n30 mars 2022\\n1:01\\nTOCA Race Driver 3 : vidéos du jeu sur PC, PlayStation 2 et ...\\nGamekult\\n1 minute et 1 seconde\\n23 févr. 2006\\nTout afficher\\n\\nTOCA Race Driver 3: Actualités, test, avis et vidéos\\nGamekult\\nhttps://www.gamekult.com › ... › TOCA / Race Driver\\nToutes les infos du jeu TOCA Race Driver 3, sur PC, PlayStation 2 et Xbox, de genre simulation et course, développé par Codemasters et édité par Codemasters ...\\nNote : 7/10 · Critique de Aurelien &amp; Benjamin   \\n\\nToca race driver 3\\nCdiscount\\nhttps://www.cdiscount.com › ... › Jeux PC › Gestion\\nDécouvrez nos offres Toca race driver 3 : large sélection de produits au meilleur prix | Livraison gratuite à partir de 25€* | Entreprise française ...\\nNote : 2 · 2 votes · 2,99 € à 264,99 €   \\n\\nTOCA Race Driver 3\\nGameblog\\nhttps://www.gameblog.fr › Jeu video › jeux\\nTOCA Race Driver 3 sur PC, PlayStation 2, Xbox, Mac : Test, Sortie 24/02/2006, Gameplay, Trailer de TOCA Race Driver 3 un jeu de type sport.\\nNote : 7/10 · 2 votes   \\n\\nToca Race Driver 3 Bestseller PC - Jeux Vidéo\\nMicromania\\nhttps://www.micromania.fr › toca-race-driver-3-bestsel...\\n14 sept. 2006 — Toca Race Driver 3 Bestseller sur PC, un jeu Course / arcade pour PC disponible chez Micromania !\\n0,49 € · Épuisé\\n\\nTOCA Race Driver 3 Platinum - PS2 - Gamecash\\nGamecash\\nhttps://www.gamecash.fr › toca-race-driver-3-platinu...\\nAchetez TOCA RACE DRIVER 3 PLATINUM sur PS2 à prix cassé avec Gamecash, le plus grand choix de jeux occasion partout en France !\\nGenre : Course Auto\\nDate de sortie : 05/10/2006\\n3,00 €\\n\\nToca race driver 3 - PC - Jeu Occasion Pas Cher\\nMediacash\\nhttps://www.mediacash.ma › toca-race-driver-3-e7656\\nAchetez TOCA RACE DRIVER 3 sur PC à prix cassé avec Mediacash, le plus grand choix de jeux occasion partout en Maroc !! Garantie 6 mois, retrait ou ...\\nRecherches associées\\ntoca race driver 3 pc download\\ntoca race driver 4\\ntoca race driver 3 ps2\\ntoca race driver 3 windows 10\\ntoca race driver 3 test\\ntoca race driver ps1\\ntoca race driver wiki\\ntoca ps2</td>\n",
       "      <td>NaN</td>\n",
       "      <td>NaN</td>\n",
       "      <td>NaN</td>\n",
       "      <td>NaN</td>\n",
       "      <td>NaN</td>\n",
       "      <td>NaN</td>\n",
       "    </tr>\n",
       "    <tr>\n",
       "      <th>8943</th>\n",
       "      <td>DrumMania</td>\n",
       "      <td>PS2</td>\n",
       "      <td>2000.0</td>\n",
       "      <td>Simulation</td>\n",
       "      <td>Konami Digital Entertainment</td>\n",
       "      <td>0.00</td>\n",
       "      <td>0.00</td>\n",
       "      <td>0.15</td>\n",
       "      <td>0.00</td>\n",
       "      <td>0.15</td>\n",
       "      <td>GuitarFreaks et DrumMania\\nWikipedia\\nhttps://fr.wikipedia.org › wiki › GuitarFreaks_et_Dru...\\nGuitar Freaks et DrumMania est une série de jeux vidéo développés par Bemani, une division de Konami. Il s'agit d'un jeu de rythme ou jeu musical.\\nManettes · Manette GuitarFreaks · Manette DrumMania · Versions\\n\\nGuitarFreaks and DrumMania\\nWikipedia\\nhttps://en.wikipedia.org › wiki › G...\\n·\\nTraduire cette page\\nDrumMania (ドラムマニア, Doramumania) is a drumming music video game series produced by Bemani, the musical division of Konami Digital Entertainment, ...\\nArcade system : Bemani PC (current; also used ...\\nMode(s) : Single-player, multiplayer\\nRelease : February 16, 1999; (GuitarFreaks); J...\\nPublisher(s) : Konami, Konami Digital Entertain...\\nHistory · Gameplay · Session linking · Legacy and impact\\n\\nDrumMania: Actualités, test, avis et vidéos\\nGamekult\\nhttps://www.gamekult.com › Jeux Vidéo › DrumMania\\nToutes les infos du jeu DrumMania, sur Arcade et PlayStation 2, de genre musique et édité par Konami.\\nGenre : Musique |\\nDate de sortie JP : Courant 2000\\n\\nDrumMania : l'actualité des jeux de la franchise\\nGamekult\\nhttps://www.gamekult.com › Jeux vidéo\\nDrumMania : les jeux de la franchise · Gitadora Tri-Boost · DrumMania · DrumMania XG · DrumMania V6 Blazing · GuitarFreaks V5 &amp; DrumMania V5 Rock to Infinity.\\n\\nTokyo Arcade - DrumMania V6 - YouTube\\nYouTube\\nhttps://www.youtube.com › watch\\n·\\nTraduire cette page\\n2:12\\nA Japanese gamer players DrumMania V6 at the Taito arcade in Akihabara in Tokyo, Japan.\\nYouTube · ACBlackJ0ck · 23 sept. 2015\\n\\nDrumMania- Jeu vidéo\\nSensCritique\\nhttps://www.senscritique.com › jeuvideo › drummania\\nJeu de Konami · PlayStation 2 et Arcade. Genre : Musique. Groupe : DrumMania · Toutes les informations · Réactions. Poster une réaction. Aucun résultat.\\n\\nDrumMania\\nSensCritique\\nhttps://www.senscritique.com › groupe › DrumMania\\nToutes les oeuvres de la franchise DrumMania sous forme de films, séries, jeux vidéo, littérature, bande-dessinée ou musique.\\n\\ndrummania\\nRemyWiki\\nhttps://remywiki.com › AC_DM\\n·\\nTraduire cette page\\n31 déc. 2022 — It would be used up to GUITARFREAKS 4thMIX &amp; drummania 3rdMIX. Compatible with GUITARFREAKS 2ndMIX, released the same day, allowing 13 songs to ...\\n\\nDrumMania V6 Blazing - Trailer officiel - Vidéo Dailymotion\\nDailymotion\\nhttps://www.dailymotion.com › video\\n0:45\\nDrumMania V6 Blazing - Trailer officiel. Gamekult. Suivre. il y a 9 ans. DrumMania V6 Blazing (Arcade) - Trailer officiel. Signaler ...\\nDailymotion · Gamekult · 31 juil. 2018\\n\\nDRUMMANIA CONTROLLER + JEU\\nRetrogame Shop\\nhttps://www.retrogame-shop.com › 2574-drummania-...\\nbatterie drummania pour ps2 complète en boite en excellent état plus le jeu drummnia ps2 de quoi s'éclater avec sa ps2 et devenir un très grand batteur.\\nGenre : Batterie plus jeu\\nSupport : ps2\\n139,00 €\\nRecherches associées\\nsystem 573\\nkonami games list\\nrock band 4 wiki\\njubeat\\npump it up game\\nclone hero strum\\nclone hero wiki\\nsilent scope arcade</td>\n",
       "      <td>NaN</td>\n",
       "      <td>NaN</td>\n",
       "      <td>NaN</td>\n",
       "      <td>NaN</td>\n",
       "      <td>NaN</td>\n",
       "      <td>NaN</td>\n",
       "    </tr>\n",
       "  </tbody>\n",
       "</table>\n",
       "</div>"
      ],
      "text/plain": [
       "                            Name Platform    Year       Genre  \\\n",
       "5729   Homefront: The Revolution      PS4  2016.0     Shooter   \n",
       "14133         TOCA Race Driver 3       XB  2006.0      Racing   \n",
       "8943                   DrumMania      PS2  2000.0  Simulation   \n",
       "\n",
       "                          Publisher  NA_Sales  EU_Sales  JP_Sales  \\\n",
       "5729                    Deep Silver      0.05      0.19      0.03   \n",
       "14133                   Codemasters      0.03      0.01      0.00   \n",
       "8943   Konami Digital Entertainment      0.00      0.00      0.15   \n",
       "\n",
       "       Other_Sales  Global_Sales  \\\n",
       "5729          0.04          0.31   \n",
       "14133         0.00          0.03   \n",
       "8943          0.00          0.15   \n",
       "\n",
       "                                                                                                                                                                                                                                                                                                                                                                                                                                                                                                                                                                                                                                                                                                                                                                                                                                                                                                                                                                                                                                                                                                                                                                                                                                                                                                                                                                                                                                                                                                                                                                                                                                                                                                                                                                                                                                                                                                                                                                                                                                                                                                                                                                                                                                                                                                                                                                                                                                                                                                                                                                                                                                                                                                                                                                                                                                                                                                                                                                                                                                                                                                                                                                                                                                                                                                                                                                                                                                                                                                                                                                                                                                                                                                                                                                                                              description_google  \\\n",
       "5729   Homefront : The Revolution\\njeuxvideo.com\\nhttps://www.jeuxvideo.com › jeux › jeu-75997\\nHomefront : The Revolution est un FPS faisant suite au premier épisode du même nom. Toujours dans un contexte de guerre dans lequel la Corée a pris le ...\\nNote : 11/20 · Critique de daFrans   \\n\\nHomefront : The Revolution sur PlayStation 4\\njeuxvideo.com\\nhttps://www.jeuxvideo.com › jeux › 00038989-homef...\\nFPS pour PS4 faisant suite à Homefront, Homefront : The Revolution offre une expérience multijoueurs dans un contexte de guerre sur le territoire Américain.\\nNote : 11/20 · Critique de daFrans   \\n\\nHomefront: The Revolution\\nWikipedia\\nhttps://fr.wikipedia.org › wiki › Homefront:_The_Rev...\\nHomefront: The Revolution est un jeu vidéo d'action-aventure en vue subjective développé par Dambuster Studios et édité par Deep Silver en mai 2016 sur ...\\nSynopsis · DLC · Voir aussi\\nVidéos\\n10:05\\nHomefront The Revolution GAMEPLAY : Une révolution en ...\\nYouTube · JV - Jeux Vidéo\\n10 minutes et 5 secondes\\n23 mai 2016\\n45:47\\nLet's play : Homefront: The Revolution sur Xbox Series S, à 1 ...\\nYouTube · Otakugame․fr\\n45 minutes et 47 secondes\\n7 juil. 2022\\n3:00\\nHomefront The Revolution : notre avis en 3 minutes - Test en ...\\njeuxvideo.com\\n3 minutes\\n19 mai 2016\\n37:12\\nHomefront The Revolution TEST sur PS4 : un mauvais jeu ?\\nYouTube · Bibi300\\n37 minutes et 12 secondes\\n28 mai 2016\\nTout afficher\\n\\nHomefront®: The Revolution\\nSteam\\nhttps://store.steampowered.com › app › Homefront_T...\\nHomefront®: The Revolution est un jeu de tir en vue subjective dans un monde ouvert, au cours duquel vous devez mener la Résistance lors d'une guérilla face ...\\nProcesseur : Intel Core i5-4570T (2.9 GHz) or e...\\nEspace disque : 38 GB d'espace disque dispon...\\nSystème d'exploitation : Windows 7/8/10 all x64\\nNote : 6/10 · 9 861 avis · 19,99 $US   \\n\\nHomefront : The Revolution: Actualités, test, avis et vidéos\\nGamekult\\nhttps://www.gamekult.com › Jeux Vidéo › Homefront\\nToutes les infos du jeu Homefront : The Revolution, sur PC, Mac OS, Xbox One et PlayStation 4, de genre fps, développé par Crytek et édité par Deep Silver.\\nNote : 4/10 · Critique de Stéphane Bouley   \\n\\nTest : Homefront The Revolution\\nGamekult\\nhttps://www.gamekult.com › jeux › test\\n20 mai 2016 — Inutile de se le cacher, Homefront : The Revolution fait bel et bien partie de la deuxième catégorie tant son aîné est resté dans les ...\\nNote : 4/10 · Critique de Stéphane Bouley   \\n\\nHomefront The Revolution XBOX ONE - Jeux\\nMicromania\\nhttps://www.micromania.fr › homefront-the-revolutio...\\nHomefront The Revolution sur XBOXONE, un jeu Action / aventure pour XBOXONE disponible chez Micromania !\\nNote : 4 · 2 avis · 9,99 € à 14,99 € · En stock   \\n\\nL'avis des joueurs - Homefront : The Revolution\\nWe Are PlayStation\\nhttps://www.weareplaystation.fr › communautes › avis...\\nRévolution manquée ? Homefront est un fps qui se passe dans un futur imaginaire dans lequel la Corée a pris le contrôle de quasi l'ensemble du monde grâce à ...\\nNote : 3,6 · 17 avis   \\n\\nTEST de Homefront The Revolution : une révolte sans ...\\nGameblog\\nhttps://www.gameblog.fr › jeu-video › jeux › tests › test-...\\n2:57\\nSecond épisode de la série, Homefront : The Revolution arrive le 20 mai sur consoles et PC. Il apporte avec lui un vrai vent de révolte et ...\\nGameblog · 17 mai 2016\\nRecherches associées\\nhomefront: the revolution wiki\\nhomefront: the revolution 'freedom fighter' bundle\\nhomefront: the revolution system requirements\\nhomefront : the revolution forum\\ntest homefront : the revolution\\nhomefront : the revolution jvc\\nhomefront : the revolution soluce\\nhomefront the revolution ps4   \n",
       "14133                                                                                                                                                                                                                                                                                                                     TOCA Race Driver 3 sur PC\\njeuxvideo.com\\nhttps://www.jeuxvideo.com › jeux › 00014216-toca-r...\\nToca Race Driver 3 sur PC est une simulation automobile pointue qui propose une multitude de circuits et de véhicules. Découvrez pas moins de 116 ...\\nNote : 16/20 · Critique de Rivaol   \\n\\nTOCA Race Driver 3\\nWikipedia\\nhttps://fr.wikipedia.org › wiki › TOCA_Race_Driver_3\\nTOCA Race Driver 3 est un jeu vidéo de course automobile de la série TOCA développé et édité par Codemasters en 2006 sur PlayStation 2, Windows et Xbox.\\nAccueil · Liste des circuits · Drapeaux\\n\\nToca Race Driver 3\\nAmazon\\nhttps://www.amazon.fr › Codemasters-502486632991...\\n2 modes de jeu principaux : - World Tour vous permet de monter directement à bord des voitures les plus puissantes du monde, et d'avoir accès à tout ce que le ...\\nNote : 4 · 6 avis · 16,21 € · En stock   \\nVidéos\\n26:28\\nToca Race Driver 3 - PC Gameplay 1080p\\nYouTube · FirstPlays HD\\n26 minutes et 28 secondes\\n23 sept. 2014\\n6 temps forts\\n dans cette vidéo\\nÀ partir de \\n01:16\\nLAP 3/3\\nÀ partir de \\n05:50\\nLAP 2.2\\nÀ partir de \\n07:28\\nLAP 0/2\\nÀ partir de \\n10:46\\nLAP 1/2 TIME 0.05.10\\nÀ partir de \\n13:59\\nLAP 22\\nÀ partir de \\n16:41\\nLAP 12\\n3:17\\nTOCA Race Driver 3 : Variété de voitures et de vues - Vidéo ...\\nDailymotion · JeuxVideo.com\\n3 minutes et 17 secondes\\n30 mars 2022\\n1:01\\nTOCA Race Driver 3 : vidéos du jeu sur PC, PlayStation 2 et ...\\nGamekult\\n1 minute et 1 seconde\\n23 févr. 2006\\nTout afficher\\n\\nTOCA Race Driver 3: Actualités, test, avis et vidéos\\nGamekult\\nhttps://www.gamekult.com › ... › TOCA / Race Driver\\nToutes les infos du jeu TOCA Race Driver 3, sur PC, PlayStation 2 et Xbox, de genre simulation et course, développé par Codemasters et édité par Codemasters ...\\nNote : 7/10 · Critique de Aurelien & Benjamin   \\n\\nToca race driver 3\\nCdiscount\\nhttps://www.cdiscount.com › ... › Jeux PC › Gestion\\nDécouvrez nos offres Toca race driver 3 : large sélection de produits au meilleur prix | Livraison gratuite à partir de 25€* | Entreprise française ...\\nNote : 2 · 2 votes · 2,99 € à 264,99 €   \\n\\nTOCA Race Driver 3\\nGameblog\\nhttps://www.gameblog.fr › Jeu video › jeux\\nTOCA Race Driver 3 sur PC, PlayStation 2, Xbox, Mac : Test, Sortie 24/02/2006, Gameplay, Trailer de TOCA Race Driver 3 un jeu de type sport.\\nNote : 7/10 · 2 votes   \\n\\nToca Race Driver 3 Bestseller PC - Jeux Vidéo\\nMicromania\\nhttps://www.micromania.fr › toca-race-driver-3-bestsel...\\n14 sept. 2006 — Toca Race Driver 3 Bestseller sur PC, un jeu Course / arcade pour PC disponible chez Micromania !\\n0,49 € · Épuisé\\n\\nTOCA Race Driver 3 Platinum - PS2 - Gamecash\\nGamecash\\nhttps://www.gamecash.fr › toca-race-driver-3-platinu...\\nAchetez TOCA RACE DRIVER 3 PLATINUM sur PS2 à prix cassé avec Gamecash, le plus grand choix de jeux occasion partout en France !\\nGenre : Course Auto\\nDate de sortie : 05/10/2006\\n3,00 €\\n\\nToca race driver 3 - PC - Jeu Occasion Pas Cher\\nMediacash\\nhttps://www.mediacash.ma › toca-race-driver-3-e7656\\nAchetez TOCA RACE DRIVER 3 sur PC à prix cassé avec Mediacash, le plus grand choix de jeux occasion partout en Maroc !! Garantie 6 mois, retrait ou ...\\nRecherches associées\\ntoca race driver 3 pc download\\ntoca race driver 4\\ntoca race driver 3 ps2\\ntoca race driver 3 windows 10\\ntoca race driver 3 test\\ntoca race driver ps1\\ntoca race driver wiki\\ntoca ps2   \n",
       "8943                                                                                                                                                                                                                                                                                                                                                                                                                                                                                                                                                                                                                                                                                GuitarFreaks et DrumMania\\nWikipedia\\nhttps://fr.wikipedia.org › wiki › GuitarFreaks_et_Dru...\\nGuitar Freaks et DrumMania est une série de jeux vidéo développés par Bemani, une division de Konami. Il s'agit d'un jeu de rythme ou jeu musical.\\nManettes · Manette GuitarFreaks · Manette DrumMania · Versions\\n\\nGuitarFreaks and DrumMania\\nWikipedia\\nhttps://en.wikipedia.org › wiki › G...\\n·\\nTraduire cette page\\nDrumMania (ドラムマニア, Doramumania) is a drumming music video game series produced by Bemani, the musical division of Konami Digital Entertainment, ...\\nArcade system : Bemani PC (current; also used ...\\nMode(s) : Single-player, multiplayer\\nRelease : February 16, 1999; (GuitarFreaks); J...\\nPublisher(s) : Konami, Konami Digital Entertain...\\nHistory · Gameplay · Session linking · Legacy and impact\\n\\nDrumMania: Actualités, test, avis et vidéos\\nGamekult\\nhttps://www.gamekult.com › Jeux Vidéo › DrumMania\\nToutes les infos du jeu DrumMania, sur Arcade et PlayStation 2, de genre musique et édité par Konami.\\nGenre : Musique |\\nDate de sortie JP : Courant 2000\\n\\nDrumMania : l'actualité des jeux de la franchise\\nGamekult\\nhttps://www.gamekult.com › Jeux vidéo\\nDrumMania : les jeux de la franchise · Gitadora Tri-Boost · DrumMania · DrumMania XG · DrumMania V6 Blazing · GuitarFreaks V5 & DrumMania V5 Rock to Infinity.\\n\\nTokyo Arcade - DrumMania V6 - YouTube\\nYouTube\\nhttps://www.youtube.com › watch\\n·\\nTraduire cette page\\n2:12\\nA Japanese gamer players DrumMania V6 at the Taito arcade in Akihabara in Tokyo, Japan.\\nYouTube · ACBlackJ0ck · 23 sept. 2015\\n\\nDrumMania- Jeu vidéo\\nSensCritique\\nhttps://www.senscritique.com › jeuvideo › drummania\\nJeu de Konami · PlayStation 2 et Arcade. Genre : Musique. Groupe : DrumMania · Toutes les informations · Réactions. Poster une réaction. Aucun résultat.\\n\\nDrumMania\\nSensCritique\\nhttps://www.senscritique.com › groupe › DrumMania\\nToutes les oeuvres de la franchise DrumMania sous forme de films, séries, jeux vidéo, littérature, bande-dessinée ou musique.\\n\\ndrummania\\nRemyWiki\\nhttps://remywiki.com › AC_DM\\n·\\nTraduire cette page\\n31 déc. 2022 — It would be used up to GUITARFREAKS 4thMIX & drummania 3rdMIX. Compatible with GUITARFREAKS 2ndMIX, released the same day, allowing 13 songs to ...\\n\\nDrumMania V6 Blazing - Trailer officiel - Vidéo Dailymotion\\nDailymotion\\nhttps://www.dailymotion.com › video\\n0:45\\nDrumMania V6 Blazing - Trailer officiel. Gamekult. Suivre. il y a 9 ans. DrumMania V6 Blazing (Arcade) - Trailer officiel. Signaler ...\\nDailymotion · Gamekult · 31 juil. 2018\\n\\nDRUMMANIA CONTROLLER + JEU\\nRetrogame Shop\\nhttps://www.retrogame-shop.com › 2574-drummania-...\\nbatterie drummania pour ps2 complète en boite en excellent état plus le jeu drummnia ps2 de quoi s'éclater avec sa ps2 et devenir un très grand batteur.\\nGenre : Batterie plus jeu\\nSupport : ps2\\n139,00 €\\nRecherches associées\\nsystem 573\\nkonami games list\\nrock band 4 wiki\\njubeat\\npump it up game\\nclone hero strum\\nclone hero wiki\\nsilent scope arcade   \n",
       "\n",
       "      developpeur distributeur langue PEGI game_series game_mode  \n",
       "5729          NaN          NaN    NaN  NaN         NaN       NaN  \n",
       "14133         NaN          NaN    NaN  NaN         NaN       NaN  \n",
       "8943          NaN          NaN    NaN  NaN         NaN       NaN  "
      ]
     },
     "execution_count": 30,
     "metadata": {},
     "output_type": "execute_result"
    }
   ],
   "source": [
    "df_goo.sample(3)"
   ]
  },
  {
   "attachments": {},
   "cell_type": "markdown",
   "metadata": {},
   "source": [
    "## Extraire les infos utiles de la colonne description"
   ]
  },
  {
   "cell_type": "code",
   "execution_count": 42,
   "metadata": {},
   "outputs": [
    {
     "name": "stdout",
     "output_type": "stream",
     "text": [
      "<class 'pandas.core.frame.DataFrame'>\n",
      "RangeIndex: 16598 entries, 0 to 16597\n",
      "Data columns (total 17 columns):\n",
      " #   Column              Non-Null Count  Dtype  \n",
      "---  ------              --------------  -----  \n",
      " 0   Name                16598 non-null  object \n",
      " 1   Platform            16598 non-null  object \n",
      " 2   Year                16327 non-null  float64\n",
      " 3   Genre               16598 non-null  object \n",
      " 4   Publisher           16540 non-null  object \n",
      " 5   NA_Sales            16598 non-null  float64\n",
      " 6   EU_Sales            16598 non-null  float64\n",
      " 7   JP_Sales            16598 non-null  float64\n",
      " 8   Other_Sales         16598 non-null  float64\n",
      " 9   Global_Sales        16598 non-null  float64\n",
      " 10  description_google  16584 non-null  object \n",
      " 11  developpeur_goo     1497 non-null   object \n",
      " 12  distributeur_goo    14 non-null     object \n",
      " 13  langue_goo          75 non-null     object \n",
      " 14  PEGI_goo            503 non-null    object \n",
      " 15  game_series_goo     523 non-null    object \n",
      " 16  game_mode_goo       844 non-null    object \n",
      "dtypes: float64(6), object(11)\n",
      "memory usage: 2.2+ MB\n"
     ]
    }
   ],
   "source": [
    "df_goo[\"developpeur_goo\"] = df_goo[\"description_google\"].str.extract(\"Développeur[s]?\\s?:\\s?(.*)\", flags=re.IGNORECASE)\n",
    "df_goo[\"distributeur_goo\"] = df_goo[\"description_google\"].str.extract(\"Distributeur[s]?\\s?:\\s?(.*)\", flags=re.IGNORECASE)\n",
    "df_goo[\"langue_goo\"] = df_goo[\"description_google\"].str.extract(\"Langue[s]?\\s?:\\s?(.*)\", flags=re.IGNORECASE)\n",
    "df_goo[\"PEGI_goo\"] = df_goo[\"description_google\"].str.extract(\"PEGI[s]?\\s?:\\s?(.*)\", flags=re.IGNORECASE)\n",
    "df_goo[\"game_series_goo\"] = df_goo[\"description_google\"].str.extract(\"Série[s]?\\s?:\\s?(.*)\", flags=re.IGNORECASE)\n",
    "df_goo[\"game_mode_goo\"] = df_goo[\"description_google\"].str.extract(\"Mode[s]?\\s?:\\s?(.*)\", flags=re.IGNORECASE)\n",
    "\n",
    "df_goo.info()\n",
    "\n"
   ]
  },
  {
   "attachments": {},
   "cell_type": "markdown",
   "metadata": {},
   "source": [
    "## Créer un fichier csv du nouveau df"
   ]
  },
  {
   "cell_type": "code",
   "execution_count": 43,
   "metadata": {},
   "outputs": [],
   "source": [
    "df_goo.to_csv('gaming_goo_OK.csv')"
   ]
  }
 ],
 "metadata": {
  "kernelspec": {
   "display_name": "base",
   "language": "python",
   "name": "python3"
  },
  "language_info": {
   "codemirror_mode": {
    "name": "ipython",
    "version": 3
   },
   "file_extension": ".py",
   "mimetype": "text/x-python",
   "name": "python",
   "nbconvert_exporter": "python",
   "pygments_lexer": "ipython3",
   "version": "3.9.16"
  },
  "orig_nbformat": 4
 },
 "nbformat": 4,
 "nbformat_minor": 2
}
