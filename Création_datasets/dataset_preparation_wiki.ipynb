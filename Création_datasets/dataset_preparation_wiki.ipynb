{
 "cells": [
  {
   "attachments": {},
   "cell_type": "markdown",
   "metadata": {},
   "source": [
    "# Création dataset Wikipedia"
   ]
  },
  {
   "attachments": {},
   "cell_type": "markdown",
   "metadata": {},
   "source": [
    "## Importer les librairies et le DF"
   ]
  },
  {
   "cell_type": "code",
   "execution_count": 1,
   "metadata": {},
   "outputs": [],
   "source": [
    "import pandas as pd\n",
    "import re"
   ]
  },
  {
   "cell_type": "code",
   "execution_count": 2,
   "metadata": {},
   "outputs": [],
   "source": [
    "df_wiki=pd.read_csv('gaming_wikipedia.csv')\n"
   ]
  },
  {
   "cell_type": "markdown",
   "metadata": {},
   "source": [
    "### Obtenir l'info complète du DF"
   ]
  },
  {
   "cell_type": "code",
   "execution_count": 3,
   "metadata": {},
   "outputs": [],
   "source": [
    "pd.set_option('display.max_columns', None)\n",
    "pd.set_option('display.max_rows', None)\n",
    "pd.set_option('display.max_colwidth', None)"
   ]
  },
  {
   "attachments": {},
   "cell_type": "markdown",
   "metadata": {},
   "source": [
    "## Merger les 2 DF"
   ]
  },
  {
   "cell_type": "code",
   "execution_count": 4,
   "metadata": {},
   "outputs": [
    {
     "name": "stdout",
     "output_type": "stream",
     "text": [
      "<class 'pandas.core.frame.DataFrame'>\n",
      "Int64Index: 12109 entries, 0 to 12222\n",
      "Data columns (total 12 columns):\n",
      " #   Column            Non-Null Count  Dtype  \n",
      "---  ------            --------------  -----  \n",
      " 0   Rank              12109 non-null  int64  \n",
      " 1   Name              12109 non-null  object \n",
      " 2   Platform          12109 non-null  object \n",
      " 3   Year              11916 non-null  float64\n",
      " 4   Genre             12109 non-null  object \n",
      " 5   Publisher         12075 non-null  object \n",
      " 6   NA_Sales          12109 non-null  float64\n",
      " 7   EU_Sales          12109 non-null  float64\n",
      " 8   JP_Sales          12109 non-null  float64\n",
      " 9   Other_Sales       12109 non-null  float64\n",
      " 10  Global_Sales      12109 non-null  float64\n",
      " 11  description_wiki  12109 non-null  object \n",
      "dtypes: float64(6), int64(1), object(5)\n",
      "memory usage: 1.2+ MB\n"
     ]
    }
   ],
   "source": [
    "df_wiki=df_wiki.dropna(subset=['description_wiki'], )\n",
    "df_wiki.info()"
   ]
  },
  {
   "cell_type": "code",
   "execution_count": 5,
   "metadata": {},
   "outputs": [],
   "source": [
    "df_wiki2=pd.read_csv('gaming_wikipedia2.csv')"
   ]
  },
  {
   "cell_type": "code",
   "execution_count": 6,
   "metadata": {},
   "outputs": [
    {
     "name": "stdout",
     "output_type": "stream",
     "text": [
      "<class 'pandas.core.frame.DataFrame'>\n",
      "Int64Index: 4364 entries, 0 to 4374\n",
      "Data columns (total 12 columns):\n",
      " #   Column            Non-Null Count  Dtype  \n",
      "---  ------            --------------  -----  \n",
      " 0   Rank              4364 non-null   int64  \n",
      " 1   Name              4364 non-null   object \n",
      " 2   Platform          4364 non-null   object \n",
      " 3   Year              4286 non-null   float64\n",
      " 4   Genre             4364 non-null   object \n",
      " 5   Publisher         4340 non-null   object \n",
      " 6   NA_Sales          4364 non-null   float64\n",
      " 7   EU_Sales          4364 non-null   float64\n",
      " 8   JP_Sales          4364 non-null   float64\n",
      " 9   Other_Sales       4364 non-null   float64\n",
      " 10  Global_Sales      4364 non-null   float64\n",
      " 11  description_wiki  4364 non-null   object \n",
      "dtypes: float64(6), int64(1), object(5)\n",
      "memory usage: 443.2+ KB\n"
     ]
    }
   ],
   "source": [
    "df_wiki2=df_wiki2.dropna(subset=['description_wiki'])\n",
    "df_wiki2.info()"
   ]
  },
  {
   "cell_type": "code",
   "execution_count": 7,
   "metadata": {},
   "outputs": [],
   "source": [
    "#df_wiki.tail(2)"
   ]
  },
  {
   "cell_type": "code",
   "execution_count": 8,
   "metadata": {},
   "outputs": [],
   "source": [
    "#df_wiki2.head(2)"
   ]
  },
  {
   "cell_type": "code",
   "execution_count": 9,
   "metadata": {},
   "outputs": [
    {
     "name": "stdout",
     "output_type": "stream",
     "text": [
      "<class 'pandas.core.frame.DataFrame'>\n",
      "Int64Index: 16473 entries, 0 to 4374\n",
      "Data columns (total 12 columns):\n",
      " #   Column            Non-Null Count  Dtype  \n",
      "---  ------            --------------  -----  \n",
      " 0   Rank              16473 non-null  int64  \n",
      " 1   Name              16473 non-null  object \n",
      " 2   Platform          16473 non-null  object \n",
      " 3   Year              16202 non-null  float64\n",
      " 4   Genre             16473 non-null  object \n",
      " 5   Publisher         16415 non-null  object \n",
      " 6   NA_Sales          16473 non-null  float64\n",
      " 7   EU_Sales          16473 non-null  float64\n",
      " 8   JP_Sales          16473 non-null  float64\n",
      " 9   Other_Sales       16473 non-null  float64\n",
      " 10  Global_Sales      16473 non-null  float64\n",
      " 11  description_wiki  16473 non-null  object \n",
      "dtypes: float64(6), int64(1), object(5)\n",
      "memory usage: 1.6+ MB\n"
     ]
    }
   ],
   "source": [
    "df_wiki_new=pd.concat([df_wiki, df_wiki2])\n",
    "df_wiki_new.info()"
   ]
  },
  {
   "attachments": {},
   "cell_type": "markdown",
   "metadata": {},
   "source": [
    "## Extraire les infos utiles de la colonne description"
   ]
  },
  {
   "cell_type": "code",
   "execution_count": 10,
   "metadata": {},
   "outputs": [
    {
     "name": "stdout",
     "output_type": "stream",
     "text": [
      "<class 'pandas.core.frame.DataFrame'>\n",
      "Int64Index: 16473 entries, 0 to 4374\n",
      "Data columns (total 16 columns):\n",
      " #   Column            Non-Null Count  Dtype  \n",
      "---  ------            --------------  -----  \n",
      " 0   Rank              16473 non-null  int64  \n",
      " 1   Name              16473 non-null  object \n",
      " 2   Platform          16473 non-null  object \n",
      " 3   Year              16202 non-null  float64\n",
      " 4   Genre             16473 non-null  object \n",
      " 5   Publisher         16415 non-null  object \n",
      " 6   NA_Sales          16473 non-null  float64\n",
      " 7   EU_Sales          16473 non-null  float64\n",
      " 8   JP_Sales          16473 non-null  float64\n",
      " 9   Other_Sales       16473 non-null  float64\n",
      " 10  Global_Sales      16473 non-null  float64\n",
      " 11  description_wiki  16473 non-null  object \n",
      " 12  developpeur_wiki  3086 non-null   object \n",
      " 13  langue_wiki       1432 non-null   object \n",
      " 14  PEGI_wiki         1082 non-null   object \n",
      " 15  game_mode_wiki    2829 non-null   object \n",
      "dtypes: float64(6), int64(1), object(9)\n",
      "memory usage: 2.1+ MB\n"
     ]
    }
   ],
   "source": [
    "df_wiki_new[\"developpeur_wiki\"] = df_wiki_new[\"description_wiki\"].str.extract(r\"Développeur\\s*\\n(.+?)(?=\\n)\", flags=re.IGNORECASE | re.DOTALL)\n",
    "df_wiki_new[\"langue_wiki\"] = df_wiki_new[\"description_wiki\"].str.extract(r\"Langue\\s*\\n(.+?)(?=\\n)\", flags=re.IGNORECASE | re.DOTALL)\n",
    "df_wiki_new[\"PEGI_wiki\"] = df_wiki_new[\"description_wiki\"].str.extract(\"PEGI[s]?\\s?:\\s?(.*)\", flags=re.IGNORECASE)\n",
    "df_wiki_new[\"game_mode_wiki\"] = df_wiki_new[\"description_wiki\"].str.extract(r\"Mode de jeu\\s*\\n(.+?)(?=\\nPlateforme)\", flags=re.IGNORECASE | re.DOTALL)\n",
    "\n",
    "df_wiki_new.info()"
   ]
  },
  {
   "attachments": {},
   "cell_type": "markdown",
   "metadata": {},
   "source": [
    "## Créer un fichier csv du nouveau DF"
   ]
  },
  {
   "cell_type": "code",
   "execution_count": 32,
   "metadata": {},
   "outputs": [],
   "source": [
    "df_wiki_new.to_csv('gaming_wiki_OK.csv')"
   ]
  }
 ],
 "metadata": {
  "kernelspec": {
   "display_name": "base",
   "language": "python",
   "name": "python3"
  },
  "language_info": {
   "codemirror_mode": {
    "name": "ipython",
    "version": 3
   },
   "file_extension": ".py",
   "mimetype": "text/x-python",
   "name": "python",
   "nbconvert_exporter": "python",
   "pygments_lexer": "ipython3",
   "version": "3.9.16"
  },
  "orig_nbformat": 4
 },
 "nbformat": 4,
 "nbformat_minor": 2
}
