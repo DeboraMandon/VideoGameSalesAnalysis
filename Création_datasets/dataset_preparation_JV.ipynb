{
 "cells": [
  {
   "attachments": {},
   "cell_type": "markdown",
   "metadata": {},
   "source": [
    "# Création dataset JeuxVideo.com"
   ]
  },
  {
   "cell_type": "markdown",
   "metadata": {},
   "source": [
    "## Importer les librairies et le DF"
   ]
  },
  {
   "cell_type": "code",
   "execution_count": 1,
   "metadata": {},
   "outputs": [],
   "source": [
    "import pandas as pd\n",
    "import re"
   ]
  },
  {
   "cell_type": "code",
   "execution_count": 2,
   "metadata": {},
   "outputs": [],
   "source": [
    "df_JV1=pd.read_csv('gaming_JVC_1.csv')\n",
    "df_JV2=pd.read_csv('gaming_JVC_2.csv')\n",
    "df_JV3=pd.read_csv('gaming_JVC_3.csv')\n",
    "df_JV3bis=pd.read_csv('gaming_JVC_3bis.csv')\n",
    "df_JV4=pd.read_csv('gaming_JVC_4.csv')\n",
    "df_JV4bis=pd.read_csv('gaming_JVC_4bis.csv')\n",
    "df_JV5=pd.read_csv('gaming_JVC_5.csv')\n",
    "df_JV5bis=pd.read_csv('gaming_JVC_5bis.csv')\n",
    "df_JV6=pd.read_csv('gaming_JVC_6.csv')\n",
    "df_JV7=pd.read_csv('gaming_JVC_7.csv')\n",
    "df_JV8=pd.read_csv('gaming_JVC_8.csv')\n",
    "df_JV8bis=pd.read_csv('gaming_JVC_8bis.csv')\n",
    "df_JV9=pd.read_csv('gaming_JVC_9.csv')\n",
    "df_JV10=pd.read_csv('gaming_JVC_10.csv')\n",
    "df_JV11=pd.read_csv('gaming_JVC_11.csv')\n",
    "df_JV12=pd.read_csv('gaming_JVC_12.csv')\n",
    "df_JV12bis=pd.read_csv('gaming_JVC_12bis.csv')\n",
    "df_JV13=pd.read_csv('gaming_JVC_13.csv')\n",
    "df_JV14=pd.read_csv('gaming_JVC_14.csv')\n",
    "df_JV15=pd.read_csv('gaming_JVC_15.csv')\n",
    "df_JV16=pd.read_csv('gaming_JVC_16.csv')"
   ]
  },
  {
   "cell_type": "markdown",
   "metadata": {},
   "source": [
    "### Obtenir l'info complète du DF"
   ]
  },
  {
   "cell_type": "code",
   "execution_count": 3,
   "metadata": {},
   "outputs": [],
   "source": [
    "pd.set_option('display.max_columns', None)\n",
    "pd.set_option('display.max_rows', None)\n",
    "pd.set_option('display.max_colwidth', None)"
   ]
  },
  {
   "attachments": {},
   "cell_type": "markdown",
   "metadata": {},
   "source": [
    "## Merger les DF"
   ]
  },
  {
   "cell_type": "code",
   "execution_count": 4,
   "metadata": {},
   "outputs": [
    {
     "name": "stdout",
     "output_type": "stream",
     "text": [
      "<class 'pandas.core.frame.DataFrame'>\n",
      "RangeIndex: 1038 entries, 0 to 1037\n",
      "Data columns (total 15 columns):\n",
      " #   Column           Non-Null Count  Dtype  \n",
      "---  ------           --------------  -----  \n",
      " 0   Rank             1038 non-null   int64  \n",
      " 1   Name             1038 non-null   object \n",
      " 2   Platform         1038 non-null   object \n",
      " 3   Year             1028 non-null   float64\n",
      " 4   Genre            1038 non-null   object \n",
      " 5   Publisher        1037 non-null   object \n",
      " 6   NA_Sales         1038 non-null   float64\n",
      " 7   EU_Sales         1038 non-null   float64\n",
      " 8   JP_Sales         1038 non-null   float64\n",
      " 9   Other_Sales      1038 non-null   float64\n",
      " 10  Global_Sales     1038 non-null   float64\n",
      " 11  test_note_JVC    1036 non-null   object \n",
      " 12  avis_count_JVC   1036 non-null   object \n",
      " 13  avis_note_JVC    1036 non-null   object \n",
      " 14  description_JVC  1034 non-null   object \n",
      "dtypes: float64(6), int64(1), object(8)\n",
      "memory usage: 121.8+ KB\n"
     ]
    }
   ],
   "source": [
    "df_JV1.info()"
   ]
  },
  {
   "cell_type": "code",
   "execution_count": 5,
   "metadata": {},
   "outputs": [
    {
     "name": "stdout",
     "output_type": "stream",
     "text": [
      "<class 'pandas.core.frame.DataFrame'>\n",
      "Int64Index: 19317 entries, 0 to 1036\n",
      "Data columns (total 15 columns):\n",
      " #   Column           Non-Null Count  Dtype  \n",
      "---  ------           --------------  -----  \n",
      " 0   Rank             19317 non-null  int64  \n",
      " 1   Name             19317 non-null  object \n",
      " 2   Platform         19317 non-null  object \n",
      " 3   Year             19015 non-null  float64\n",
      " 4   Genre            19317 non-null  object \n",
      " 5   Publisher        19253 non-null  object \n",
      " 6   NA_Sales         19317 non-null  float64\n",
      " 7   EU_Sales         19317 non-null  float64\n",
      " 8   JP_Sales         19317 non-null  float64\n",
      " 9   Other_Sales      19317 non-null  float64\n",
      " 10  Global_Sales     19317 non-null  float64\n",
      " 11  test_note_JVC    16597 non-null  object \n",
      " 12  avis_count_JVC   16597 non-null  object \n",
      " 13  avis_note_JVC    16597 non-null  object \n",
      " 14  description_JVC  16574 non-null  object \n",
      "dtypes: float64(6), int64(1), object(8)\n",
      "memory usage: 2.4+ MB\n"
     ]
    }
   ],
   "source": [
    "df_JV_tot=pd.concat([df_JV1, df_JV2, df_JV3, df_JV3bis, df_JV4, df_JV4bis,\n",
    "                     df_JV5, df_JV5bis, df_JV6, df_JV7, df_JV8, df_JV8bis,\n",
    "                     df_JV9, df_JV10, df_JV11, df_JV12, df_JV12bis, df_JV13,\n",
    "                     df_JV14, df_JV15, df_JV16])\n",
    "df_JV_tot.info()"
   ]
  },
  {
   "cell_type": "code",
   "execution_count": 6,
   "metadata": {},
   "outputs": [
    {
     "name": "stdout",
     "output_type": "stream",
     "text": [
      "<class 'pandas.core.frame.DataFrame'>\n",
      "Int64Index: 16596 entries, 0 to 1036\n",
      "Data columns (total 15 columns):\n",
      " #   Column           Non-Null Count  Dtype  \n",
      "---  ------           --------------  -----  \n",
      " 0   Rank             16596 non-null  int64  \n",
      " 1   Name             16596 non-null  object \n",
      " 2   Platform         16596 non-null  object \n",
      " 3   Year             16326 non-null  float64\n",
      " 4   Genre            16596 non-null  object \n",
      " 5   Publisher        16538 non-null  object \n",
      " 6   NA_Sales         16596 non-null  float64\n",
      " 7   EU_Sales         16596 non-null  float64\n",
      " 8   JP_Sales         16596 non-null  float64\n",
      " 9   Other_Sales      16596 non-null  float64\n",
      " 10  Global_Sales     16596 non-null  float64\n",
      " 11  test_note_JVC    13876 non-null  object \n",
      " 12  avis_count_JVC   13876 non-null  object \n",
      " 13  avis_note_JVC    13876 non-null  object \n",
      " 14  description_JVC  13856 non-null  object \n",
      "dtypes: float64(6), int64(1), object(8)\n",
      "memory usage: 2.0+ MB\n"
     ]
    }
   ],
   "source": [
    "df_JV_tot=df_JV_tot.drop_duplicates(subset=[\"Name\", \"Platform\", \"Year\"], keep=\"first\")\n",
    "df_JV_tot.info()"
   ]
  },
  {
   "cell_type": "markdown",
   "metadata": {},
   "source": [
    "## Extraire les infos utiles de la colonne description"
   ]
  },
  {
   "cell_type": "code",
   "execution_count": 7,
   "metadata": {},
   "outputs": [
    {
     "name": "stdout",
     "output_type": "stream",
     "text": [
      "<class 'pandas.core.frame.DataFrame'>\n",
      "Int64Index: 16596 entries, 0 to 1036\n",
      "Data columns (total 20 columns):\n",
      " #   Column                  Non-Null Count  Dtype  \n",
      "---  ------                  --------------  -----  \n",
      " 0   Rank                    16596 non-null  int64  \n",
      " 1   Name                    16596 non-null  object \n",
      " 2   Platform                16596 non-null  object \n",
      " 3   Year                    16326 non-null  float64\n",
      " 4   Genre                   16596 non-null  object \n",
      " 5   Publisher               16538 non-null  object \n",
      " 6   NA_Sales                16596 non-null  float64\n",
      " 7   EU_Sales                16596 non-null  float64\n",
      " 8   JP_Sales                16596 non-null  float64\n",
      " 9   Other_Sales             16596 non-null  float64\n",
      " 10  Global_Sales            16596 non-null  float64\n",
      " 11  test_note_JVC           13876 non-null  object \n",
      " 12  avis_count_JVC          13876 non-null  object \n",
      " 13  avis_note_JVC           13876 non-null  object \n",
      " 14  description_JVC         13856 non-null  object \n",
      " 15  Classification_Age_JVC  7091 non-null   object \n",
      " 16  max_joueurs_JVC         4168 non-null   object \n",
      " 17  Mode_JVC                3922 non-null   object \n",
      " 18  Support_JVC             7351 non-null   object \n",
      " 19  Langue_JVC              4601 non-null   object \n",
      "dtypes: float64(6), int64(1), object(13)\n",
      "memory usage: 2.7+ MB\n"
     ]
    }
   ],
   "source": [
    "try:\n",
    "    df_JV_tot['Classification_Age_JVC'] = df_JV_tot['description_JVC'].str.extract(r'Classification\\s+(.*)\\n')\n",
    "    \n",
    "except:\n",
    "    df_JV_tot['Classification_Age_JVC']='no_data'\n",
    "try:    \n",
    "    df_JV_tot['max_joueurs_JVC'] = df_JV_tot['description_JVC'].str.extract('Nombre maximum de joueurs\\s+([^\\n]+)\\n')\n",
    "except:\n",
    "    df_JV_tot['max_joueurs_JVC']='no_data'\n",
    "try:\n",
    "    df_JV_tot['Mode_JVC'] = df_JV_tot['description_JVC'].str.extract(r'Mode\\(s\\)\\s+(.*)\\n')\n",
    "except:\n",
    "    df_JV_tot['Mode_JVC'] =='no_data'\n",
    "try:\n",
    "    df_JV_tot['Support_JVC'] = df_JV_tot['description_JVC'].str.extract(r'Support\\(s\\)\\s+(.*)\\n')\n",
    "except:\n",
    "    df_JV_tot['Support_JVC'] ='no_data'\n",
    "try:\n",
    "    df_JV_tot['Langue_JVC'] = df_JV_tot['description_JVC'].str.split('Langue de la version disponible en France ', n=1, expand=True)[1].str.split('\\n', n=1, expand=True)[0]\n",
    "except:\n",
    "    df_JV_tot['Langue_JVC'] ='no_data'\n",
    "    \n",
    "df_JV_tot.info()"
   ]
  },
  {
   "cell_type": "markdown",
   "metadata": {},
   "source": [
    "## Créer un fichier csv du nouveau DF"
   ]
  },
  {
   "cell_type": "code",
   "execution_count": null,
   "metadata": {},
   "outputs": [],
   "source": [
    "df_JV_tot.to_csv('gaming_JV_OK.csv')"
   ]
  }
 ],
 "metadata": {
  "kernelspec": {
   "display_name": "base",
   "language": "python",
   "name": "python3"
  },
  "language_info": {
   "codemirror_mode": {
    "name": "ipython",
    "version": 3
   },
   "file_extension": ".py",
   "mimetype": "text/x-python",
   "name": "python",
   "nbconvert_exporter": "python",
   "pygments_lexer": "ipython3",
   "version": "3.9.16"
  },
  "orig_nbformat": 4
 },
 "nbformat": 4,
 "nbformat_minor": 2
}
