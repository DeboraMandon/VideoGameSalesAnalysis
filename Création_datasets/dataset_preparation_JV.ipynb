{
 "cells": [
  {
   "attachments": {},
   "cell_type": "markdown",
   "metadata": {},
   "source": [
    "# Création dataset JeuxVideo.com"
   ]
  },
  {
   "cell_type": "markdown",
   "metadata": {},
   "source": [
    "## Importer les librairies et le DF"
   ]
  },
  {
   "cell_type": "code",
   "execution_count": 1,
   "metadata": {},
   "outputs": [],
   "source": [
    "import pandas as pd\n",
    "import re"
   ]
  },
  {
   "cell_type": "code",
   "execution_count": 2,
   "metadata": {},
   "outputs": [],
   "source": [
    "df_JV1=pd.read_csv('gaming_JVC_1.csv')\n",
    "df_JV2=pd.read_csv('gaming_JVC_2.csv')\n",
    "df_JV3=pd.read_csv('gaming_JVC_3.csv')\n",
    "df_JV3bis=pd.read_csv('gaming_JVC_3bis.csv')\n",
    "df_JV4=pd.read_csv('gaming_JVC_4.csv')\n",
    "df_JV4bis=pd.read_csv('gaming_JVC_4bis.csv')\n",
    "df_JV5=pd.read_csv('gaming_JVC_5.csv')\n",
    "df_JV5bis=pd.read_csv('gaming_JVC_5bis.csv')\n",
    "df_JV6=pd.read_csv('gaming_JVC_6.csv')\n",
    "#df_JV7=pd.read_csv('gaming_JVC_7.csv')\n",
    "df_JV8=pd.read_csv('gaming_JVC_8.csv')\n",
    "#df_JV8bis=pd.read_csv('gaming_JVC_8bis.csv')\n",
    "#df_JV9=pd.read_csv('gaming_JVC_9.csv')\n",
    "#df_JV10=pd.read_csv('gaming_JVC_10.csv')"
   ]
  },
  {
   "cell_type": "markdown",
   "metadata": {},
   "source": [
    "### Obtenir l'info complète du DF"
   ]
  },
  {
   "cell_type": "code",
   "execution_count": 3,
   "metadata": {},
   "outputs": [],
   "source": [
    "pd.set_option('display.max_columns', None)\n",
    "pd.set_option('display.max_rows', None)\n",
    "pd.set_option('display.max_colwidth', None)"
   ]
  },
  {
   "attachments": {},
   "cell_type": "markdown",
   "metadata": {},
   "source": [
    "## Merger les DF"
   ]
  },
  {
   "cell_type": "code",
   "execution_count": 4,
   "metadata": {},
   "outputs": [
    {
     "name": "stdout",
     "output_type": "stream",
     "text": [
      "<class 'pandas.core.frame.DataFrame'>\n",
      "RangeIndex: 1038 entries, 0 to 1037\n",
      "Data columns (total 15 columns):\n",
      " #   Column           Non-Null Count  Dtype  \n",
      "---  ------           --------------  -----  \n",
      " 0   Rank             1038 non-null   int64  \n",
      " 1   Name             1038 non-null   object \n",
      " 2   Platform         1038 non-null   object \n",
      " 3   Year             1028 non-null   float64\n",
      " 4   Genre            1038 non-null   object \n",
      " 5   Publisher        1037 non-null   object \n",
      " 6   NA_Sales         1038 non-null   float64\n",
      " 7   EU_Sales         1038 non-null   float64\n",
      " 8   JP_Sales         1038 non-null   float64\n",
      " 9   Other_Sales      1038 non-null   float64\n",
      " 10  Global_Sales     1038 non-null   float64\n",
      " 11  test_note_JVC    1036 non-null   object \n",
      " 12  avis_count_JVC   1036 non-null   object \n",
      " 13  avis_note_JVC    1036 non-null   object \n",
      " 14  description_JVC  1034 non-null   object \n",
      "dtypes: float64(6), int64(1), object(8)\n",
      "memory usage: 121.8+ KB\n"
     ]
    }
   ],
   "source": [
    "df_JV1.info()"
   ]
  },
  {
   "cell_type": "code",
   "execution_count": 5,
   "metadata": {},
   "outputs": [
    {
     "name": "stdout",
     "output_type": "stream",
     "text": [
      "<class 'pandas.core.frame.DataFrame'>\n",
      "Int64Index: 9072 entries, 0 to 1036\n",
      "Data columns (total 15 columns):\n",
      " #   Column           Non-Null Count  Dtype  \n",
      "---  ------           --------------  -----  \n",
      " 0   Rank             9072 non-null   int64  \n",
      " 1   Name             9072 non-null   object \n",
      " 2   Platform         9072 non-null   object \n",
      " 3   Year             8941 non-null   float64\n",
      " 4   Genre            9072 non-null   object \n",
      " 5   Publisher        9053 non-null   object \n",
      " 6   NA_Sales         9072 non-null   float64\n",
      " 7   EU_Sales         9072 non-null   float64\n",
      " 8   JP_Sales         9072 non-null   float64\n",
      " 9   Other_Sales      9072 non-null   float64\n",
      " 10  Global_Sales     9072 non-null   float64\n",
      " 11  test_note_JVC    6418 non-null   object \n",
      " 12  avis_count_JVC   6418 non-null   object \n",
      " 13  avis_note_JVC    6418 non-null   object \n",
      " 14  description_JVC  6411 non-null   object \n",
      "dtypes: float64(6), int64(1), object(8)\n",
      "memory usage: 1.1+ MB\n"
     ]
    }
   ],
   "source": [
    "df_JV_tot=pd.concat([df_JV1, df_JV2, df_JV3, df_JV3bis, df_JV4, df_JV4bis, df_JV5, df_JV5bis, df_JV6, df_JV8])\n",
    "df_JV_tot.info()"
   ]
  },
  {
   "cell_type": "code",
   "execution_count": 6,
   "metadata": {},
   "outputs": [
    {
     "data": {
      "text/html": [
       "<div>\n",
       "<style scoped>\n",
       "    .dataframe tbody tr th:only-of-type {\n",
       "        vertical-align: middle;\n",
       "    }\n",
       "\n",
       "    .dataframe tbody tr th {\n",
       "        vertical-align: top;\n",
       "    }\n",
       "\n",
       "    .dataframe thead th {\n",
       "        text-align: right;\n",
       "    }\n",
       "</style>\n",
       "<table border=\"1\" class=\"dataframe\">\n",
       "  <thead>\n",
       "    <tr style=\"text-align: right;\">\n",
       "      <th></th>\n",
       "      <th>Rank</th>\n",
       "      <th>Name</th>\n",
       "      <th>Platform</th>\n",
       "      <th>Year</th>\n",
       "      <th>Genre</th>\n",
       "      <th>Publisher</th>\n",
       "      <th>NA_Sales</th>\n",
       "      <th>EU_Sales</th>\n",
       "      <th>JP_Sales</th>\n",
       "      <th>Other_Sales</th>\n",
       "      <th>Global_Sales</th>\n",
       "      <th>test_note_JVC</th>\n",
       "      <th>avis_count_JVC</th>\n",
       "      <th>avis_note_JVC</th>\n",
       "      <th>description_JVC</th>\n",
       "    </tr>\n",
       "  </thead>\n",
       "  <tbody>\n",
       "    <tr>\n",
       "      <th>775</th>\n",
       "      <td>1815</td>\n",
       "      <td>Yakuza 3</td>\n",
       "      <td>PS3</td>\n",
       "      <td>2009.0</td>\n",
       "      <td>Action</td>\n",
       "      <td>Sega</td>\n",
       "      <td>0.21</td>\n",
       "      <td>0.21</td>\n",
       "      <td>0.62</td>\n",
       "      <td>0.08</td>\n",
       "      <td>1.13</td>\n",
       "      <td>14</td>\n",
       "      <td>(104)</td>\n",
       "      <td>16.3</td>\n",
       "      <td>Editeur(s) / Développeur(s) Sega\\nSortie France 12 mars 2010\\nGenre(s) Action\\nClassification +18 ans\\nMode(s) Jouable en solo\\nNombre maximum de joueurs non\\nWeb Site officiel\\nSupport(s) Blu-Ray\\nDate de sortie (au Japon) 26 février 2009\\nLangue de la version disponible en France Textes en anglais Voix en japonais</td>\n",
       "    </tr>\n",
       "    <tr>\n",
       "      <th>240</th>\n",
       "      <td>7507</td>\n",
       "      <td>Trade &amp; Battle: Card Hero</td>\n",
       "      <td>GB</td>\n",
       "      <td>2000.0</td>\n",
       "      <td>Strategy</td>\n",
       "      <td>Nintendo</td>\n",
       "      <td>0.00</td>\n",
       "      <td>0.00</td>\n",
       "      <td>0.20</td>\n",
       "      <td>0.00</td>\n",
       "      <td>0.20</td>\n",
       "      <td>NaN</td>\n",
       "      <td>NaN</td>\n",
       "      <td>NaN</td>\n",
       "      <td>NaN</td>\n",
       "    </tr>\n",
       "    <tr>\n",
       "      <th>244</th>\n",
       "      <td>7511</td>\n",
       "      <td>NBA Live 15</td>\n",
       "      <td>XOne</td>\n",
       "      <td>2014.0</td>\n",
       "      <td>Sports</td>\n",
       "      <td>Electronic Arts</td>\n",
       "      <td>0.17</td>\n",
       "      <td>0.02</td>\n",
       "      <td>0.00</td>\n",
       "      <td>0.02</td>\n",
       "      <td>0.20</td>\n",
       "      <td>NaN</td>\n",
       "      <td>NaN</td>\n",
       "      <td>NaN</td>\n",
       "      <td>NaN</td>\n",
       "    </tr>\n",
       "  </tbody>\n",
       "</table>\n",
       "</div>"
      ],
      "text/plain": [
       "     Rank                       Name Platform    Year     Genre  \\\n",
       "775  1815                   Yakuza 3      PS3  2009.0    Action   \n",
       "240  7507  Trade & Battle: Card Hero       GB  2000.0  Strategy   \n",
       "244  7511                NBA Live 15     XOne  2014.0    Sports   \n",
       "\n",
       "           Publisher  NA_Sales  EU_Sales  JP_Sales  Other_Sales  Global_Sales  \\\n",
       "775             Sega      0.21      0.21      0.62         0.08          1.13   \n",
       "240         Nintendo      0.00      0.00      0.20         0.00          0.20   \n",
       "244  Electronic Arts      0.17      0.02      0.00         0.02          0.20   \n",
       "\n",
       "    test_note_JVC avis_count_JVC avis_note_JVC  \\\n",
       "775            14          (104)          16.3   \n",
       "240           NaN            NaN           NaN   \n",
       "244           NaN            NaN           NaN   \n",
       "\n",
       "                                                                                                                                                                                                                                                                                                                   description_JVC  \n",
       "775  Editeur(s) / Développeur(s) Sega\\nSortie France 12 mars 2010\\nGenre(s) Action\\nClassification +18 ans\\nMode(s) Jouable en solo\\nNombre maximum de joueurs non\\nWeb Site officiel\\nSupport(s) Blu-Ray\\nDate de sortie (au Japon) 26 février 2009\\nLangue de la version disponible en France Textes en anglais Voix en japonais  \n",
       "240                                                                                                                                                                                                                                                                                                                            NaN  \n",
       "244                                                                                                                                                                                                                                                                                                                            NaN  "
      ]
     },
     "execution_count": 6,
     "metadata": {},
     "output_type": "execute_result"
    }
   ],
   "source": [
    "df_JV_tot.sample(3)"
   ]
  },
  {
   "cell_type": "code",
   "execution_count": 7,
   "metadata": {},
   "outputs": [],
   "source": [
    "#df_JV_tot=df_JV_tot.drop(['Rank', 'Genre', 'Publisher', 'NA_Sales', 'EU_Sales', 'JP_Sales', 'Other_Sales', 'Global_Sales'], axis=1)"
   ]
  },
  {
   "cell_type": "markdown",
   "metadata": {},
   "source": [
    "## Extraire les infos utiles de la colonne description"
   ]
  },
  {
   "cell_type": "code",
   "execution_count": 8,
   "metadata": {},
   "outputs": [
    {
     "name": "stdout",
     "output_type": "stream",
     "text": [
      "<class 'pandas.core.frame.DataFrame'>\n",
      "Int64Index: 9072 entries, 0 to 1036\n",
      "Data columns (total 20 columns):\n",
      " #   Column                  Non-Null Count  Dtype  \n",
      "---  ------                  --------------  -----  \n",
      " 0   Rank                    9072 non-null   int64  \n",
      " 1   Name                    9072 non-null   object \n",
      " 2   Platform                9072 non-null   object \n",
      " 3   Year                    8941 non-null   float64\n",
      " 4   Genre                   9072 non-null   object \n",
      " 5   Publisher               9053 non-null   object \n",
      " 6   NA_Sales                9072 non-null   float64\n",
      " 7   EU_Sales                9072 non-null   float64\n",
      " 8   JP_Sales                9072 non-null   float64\n",
      " 9   Other_Sales             9072 non-null   float64\n",
      " 10  Global_Sales            9072 non-null   float64\n",
      " 11  test_note_JVC           6418 non-null   object \n",
      " 12  avis_count_JVC          6418 non-null   object \n",
      " 13  avis_note_JVC           6418 non-null   object \n",
      " 14  description_JVC         6411 non-null   object \n",
      " 15  Classification_Age_JVC  4139 non-null   object \n",
      " 16  max_joueurs_JVC         2436 non-null   object \n",
      " 17  Mode_JVC                2450 non-null   object \n",
      " 18  Support_JVC             4030 non-null   object \n",
      " 19  Langue_JVC              2866 non-null   object \n",
      "dtypes: float64(6), int64(1), object(13)\n",
      "memory usage: 1.5+ MB\n"
     ]
    }
   ],
   "source": [
    "try:\n",
    "    df_JV_tot['Classification_Age_JVC'] = df_JV_tot['description_JVC'].str.extract(r'Classification\\s+(.*)\\n')\n",
    "    \n",
    "except:\n",
    "    df_JV_tot['Classification_Age_JVC']='no_data'\n",
    "try:    \n",
    "    df_JV_tot['max_joueurs_JVC'] = df_JV_tot['description_JVC'].str.extract('Nombre maximum de joueurs\\s+([^\\n]+)\\n')\n",
    "except:\n",
    "    df_JV_tot['max_joueurs_JVC']='no_data'\n",
    "try:\n",
    "    df_JV_tot['Mode_JVC'] = df_JV_tot['description_JVC'].str.extract(r'Mode\\(s\\)\\s+(.*)\\n')\n",
    "except:\n",
    "    df_JV_tot['Mode_JVC'] =='no_data'\n",
    "try:\n",
    "    df_JV_tot['Support_JVC'] = df_JV_tot['description_JVC'].str.extract(r'Support\\(s\\)\\s+(.*)\\n')\n",
    "except:\n",
    "    df_JV_tot['Support_JVC'] ='no_data'\n",
    "try:\n",
    "    df_JV_tot['Langue_JVC'] = df_JV_tot['description_JVC'].str.split('Langue de la version disponible en France ', n=1, expand=True)[1].str.split('\\n', n=1, expand=True)[0]\n",
    "except:\n",
    "    df_JV_tot['Langue_JVC'] ='no_data'\n",
    "    \n",
    "df_JV_tot.info()"
   ]
  },
  {
   "cell_type": "markdown",
   "metadata": {},
   "source": [
    "## Créer un fichier csv du nouveau DF"
   ]
  },
  {
   "cell_type": "code",
   "execution_count": null,
   "metadata": {},
   "outputs": [],
   "source": [
    "df_JV_tot.to_csv('gaming_JV_OK.csv')"
   ]
  }
 ],
 "metadata": {
  "kernelspec": {
   "display_name": "base",
   "language": "python",
   "name": "python3"
  },
  "language_info": {
   "codemirror_mode": {
    "name": "ipython",
    "version": 3
   },
   "file_extension": ".py",
   "mimetype": "text/x-python",
   "name": "python",
   "nbconvert_exporter": "python",
   "pygments_lexer": "ipython3",
   "version": "3.9.16"
  },
  "orig_nbformat": 4
 },
 "nbformat": 4,
 "nbformat_minor": 2
}
