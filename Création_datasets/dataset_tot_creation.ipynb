{
 "cells": [
  {
   "attachments": {},
   "cell_type": "markdown",
   "metadata": {},
   "source": [
    "# Création du dataset global "
   ]
  },
  {
   "attachments": {},
   "cell_type": "markdown",
   "metadata": {},
   "source": [
    "## Importer les librairies"
   ]
  },
  {
   "cell_type": "code",
   "execution_count": 1,
   "metadata": {},
   "outputs": [],
   "source": [
    "import pandas as pd\n"
   ]
  },
  {
   "attachments": {},
   "cell_type": "markdown",
   "metadata": {},
   "source": [
    "### Obtenir l'info complète du DF"
   ]
  },
  {
   "cell_type": "code",
   "execution_count": 2,
   "metadata": {},
   "outputs": [],
   "source": [
    "#pd.set_option('display.max_columns', None)\n",
    "#pd.set_option('display.max_rows', None)\n",
    "#pd.set_option('display.max_colwidth', None)"
   ]
  },
  {
   "attachments": {},
   "cell_type": "markdown",
   "metadata": {},
   "source": [
    "## Importer les différents DF"
   ]
  },
  {
   "cell_type": "code",
   "execution_count": 3,
   "metadata": {},
   "outputs": [],
   "source": [
    "df_wiki=pd.read_csv('gaming_wiki_OK.csv')\n",
    "df_google=pd.read_csv('gaming_goo_OK.csv')\n",
    "df_JVC=pd.read_csv('gaming_JV_OK.csv')"
   ]
  },
  {
   "cell_type": "code",
   "execution_count": 4,
   "metadata": {},
   "outputs": [
    {
     "name": "stdout",
     "output_type": "stream",
     "text": [
      "<class 'pandas.core.frame.DataFrame'>\n",
      "RangeIndex: 16596 entries, 0 to 16595\n",
      "Data columns (total 18 columns):\n",
      " #   Column              Non-Null Count  Dtype  \n",
      "---  ------              --------------  -----  \n",
      " 0   Unnamed: 0          16596 non-null  int64  \n",
      " 1   Name                16596 non-null  object \n",
      " 2   Platform            16596 non-null  object \n",
      " 3   Year                16326 non-null  float64\n",
      " 4   Genre               16596 non-null  object \n",
      " 5   Publisher           16538 non-null  object \n",
      " 6   NA_Sales            16596 non-null  float64\n",
      " 7   EU_Sales            16596 non-null  float64\n",
      " 8   JP_Sales            16596 non-null  float64\n",
      " 9   Other_Sales         16596 non-null  float64\n",
      " 10  Global_Sales        16596 non-null  float64\n",
      " 11  description_google  16582 non-null  object \n",
      " 12  developpeur_goo     1497 non-null   object \n",
      " 13  distributeur_goo    14 non-null     object \n",
      " 14  langue_goo          75 non-null     object \n",
      " 15  PEGI_goo            503 non-null    object \n",
      " 16  game_series_goo     523 non-null    object \n",
      " 17  game_mode_goo       844 non-null    object \n",
      "dtypes: float64(6), int64(1), object(11)\n",
      "memory usage: 2.3+ MB\n"
     ]
    }
   ],
   "source": [
    "df_google.info()"
   ]
  },
  {
   "cell_type": "code",
   "execution_count": 5,
   "metadata": {},
   "outputs": [],
   "source": [
    "df_JVC=df_JVC.drop(['Unnamed: 0'], axis=1)"
   ]
  },
  {
   "cell_type": "code",
   "execution_count": 6,
   "metadata": {},
   "outputs": [],
   "source": [
    "df_wiki=df_wiki.drop(['Unnamed: 0','description_wiki'], axis=1)"
   ]
  },
  {
   "cell_type": "code",
   "execution_count": 7,
   "metadata": {},
   "outputs": [],
   "source": [
    "df_google=df_google.drop(['Unnamed: 0','description_google'], axis=1)"
   ]
  },
  {
   "attachments": {},
   "cell_type": "markdown",
   "metadata": {},
   "source": [
    "## Merger les datasets entre eux"
   ]
  },
  {
   "cell_type": "code",
   "execution_count": 8,
   "metadata": {},
   "outputs": [],
   "source": [
    "gaming_mid=pd.merge(df_google, df_wiki, on=[\"Name\", \"Platform\", \"Year\", \"Genre\", \"Publisher\", \"NA_Sales\", \"EU_Sales\", \"JP_Sales\", \"Other_Sales\", \"Global_Sales\"])\n",
    "\n"
   ]
  },
  {
   "cell_type": "code",
   "execution_count": 9,
   "metadata": {},
   "outputs": [],
   "source": [
    "gaming_total=pd.merge(gaming_mid, df_JVC, on=[\"Name\", \"Platform\", \"Year\", \"Genre\", \"Publisher\", \"NA_Sales\", \"EU_Sales\", \"JP_Sales\", \"Other_Sales\", \"Global_Sales\"])"
   ]
  },
  {
   "cell_type": "code",
   "execution_count": 10,
   "metadata": {},
   "outputs": [
    {
     "name": "stdout",
     "output_type": "stream",
     "text": [
      "<class 'pandas.core.frame.DataFrame'>\n",
      "Int64Index: 16472 entries, 0 to 16471\n",
      "Data columns (total 31 columns):\n",
      " #   Column                  Non-Null Count  Dtype  \n",
      "---  ------                  --------------  -----  \n",
      " 0   Name                    16472 non-null  object \n",
      " 1   Platform                16472 non-null  object \n",
      " 2   Year                    16201 non-null  float64\n",
      " 3   Genre                   16472 non-null  object \n",
      " 4   Publisher               16414 non-null  object \n",
      " 5   NA_Sales                16472 non-null  float64\n",
      " 6   EU_Sales                16472 non-null  float64\n",
      " 7   JP_Sales                16472 non-null  float64\n",
      " 8   Other_Sales             16472 non-null  float64\n",
      " 9   Global_Sales            16472 non-null  float64\n",
      " 10  developpeur_goo         1487 non-null   object \n",
      " 11  distributeur_goo        14 non-null     object \n",
      " 12  langue_goo              73 non-null     object \n",
      " 13  PEGI_goo                501 non-null    object \n",
      " 14  game_series_goo         511 non-null    object \n",
      " 15  game_mode_goo           839 non-null    object \n",
      " 16  Rank_x                  16472 non-null  int64  \n",
      " 17  developpeur_wiki        3085 non-null   object \n",
      " 18  langue_wiki             1432 non-null   object \n",
      " 19  PEGI_wiki               1081 non-null   object \n",
      " 20  game_mode_wiki          2828 non-null   object \n",
      " 21  Rank_y                  16472 non-null  int64  \n",
      " 22  test_note_JVC           13771 non-null  object \n",
      " 23  avis_count_JVC          13771 non-null  object \n",
      " 24  avis_note_JVC           13771 non-null  object \n",
      " 25  description_JVC         13751 non-null  object \n",
      " 26  Classification_Age_JVC  7014 non-null   object \n",
      " 27  max_joueurs_JVC         4119 non-null   object \n",
      " 28  Mode_JVC                3878 non-null   object \n",
      " 29  Support_JVC             7281 non-null   object \n",
      " 30  Langue_JVC              4552 non-null   object \n",
      "dtypes: float64(6), int64(2), object(23)\n",
      "memory usage: 4.0+ MB\n"
     ]
    }
   ],
   "source": [
    "gaming_total.info()"
   ]
  },
  {
   "cell_type": "code",
   "execution_count": 11,
   "metadata": {},
   "outputs": [],
   "source": [
    "gaming_total.drop_duplicates(keep = 'first', inplace=True)"
   ]
  },
  {
   "cell_type": "code",
   "execution_count": 12,
   "metadata": {},
   "outputs": [
    {
     "data": {
      "text/plain": [
       "(16472, 31)"
      ]
     },
     "execution_count": 12,
     "metadata": {},
     "output_type": "execute_result"
    }
   ],
   "source": [
    "gaming_total.shape"
   ]
  },
  {
   "cell_type": "code",
   "execution_count": 13,
   "metadata": {},
   "outputs": [
    {
     "data": {
      "text/html": [
       "<div>\n",
       "<style scoped>\n",
       "    .dataframe tbody tr th:only-of-type {\n",
       "        vertical-align: middle;\n",
       "    }\n",
       "\n",
       "    .dataframe tbody tr th {\n",
       "        vertical-align: top;\n",
       "    }\n",
       "\n",
       "    .dataframe thead th {\n",
       "        text-align: right;\n",
       "    }\n",
       "</style>\n",
       "<table border=\"1\" class=\"dataframe\">\n",
       "  <thead>\n",
       "    <tr style=\"text-align: right;\">\n",
       "      <th></th>\n",
       "      <th>Name</th>\n",
       "      <th>Platform</th>\n",
       "      <th>Year</th>\n",
       "      <th>Genre</th>\n",
       "      <th>Publisher</th>\n",
       "      <th>NA_Sales</th>\n",
       "      <th>EU_Sales</th>\n",
       "      <th>JP_Sales</th>\n",
       "      <th>Other_Sales</th>\n",
       "      <th>Global_Sales</th>\n",
       "      <th>...</th>\n",
       "      <th>Rank_y</th>\n",
       "      <th>test_note_JVC</th>\n",
       "      <th>avis_count_JVC</th>\n",
       "      <th>avis_note_JVC</th>\n",
       "      <th>description_JVC</th>\n",
       "      <th>Classification_Age_JVC</th>\n",
       "      <th>max_joueurs_JVC</th>\n",
       "      <th>Mode_JVC</th>\n",
       "      <th>Support_JVC</th>\n",
       "      <th>Langue_JVC</th>\n",
       "    </tr>\n",
       "  </thead>\n",
       "  <tbody>\n",
       "    <tr>\n",
       "      <th>0</th>\n",
       "      <td>Wii Sports</td>\n",
       "      <td>Wii</td>\n",
       "      <td>2006.0</td>\n",
       "      <td>Sports</td>\n",
       "      <td>Nintendo</td>\n",
       "      <td>41.49</td>\n",
       "      <td>29.02</td>\n",
       "      <td>3.77</td>\n",
       "      <td>8.46</td>\n",
       "      <td>82.74</td>\n",
       "      <td>...</td>\n",
       "      <td>1</td>\n",
       "      <td>14</td>\n",
       "      <td>(687)</td>\n",
       "      <td>13.8</td>\n",
       "      <td>Editeur(s) / Développeur(s) Nintendo\\nSortie F...</td>\n",
       "      <td>+7 ans</td>\n",
       "      <td>Jusqu'à 4 joueurs</td>\n",
       "      <td>NaN</td>\n",
       "      <td>DVD</td>\n",
       "      <td>Voix en français Textes en français</td>\n",
       "    </tr>\n",
       "    <tr>\n",
       "      <th>1</th>\n",
       "      <td>Super Mario Bros.</td>\n",
       "      <td>NES</td>\n",
       "      <td>1985.0</td>\n",
       "      <td>Platform</td>\n",
       "      <td>Nintendo</td>\n",
       "      <td>29.08</td>\n",
       "      <td>3.58</td>\n",
       "      <td>6.81</td>\n",
       "      <td>0.77</td>\n",
       "      <td>40.24</td>\n",
       "      <td>...</td>\n",
       "      <td>2</td>\n",
       "      <td>19</td>\n",
       "      <td>(3)</td>\n",
       "      <td>19</td>\n",
       "      <td>Editeur(s) / Développeur(s) Nintendo\\nSortie F...</td>\n",
       "      <td>+3 ans</td>\n",
       "      <td>NaN</td>\n",
       "      <td>Jouable en solo</td>\n",
       "      <td>eShop Console Virtuelle Cartouche</td>\n",
       "      <td>NaN</td>\n",
       "    </tr>\n",
       "    <tr>\n",
       "      <th>2</th>\n",
       "      <td>Mario Kart Wii</td>\n",
       "      <td>Wii</td>\n",
       "      <td>2008.0</td>\n",
       "      <td>Racing</td>\n",
       "      <td>Nintendo</td>\n",
       "      <td>15.85</td>\n",
       "      <td>12.88</td>\n",
       "      <td>3.79</td>\n",
       "      <td>3.31</td>\n",
       "      <td>35.82</td>\n",
       "      <td>...</td>\n",
       "      <td>3</td>\n",
       "      <td>16</td>\n",
       "      <td>(3023)</td>\n",
       "      <td>17.4</td>\n",
       "      <td>Editeur(s) / Développeur(s) Nintendo\\nSortie F...</td>\n",
       "      <td>+3 ans</td>\n",
       "      <td>4 joueurs en écran partagé, 12 joueurs online</td>\n",
       "      <td>Multi sur le même écran Multi en ligne</td>\n",
       "      <td>DVD</td>\n",
       "      <td>NaN</td>\n",
       "    </tr>\n",
       "    <tr>\n",
       "      <th>3</th>\n",
       "      <td>Wii Sports Resort</td>\n",
       "      <td>Wii</td>\n",
       "      <td>2009.0</td>\n",
       "      <td>Sports</td>\n",
       "      <td>Nintendo</td>\n",
       "      <td>15.75</td>\n",
       "      <td>11.01</td>\n",
       "      <td>3.28</td>\n",
       "      <td>2.96</td>\n",
       "      <td>33.00</td>\n",
       "      <td>...</td>\n",
       "      <td>4</td>\n",
       "      <td>15</td>\n",
       "      <td>(581)</td>\n",
       "      <td>16.5</td>\n",
       "      <td>Editeur(s) / Développeur(s) Nintendo\\nSortie F...</td>\n",
       "      <td>+3 ans</td>\n",
       "      <td>Jusqu'à 4 joueurs</td>\n",
       "      <td>NaN</td>\n",
       "      <td>DVD</td>\n",
       "      <td>Voix en français Textes en français</td>\n",
       "    </tr>\n",
       "    <tr>\n",
       "      <th>4</th>\n",
       "      <td>Pokemon Red/Pokemon Blue</td>\n",
       "      <td>GB</td>\n",
       "      <td>1996.0</td>\n",
       "      <td>Role-Playing</td>\n",
       "      <td>Nintendo</td>\n",
       "      <td>11.27</td>\n",
       "      <td>8.89</td>\n",
       "      <td>10.22</td>\n",
       "      <td>1.00</td>\n",
       "      <td>31.37</td>\n",
       "      <td>...</td>\n",
       "      <td>5</td>\n",
       "      <td>no_data</td>\n",
       "      <td>no_data</td>\n",
       "      <td>no_data</td>\n",
       "      <td>no_data</td>\n",
       "      <td>NaN</td>\n",
       "      <td>NaN</td>\n",
       "      <td>NaN</td>\n",
       "      <td>NaN</td>\n",
       "      <td>NaN</td>\n",
       "    </tr>\n",
       "  </tbody>\n",
       "</table>\n",
       "<p>5 rows × 31 columns</p>\n",
       "</div>"
      ],
      "text/plain": [
       "                       Name Platform    Year         Genre Publisher  \\\n",
       "0                Wii Sports      Wii  2006.0        Sports  Nintendo   \n",
       "1         Super Mario Bros.      NES  1985.0      Platform  Nintendo   \n",
       "2            Mario Kart Wii      Wii  2008.0        Racing  Nintendo   \n",
       "3         Wii Sports Resort      Wii  2009.0        Sports  Nintendo   \n",
       "4  Pokemon Red/Pokemon Blue       GB  1996.0  Role-Playing  Nintendo   \n",
       "\n",
       "   NA_Sales  EU_Sales  JP_Sales  Other_Sales  Global_Sales  ... Rank_y  \\\n",
       "0     41.49     29.02      3.77         8.46         82.74  ...      1   \n",
       "1     29.08      3.58      6.81         0.77         40.24  ...      2   \n",
       "2     15.85     12.88      3.79         3.31         35.82  ...      3   \n",
       "3     15.75     11.01      3.28         2.96         33.00  ...      4   \n",
       "4     11.27      8.89     10.22         1.00         31.37  ...      5   \n",
       "\n",
       "  test_note_JVC avis_count_JVC avis_note_JVC  \\\n",
       "0            14          (687)          13.8   \n",
       "1            19            (3)            19   \n",
       "2            16         (3023)          17.4   \n",
       "3            15          (581)          16.5   \n",
       "4       no_data        no_data       no_data   \n",
       "\n",
       "                                     description_JVC Classification_Age_JVC  \\\n",
       "0  Editeur(s) / Développeur(s) Nintendo\\nSortie F...                 +7 ans   \n",
       "1  Editeur(s) / Développeur(s) Nintendo\\nSortie F...                 +3 ans   \n",
       "2  Editeur(s) / Développeur(s) Nintendo\\nSortie F...                 +3 ans   \n",
       "3  Editeur(s) / Développeur(s) Nintendo\\nSortie F...                 +3 ans   \n",
       "4                                            no_data                    NaN   \n",
       "\n",
       "                                 max_joueurs_JVC  \\\n",
       "0                              Jusqu'à 4 joueurs   \n",
       "1                                            NaN   \n",
       "2  4 joueurs en écran partagé, 12 joueurs online   \n",
       "3                              Jusqu'à 4 joueurs   \n",
       "4                                            NaN   \n",
       "\n",
       "                                 Mode_JVC                        Support_JVC  \\\n",
       "0                                     NaN                                DVD   \n",
       "1                         Jouable en solo  eShop Console Virtuelle Cartouche   \n",
       "2  Multi sur le même écran Multi en ligne                                DVD   \n",
       "3                                     NaN                                DVD   \n",
       "4                                     NaN                                NaN   \n",
       "\n",
       "                            Langue_JVC  \n",
       "0  Voix en français Textes en français  \n",
       "1                                  NaN  \n",
       "2                                  NaN  \n",
       "3  Voix en français Textes en français  \n",
       "4                                  NaN  \n",
       "\n",
       "[5 rows x 31 columns]"
      ]
     },
     "execution_count": 13,
     "metadata": {},
     "output_type": "execute_result"
    }
   ],
   "source": [
    "gaming_total.head()"
   ]
  },
  {
   "cell_type": "code",
   "execution_count": 14,
   "metadata": {},
   "outputs": [
    {
     "name": "stdout",
     "output_type": "stream",
     "text": [
      "<class 'pandas.core.frame.DataFrame'>\n",
      "Int64Index: 16472 entries, 0 to 16471\n",
      "Data columns (total 31 columns):\n",
      " #   Column                  Non-Null Count  Dtype  \n",
      "---  ------                  --------------  -----  \n",
      " 0   Name                    16472 non-null  object \n",
      " 1   Platform                16472 non-null  object \n",
      " 2   Year                    16201 non-null  float64\n",
      " 3   Genre                   16472 non-null  object \n",
      " 4   Publisher               16414 non-null  object \n",
      " 5   NA_Sales                16472 non-null  float64\n",
      " 6   EU_Sales                16472 non-null  float64\n",
      " 7   JP_Sales                16472 non-null  float64\n",
      " 8   Other_Sales             16472 non-null  float64\n",
      " 9   Global_Sales            16472 non-null  float64\n",
      " 10  developpeur_goo         1487 non-null   object \n",
      " 11  distributeur_goo        14 non-null     object \n",
      " 12  langue_goo              73 non-null     object \n",
      " 13  PEGI_goo                501 non-null    object \n",
      " 14  game_series_goo         511 non-null    object \n",
      " 15  game_mode_goo           839 non-null    object \n",
      " 16  Rank_x                  16472 non-null  int64  \n",
      " 17  developpeur_wiki        3085 non-null   object \n",
      " 18  langue_wiki             1432 non-null   object \n",
      " 19  PEGI_wiki               1081 non-null   object \n",
      " 20  game_mode_wiki          2828 non-null   object \n",
      " 21  Rank_y                  16472 non-null  int64  \n",
      " 22  test_note_JVC           13771 non-null  object \n",
      " 23  avis_count_JVC          13771 non-null  object \n",
      " 24  avis_note_JVC           13771 non-null  object \n",
      " 25  description_JVC         13751 non-null  object \n",
      " 26  Classification_Age_JVC  7014 non-null   object \n",
      " 27  max_joueurs_JVC         4119 non-null   object \n",
      " 28  Mode_JVC                3878 non-null   object \n",
      " 29  Support_JVC             7281 non-null   object \n",
      " 30  Langue_JVC              4552 non-null   object \n",
      "dtypes: float64(6), int64(2), object(23)\n",
      "memory usage: 4.0+ MB\n"
     ]
    }
   ],
   "source": [
    "gaming_total.info()"
   ]
  },
  {
   "attachments": {},
   "cell_type": "markdown",
   "metadata": {},
   "source": [
    "## Création du DF complet au format csv"
   ]
  },
  {
   "cell_type": "code",
   "execution_count": 15,
   "metadata": {},
   "outputs": [],
   "source": [
    "gaming_total.to_csv('gaming_total.csv')"
   ]
  }
 ],
 "metadata": {
  "kernelspec": {
   "display_name": "base",
   "language": "python",
   "name": "python3"
  },
  "language_info": {
   "codemirror_mode": {
    "name": "ipython",
    "version": 3
   },
   "file_extension": ".py",
   "mimetype": "text/x-python",
   "name": "python",
   "nbconvert_exporter": "python",
   "pygments_lexer": "ipython3",
   "version": "3.9.16"
  },
  "orig_nbformat": 4
 },
 "nbformat": 4,
 "nbformat_minor": 2
}
