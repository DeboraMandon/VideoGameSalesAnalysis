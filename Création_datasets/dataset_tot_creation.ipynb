{
 "cells": [
  {
   "attachments": {},
   "cell_type": "markdown",
   "metadata": {},
   "source": [
    "# Création du dataset global "
   ]
  },
  {
   "attachments": {},
   "cell_type": "markdown",
   "metadata": {},
   "source": [
    "## Importer les librairies"
   ]
  },
  {
   "cell_type": "code",
   "execution_count": 2,
   "metadata": {},
   "outputs": [],
   "source": [
    "import pandas as pd\n"
   ]
  },
  {
   "attachments": {},
   "cell_type": "markdown",
   "metadata": {},
   "source": [
    "### Obtenir l'info complète du DF"
   ]
  },
  {
   "cell_type": "code",
   "execution_count": 3,
   "metadata": {},
   "outputs": [],
   "source": [
    "pd.set_option('display.max_columns', None)\n",
    "pd.set_option('display.max_rows', None)\n",
    "#pd.set_option('display.max_colwidth', None)"
   ]
  },
  {
   "attachments": {},
   "cell_type": "markdown",
   "metadata": {},
   "source": [
    "## Importer les différents DF"
   ]
  },
  {
   "cell_type": "code",
   "execution_count": 4,
   "metadata": {},
   "outputs": [],
   "source": [
    "df_wiki=pd.read_csv('gaming_wiki_OK.csv')\n",
    "df_google=pd.read_csv('gaming_goo_OK.csv')"
   ]
  },
  {
   "cell_type": "code",
   "execution_count": 5,
   "metadata": {},
   "outputs": [],
   "source": [
    "df_wiki=df_wiki.drop(['Unnamed: 0'], axis=1)"
   ]
  },
  {
   "cell_type": "code",
   "execution_count": 6,
   "metadata": {},
   "outputs": [],
   "source": [
    "df_google=df_google.drop(['Unnamed: 0'], axis=1)"
   ]
  },
  {
   "attachments": {},
   "cell_type": "markdown",
   "metadata": {},
   "source": [
    "## Merger les datasets entre eux"
   ]
  },
  {
   "cell_type": "code",
   "execution_count": 7,
   "metadata": {},
   "outputs": [],
   "source": [
    "gaming_total=pd.merge(df_google, df_wiki, on=[\"Name\", \"Platform\", \"Year\", \"Genre\"])\n",
    "\n"
   ]
  },
  {
   "cell_type": "code",
   "execution_count": 8,
   "metadata": {},
   "outputs": [],
   "source": [
    "gaming_total.drop_duplicates(keep = 'first', inplace=True)"
   ]
  },
  {
   "cell_type": "code",
   "execution_count": 9,
   "metadata": {},
   "outputs": [
    {
     "data": {
      "text/plain": [
       "(16475, 29)"
      ]
     },
     "execution_count": 9,
     "metadata": {},
     "output_type": "execute_result"
    }
   ],
   "source": [
    "gaming_total.shape"
   ]
  },
  {
   "cell_type": "code",
   "execution_count": 10,
   "metadata": {},
   "outputs": [
    {
     "data": {
      "text/html": [
       "<div>\n",
       "<style scoped>\n",
       "    .dataframe tbody tr th:only-of-type {\n",
       "        vertical-align: middle;\n",
       "    }\n",
       "\n",
       "    .dataframe tbody tr th {\n",
       "        vertical-align: top;\n",
       "    }\n",
       "\n",
       "    .dataframe thead th {\n",
       "        text-align: right;\n",
       "    }\n",
       "</style>\n",
       "<table border=\"1\" class=\"dataframe\">\n",
       "  <thead>\n",
       "    <tr style=\"text-align: right;\">\n",
       "      <th></th>\n",
       "      <th>Name</th>\n",
       "      <th>Platform</th>\n",
       "      <th>Year</th>\n",
       "      <th>Genre</th>\n",
       "      <th>Publisher_x</th>\n",
       "      <th>NA_Sales_x</th>\n",
       "      <th>EU_Sales_x</th>\n",
       "      <th>JP_Sales_x</th>\n",
       "      <th>Other_Sales_x</th>\n",
       "      <th>Global_Sales_x</th>\n",
       "      <th>developpeur_goo</th>\n",
       "      <th>distributeur_goo</th>\n",
       "      <th>langue_goo</th>\n",
       "      <th>PEGI_goo</th>\n",
       "      <th>game_series_goo</th>\n",
       "      <th>game_mode_goo</th>\n",
       "      <th>developpeur_wiki</th>\n",
       "      <th>langue_wiki</th>\n",
       "      <th>PEGI_wiki</th>\n",
       "      <th>game_mode_wiki</th>\n",
       "    </tr>\n",
       "  </thead>\n",
       "  <tbody>\n",
       "    <tr>\n",
       "      <th>0</th>\n",
       "      <td>Wii Sports</td>\n",
       "      <td>Wii</td>\n",
       "      <td>2006.0</td>\n",
       "      <td>Sports</td>\n",
       "      <td>Nintendo</td>\n",
       "      <td>41.49</td>\n",
       "      <td>29.02</td>\n",
       "      <td>3.77</td>\n",
       "      <td>8.46</td>\n",
       "      <td>82.74</td>\n",
       "      <td>Nintendo, PLUS</td>\n",
       "      <td>NaN</td>\n",
       "      <td>NaN</td>\n",
       "      <td>NaN</td>\n",
       "      <td>NaN</td>\n",
       "      <td>NaN</td>\n",
       "      <td>Nintendo EAD</td>\n",
       "      <td>Multilingue</td>\n",
       "      <td>7+ ?</td>\n",
       "      <td>Un joueur\\nMultijoueur (de 2 à 4)</td>\n",
       "    </tr>\n",
       "    <tr>\n",
       "      <th>1</th>\n",
       "      <td>Super Mario Bros.</td>\n",
       "      <td>NES</td>\n",
       "      <td>1985.0</td>\n",
       "      <td>Platform</td>\n",
       "      <td>Nintendo</td>\n",
       "      <td>29.08</td>\n",
       "      <td>3.58</td>\n",
       "      <td>6.81</td>\n",
       "      <td>0.77</td>\n",
       "      <td>40.24</td>\n",
       "      <td>NaN</td>\n",
       "      <td>Universal Pictures</td>\n",
       "      <td>Anglais</td>\n",
       "      <td>NaN</td>\n",
       "      <td>NaN</td>\n",
       "      <td>NaN</td>\n",
       "      <td>NaN</td>\n",
       "      <td>NaN</td>\n",
       "      <td>NaN</td>\n",
       "      <td>NaN</td>\n",
       "    </tr>\n",
       "    <tr>\n",
       "      <th>2</th>\n",
       "      <td>Mario Kart Wii</td>\n",
       "      <td>Wii</td>\n",
       "      <td>2008.0</td>\n",
       "      <td>Racing</td>\n",
       "      <td>Nintendo</td>\n",
       "      <td>15.85</td>\n",
       "      <td>12.88</td>\n",
       "      <td>3.79</td>\n",
       "      <td>3.31</td>\n",
       "      <td>35.82</td>\n",
       "      <td>NaN</td>\n",
       "      <td>NaN</td>\n",
       "      <td>NaN</td>\n",
       "      <td>NaN</td>\n",
       "      <td>NaN</td>\n",
       "      <td>NaN</td>\n",
       "      <td>Nintendo EAD</td>\n",
       "      <td>Multilingue</td>\n",
       "      <td>3+ ?</td>\n",
       "      <td>Local\\n1 à 4 joueurs\\nEn ligne (jusqu'au 20 ma...</td>\n",
       "    </tr>\n",
       "    <tr>\n",
       "      <th>3</th>\n",
       "      <td>Wii Sports Resort</td>\n",
       "      <td>Wii</td>\n",
       "      <td>2009.0</td>\n",
       "      <td>Sports</td>\n",
       "      <td>Nintendo</td>\n",
       "      <td>15.75</td>\n",
       "      <td>11.01</td>\n",
       "      <td>3.28</td>\n",
       "      <td>2.96</td>\n",
       "      <td>33.00</td>\n",
       "      <td>Nintendo, Nintendo Entertainment Analysis &amp; De...</td>\n",
       "      <td>NaN</td>\n",
       "      <td>NaN</td>\n",
       "      <td>NaN</td>\n",
       "      <td>NaN</td>\n",
       "      <td>Multijoueur</td>\n",
       "      <td>NaN</td>\n",
       "      <td>NaN</td>\n",
       "      <td>NaN</td>\n",
       "      <td>NaN</td>\n",
       "    </tr>\n",
       "    <tr>\n",
       "      <th>4</th>\n",
       "      <td>Pokemon Red/Pokemon Blue</td>\n",
       "      <td>GB</td>\n",
       "      <td>1996.0</td>\n",
       "      <td>Role-Playing</td>\n",
       "      <td>Nintendo</td>\n",
       "      <td>11.27</td>\n",
       "      <td>8.89</td>\n",
       "      <td>10.22</td>\n",
       "      <td>1.00</td>\n",
       "      <td>31.37</td>\n",
       "      <td>NaN</td>\n",
       "      <td>NaN</td>\n",
       "      <td>NaN</td>\n",
       "      <td>NaN</td>\n",
       "      <td>NaN</td>\n",
       "      <td>NaN</td>\n",
       "      <td>NaN</td>\n",
       "      <td>NaN</td>\n",
       "      <td>NaN</td>\n",
       "      <td>NaN</td>\n",
       "    </tr>\n",
       "  </tbody>\n",
       "</table>\n",
       "</div>"
      ],
      "text/plain": [
       "                       Name Platform    Year         Genre Publisher_x  \\\n",
       "0                Wii Sports      Wii  2006.0        Sports    Nintendo   \n",
       "1         Super Mario Bros.      NES  1985.0      Platform    Nintendo   \n",
       "2            Mario Kart Wii      Wii  2008.0        Racing    Nintendo   \n",
       "3         Wii Sports Resort      Wii  2009.0        Sports    Nintendo   \n",
       "4  Pokemon Red/Pokemon Blue       GB  1996.0  Role-Playing    Nintendo   \n",
       "\n",
       "   NA_Sales_x  EU_Sales_x  JP_Sales_x  Other_Sales_x  Global_Sales_x  \\\n",
       "0       41.49       29.02        3.77           8.46           82.74   \n",
       "1       29.08        3.58        6.81           0.77           40.24   \n",
       "2       15.85       12.88        3.79           3.31           35.82   \n",
       "3       15.75       11.01        3.28           2.96           33.00   \n",
       "4       11.27        8.89       10.22           1.00           31.37   \n",
       "\n",
       "                                     developpeur_goo    distributeur_goo  \\\n",
       "0                                     Nintendo, PLUS                 NaN   \n",
       "1                                                NaN  Universal Pictures   \n",
       "2                                                NaN                 NaN   \n",
       "3  Nintendo, Nintendo Entertainment Analysis & De...                 NaN   \n",
       "4                                                NaN                 NaN   \n",
       "\n",
       "  langue_goo PEGI_goo game_series_goo game_mode_goo developpeur_wiki  \\\n",
       "0        NaN      NaN             NaN           NaN     Nintendo EAD   \n",
       "1    Anglais      NaN             NaN           NaN              NaN   \n",
       "2        NaN      NaN             NaN           NaN     Nintendo EAD   \n",
       "3        NaN      NaN             NaN   Multijoueur              NaN   \n",
       "4        NaN      NaN             NaN           NaN              NaN   \n",
       "\n",
       "   langue_wiki PEGI_wiki                                     game_mode_wiki  \n",
       "0  Multilingue      7+ ?                  Un joueur\\nMultijoueur (de 2 à 4)  \n",
       "1          NaN       NaN                                                NaN  \n",
       "2  Multilingue      3+ ?  Local\\n1 à 4 joueurs\\nEn ligne (jusqu'au 20 ma...  \n",
       "3          NaN       NaN                                                NaN  \n",
       "4          NaN       NaN                                                NaN  "
      ]
     },
     "execution_count": 10,
     "metadata": {},
     "output_type": "execute_result"
    }
   ],
   "source": [
    "gaming_total=gaming_total.drop(['description_google', 'Rank', 'Publisher_y', 'NA_Sales_y', 'EU_Sales_y', 'JP_Sales_y', 'Other_Sales_y', 'Global_Sales_y', 'description_wiki'], axis=1)\n",
    "gaming_total.head()"
   ]
  },
  {
   "cell_type": "code",
   "execution_count": 11,
   "metadata": {},
   "outputs": [
    {
     "name": "stdout",
     "output_type": "stream",
     "text": [
      "<class 'pandas.core.frame.DataFrame'>\n",
      "Int64Index: 16475 entries, 0 to 16476\n",
      "Data columns (total 20 columns):\n",
      " #   Column            Non-Null Count  Dtype  \n",
      "---  ------            --------------  -----  \n",
      " 0   Name              16475 non-null  object \n",
      " 1   Platform          16475 non-null  object \n",
      " 2   Year              16204 non-null  float64\n",
      " 3   Genre             16475 non-null  object \n",
      " 4   Publisher_x       16417 non-null  object \n",
      " 5   NA_Sales_x        16475 non-null  float64\n",
      " 6   EU_Sales_x        16475 non-null  float64\n",
      " 7   JP_Sales_x        16475 non-null  float64\n",
      " 8   Other_Sales_x     16475 non-null  float64\n",
      " 9   Global_Sales_x    16475 non-null  float64\n",
      " 10  developpeur_goo   1487 non-null   object \n",
      " 11  distributeur_goo  14 non-null     object \n",
      " 12  langue_goo        73 non-null     object \n",
      " 13  PEGI_goo          501 non-null    object \n",
      " 14  game_series_goo   511 non-null    object \n",
      " 15  game_mode_goo     839 non-null    object \n",
      " 16  developpeur_wiki  3088 non-null   object \n",
      " 17  langue_wiki       1432 non-null   object \n",
      " 18  PEGI_wiki         1084 non-null   object \n",
      " 19  game_mode_wiki    2831 non-null   object \n",
      "dtypes: float64(6), object(14)\n",
      "memory usage: 2.6+ MB\n"
     ]
    }
   ],
   "source": [
    "gaming_total.info()"
   ]
  },
  {
   "attachments": {},
   "cell_type": "markdown",
   "metadata": {},
   "source": [
    "## Création du DF complet au format csv"
   ]
  },
  {
   "cell_type": "code",
   "execution_count": 41,
   "metadata": {},
   "outputs": [],
   "source": [
    "gaming_total.to_csv('gaming_total.csv')"
   ]
  }
 ],
 "metadata": {
  "kernelspec": {
   "display_name": "base",
   "language": "python",
   "name": "python3"
  },
  "language_info": {
   "codemirror_mode": {
    "name": "ipython",
    "version": 3
   },
   "file_extension": ".py",
   "mimetype": "text/x-python",
   "name": "python",
   "nbconvert_exporter": "python",
   "pygments_lexer": "ipython3",
   "version": "3.9.16"
  },
  "orig_nbformat": 4
 },
 "nbformat": 4,
 "nbformat_minor": 2
}
